{
 "cells": [
  {
   "cell_type": "code",
   "execution_count": 8,
   "metadata": {
    "scrolled": true
   },
   "outputs": [],
   "source": [
    "from math import sin\n",
    "def compose(x,n):\n",
    "    ary = []\n",
    "    for i in range(n):\n",
    "        print(ary)\n",
    "        if i == 0:\n",
    "            ary += [sin(x)]\n",
    "        else:\n",
    "            ary += [sin(ary[-1])]\n",
    "    return ary"
   ]
  },
  {
   "cell_type": "code",
   "execution_count": 9,
   "metadata": {},
   "outputs": [
    {
     "name": "stdout",
     "output_type": "stream",
     "text": [
      "[]\n",
      "[0.8414709848078965]\n",
      "[0.8414709848078965, 0.7456241416655579]\n"
     ]
    },
    {
     "data": {
      "text/plain": [
       "[0.8414709848078965, 0.7456241416655579, 0.6784304773607402]"
      ]
     },
     "execution_count": 9,
     "metadata": {},
     "output_type": "execute_result"
    }
   ],
   "source": [
    "compose(1,3)"
   ]
  },
  {
   "cell_type": "code",
   "execution_count": null,
   "metadata": {},
   "outputs": [],
   "source": []
  }
 ],
 "metadata": {
  "kernelspec": {
   "display_name": "Python 3",
   "language": "python",
   "name": "python3"
  },
  "language_info": {
   "codemirror_mode": {
    "name": "ipython",
    "version": 3
   },
   "file_extension": ".py",
   "mimetype": "text/x-python",
   "name": "python",
   "nbconvert_exporter": "python",
   "pygments_lexer": "ipython3",
   "version": "3.7.3"
  }
 },
 "nbformat": 4,
 "nbformat_minor": 2
}
