{
 "cells": [
  {
   "cell_type": "code",
   "execution_count": 1,
   "metadata": {},
   "outputs": [],
   "source": [
    "# Dictionaries \n",
    "ex_dic = {}"
   ]
  },
  {
   "cell_type": "code",
   "execution_count": 4,
   "metadata": {},
   "outputs": [
    {
     "data": {
      "text/plain": [
       "dict"
      ]
     },
     "execution_count": 4,
     "metadata": {},
     "output_type": "execute_result"
    }
   ],
   "source": [
    "type(ex_dic)"
   ]
  },
  {
   "cell_type": "code",
   "execution_count": 28,
   "metadata": {},
   "outputs": [],
   "source": [
    "ex_dic[\"names\"] = [\"nik\",\"bob\",\"karen\"]\n",
    "ex_dic[\"ages\"] = [12,50,20]\n",
    "ex_dic[\"sub_dict\"] = {\"special\": 5,\"red\": 1}\n",
    "ex_dic[\"nik\"] = {\"name\":\"nikola pocuca\", \"age\":24 , \"YOB\":1995, \"Canada\": 1999}"
   ]
  },
  {
   "cell_type": "code",
   "execution_count": 7,
   "metadata": {},
   "outputs": [
    {
     "data": {
      "text/plain": [
       "{'names': ['nik', 'bob', 'karen']}"
      ]
     },
     "execution_count": 7,
     "metadata": {},
     "output_type": "execute_result"
    }
   ],
   "source": [
    "ex_dic"
   ]
  },
  {
   "cell_type": "code",
   "execution_count": 8,
   "metadata": {},
   "outputs": [
    {
     "data": {
      "text/plain": [
       "['nik', 'bob', 'karen']"
      ]
     },
     "execution_count": 8,
     "metadata": {},
     "output_type": "execute_result"
    }
   ],
   "source": [
    "ex_dic[\"names\"]"
   ]
  },
  {
   "cell_type": "code",
   "execution_count": 18,
   "metadata": {},
   "outputs": [
    {
     "name": "stdout",
     "output_type": "stream",
     "text": [
      "names\n",
      "ages\n"
     ]
    }
   ],
   "source": [
    "for key in ex_dic.keys():\n",
    "    print(key)"
   ]
  },
  {
   "cell_type": "code",
   "execution_count": 25,
   "metadata": {},
   "outputs": [
    {
     "data": {
      "text/plain": [
       "dict_keys(['names', 'ages', 'sub_dict'])"
      ]
     },
     "execution_count": 25,
     "metadata": {},
     "output_type": "execute_result"
    }
   ],
   "source": [
    "ex_dic.keys()"
   ]
  },
  {
   "cell_type": "code",
   "execution_count": 22,
   "metadata": {},
   "outputs": [
    {
     "data": {
      "text/plain": [
       "True"
      ]
     },
     "execution_count": 22,
     "metadata": {},
     "output_type": "execute_result"
    }
   ],
   "source": [
    "\"names\" in ex_dic.keys()"
   ]
  },
  {
   "cell_type": "code",
   "execution_count": 26,
   "metadata": {},
   "outputs": [
    {
     "data": {
      "text/plain": [
       "{'names': ['nik', 'bob', 'karen'],\n",
       " 'ages': [12, 50, 20],\n",
       " 'sub_dict': {'special': 5, 'red': 1}}"
      ]
     },
     "execution_count": 26,
     "metadata": {},
     "output_type": "execute_result"
    }
   ],
   "source": [
    "ex_dic"
   ]
  },
  {
   "cell_type": "code",
   "execution_count": 27,
   "metadata": {},
   "outputs": [
    {
     "data": {
      "text/plain": [
       "5"
      ]
     },
     "execution_count": 27,
     "metadata": {},
     "output_type": "execute_result"
    }
   ],
   "source": [
    "ex_dic[\"sub_dict\"][\"special\"]"
   ]
  },
  {
   "cell_type": "code",
   "execution_count": 32,
   "metadata": {},
   "outputs": [
    {
     "data": {
      "text/plain": [
       "1999"
      ]
     },
     "execution_count": 32,
     "metadata": {},
     "output_type": "execute_result"
    }
   ],
   "source": [
    "ex_dic[\"nik\"][\"Canada\"]"
   ]
  },
  {
   "cell_type": "code",
   "execution_count": 35,
   "metadata": {},
   "outputs": [
    {
     "data": {
      "text/plain": [
       "dict_keys(['name', 'age', 'YOB', 'Canada'])"
      ]
     },
     "execution_count": 35,
     "metadata": {},
     "output_type": "execute_result"
    }
   ],
   "source": [
    "ex_dic[\"nik\"].keys()\n"
   ]
  },
  {
   "cell_type": "code",
   "execution_count": 37,
   "metadata": {},
   "outputs": [],
   "source": [
    "ex_dic[1] = \"blah\""
   ]
  },
  {
   "cell_type": "code",
   "execution_count": 38,
   "metadata": {},
   "outputs": [
    {
     "data": {
      "text/plain": [
       "'blah'"
      ]
     },
     "execution_count": 38,
     "metadata": {},
     "output_type": "execute_result"
    }
   ],
   "source": [
    "ex_dic[1]"
   ]
  },
  {
   "cell_type": "code",
   "execution_count": 39,
   "metadata": {},
   "outputs": [
    {
     "data": {
      "text/plain": [
       "{'names': ['nik', 'bob', 'karen'],\n",
       " 'ages': [12, 50, 20],\n",
       " 'sub_dict': {'special': 5, 'red': 1},\n",
       " 'nik': {'name': 'nikola pocuca', 'age': 24, 'YOB': 1995, 'Canada': 1999},\n",
       " 1: 'blah'}"
      ]
     },
     "execution_count": 39,
     "metadata": {},
     "output_type": "execute_result"
    }
   ],
   "source": [
    "ex_dic"
   ]
  },
  {
   "cell_type": "code",
   "execution_count": 40,
   "metadata": {},
   "outputs": [],
   "source": [
    "import csv"
   ]
  },
  {
   "cell_type": "code",
   "execution_count": 42,
   "metadata": {},
   "outputs": [],
   "source": [
    "read_me = csv.reader(\"Sacramentorealestatetransactions.csv\")"
   ]
  },
  {
   "cell_type": "code",
   "execution_count": 51,
   "metadata": {},
   "outputs": [
    {
     "name": "stdout",
     "output_type": "stream",
     "text": [
      "Column names are street, city, zip, state, beds, baths, sq__ft, type, sale_date, price, latitude, longitude\n",
      "Processed 1 lines.\n"
     ]
    }
   ],
   "source": [
    "sacremento = {\"street\": [],\"lat\": [],\"long\": []}\n",
    "\n",
    "\n",
    "with open('Sacramentorealestatetransactions.csv') as csv_file:\n",
    "    csv_reader = csv.reader(csv_file, delimiter=',')\n",
    "    line_count = 0\n",
    "    for row in csv_reader:\n",
    "        if line_count == 0:\n",
    "            print(f'Column names are {\", \".join(row)}')\n",
    "            line_count += 1\n",
    "        else:\n",
    "            sacremento[\"street\"] = sacremento[\"street\"] + [row[0]]\n",
    "            sacremento[\"lat\"] = sacremento[\"lat\"] + [row[-2]]\n",
    "            sacremento[\"long\"] = sacremento[\"long\"] + [row[-1]]\n",
    "    print(f'Processed {line_count} lines.')"
   ]
  },
  {
   "cell_type": "code",
   "execution_count": 55,
   "metadata": {},
   "outputs": [],
   "source": [
    "#sacremento[\"long\"]\n",
    "count = 0\n",
    "for street_name in sacremento[\"street\"]:\n",
    "    sacremento[street_name] = [sacremento[\"lat\"][count], sacremento[\"long\"][count]]"
   ]
  },
  {
   "cell_type": "code",
   "execution_count": 58,
   "metadata": {},
   "outputs": [
    {
     "data": {
      "text/plain": [
       "['38.631913', '-121.434879']"
      ]
     },
     "execution_count": 58,
     "metadata": {},
     "output_type": "execute_result"
    }
   ],
   "source": [
    "\n",
    "sacremento[\"580 REGENCY PARK CIR\"]"
   ]
  },
  {
   "cell_type": "code",
   "execution_count": 1,
   "metadata": {},
   "outputs": [],
   "source": [
    "# TUTORIAL 6-2 \n",
    "# Dictionaries\n",
    "# Pandas. "
   ]
  },
  {
   "cell_type": "code",
   "execution_count": 2,
   "metadata": {},
   "outputs": [],
   "source": [
    "a = [1,2,34,5]"
   ]
  },
  {
   "cell_type": "code",
   "execution_count": 4,
   "metadata": {},
   "outputs": [
    {
     "data": {
      "text/plain": [
       "34"
      ]
     },
     "execution_count": 4,
     "metadata": {},
     "output_type": "execute_result"
    }
   ],
   "source": [
    "a[2]"
   ]
  },
  {
   "cell_type": "code",
   "execution_count": 62,
   "metadata": {},
   "outputs": [],
   "source": [
    "data_base = {}\n",
    "data_base[\"name\"] = \"nikola\"\n",
    "data_base[\"last_name\"] = \"pocuca\""
   ]
  },
  {
   "cell_type": "code",
   "execution_count": 63,
   "metadata": {},
   "outputs": [],
   "source": [
    "data_base[\"person\"] = {\"name\": \"bob\", \"age\":30, \"address\":\"main street 1280\"}"
   ]
  },
  {
   "cell_type": "code",
   "execution_count": 71,
   "metadata": {},
   "outputs": [],
   "source": [
    "data_base[\"some_list\"] = [10,340,50]"
   ]
  },
  {
   "cell_type": "code",
   "execution_count": 83,
   "metadata": {},
   "outputs": [],
   "source": [
    "data_base[1] = 2"
   ]
  },
  {
   "cell_type": "code",
   "execution_count": 88,
   "metadata": {},
   "outputs": [],
   "source": [
    "function_dictionary = {}"
   ]
  },
  {
   "cell_type": "code",
   "execution_count": 89,
   "metadata": {},
   "outputs": [],
   "source": [
    "def factorial(x):\n",
    "    if x <= 1:\n",
    "        return 1\n",
    "    else:\n",
    "        return (factorial(x-1)*x)"
   ]
  },
  {
   "cell_type": "code",
   "execution_count": 92,
   "metadata": {},
   "outputs": [],
   "source": [
    "function_dictionary[\"factorial\"] = factorial"
   ]
  },
  {
   "cell_type": "code",
   "execution_count": 45,
   "metadata": {},
   "outputs": [
    {
     "data": {
      "text/plain": [
       "{'name': 0, 'last_name': 0, 'age': 0, True: 0}"
      ]
     },
     "execution_count": 45,
     "metadata": {},
     "output_type": "execute_result"
    }
   ],
   "source": [
    "data_base"
   ]
  },
  {
   "cell_type": "code",
   "execution_count": 47,
   "metadata": {},
   "outputs": [],
   "source": [
    "del data_base[\"name\"]"
   ]
  },
  {
   "cell_type": "code",
   "execution_count": 49,
   "metadata": {},
   "outputs": [],
   "source": [
    "data_base.clear()"
   ]
  },
  {
   "cell_type": "code",
   "execution_count": 50,
   "metadata": {},
   "outputs": [
    {
     "data": {
      "text/plain": [
       "{}"
      ]
     },
     "execution_count": 50,
     "metadata": {},
     "output_type": "execute_result"
    }
   ],
   "source": [
    "data_base"
   ]
  },
  {
   "cell_type": "code",
   "execution_count": 52,
   "metadata": {},
   "outputs": [],
   "source": [
    "import pandas as pd"
   ]
  },
  {
   "cell_type": "code",
   "execution_count": 57,
   "metadata": {},
   "outputs": [],
   "source": [
    "data_base = pd.read_csv(\"~/Sacramentorealestatetransactions.csv\")"
   ]
  },
  {
   "cell_type": "code",
   "execution_count": 61,
   "metadata": {
    "scrolled": true
   },
   "outputs": [
    {
     "data": {
      "text/plain": [
       "0      38.631913\n",
       "1      38.478902\n",
       "2      38.618305\n",
       "3      38.616835\n",
       "4      38.519470\n",
       "5      38.662595\n",
       "6      38.681659\n",
       "7      38.535092\n",
       "8      38.621188\n",
       "9      38.700909\n",
       "10     38.637663\n",
       "11     38.470746\n",
       "12     38.618698\n",
       "13     38.482215\n",
       "14     38.672914\n",
       "15     38.700051\n",
       "16     38.689591\n",
       "17     38.679776\n",
       "18     38.612099\n",
       "19     38.689999\n",
       "20     38.707851\n",
       "21     38.468173\n",
       "22     38.702792\n",
       "23     38.628631\n",
       "24     38.701499\n",
       "25     38.709740\n",
       "26     38.537526\n",
       "27     38.476472\n",
       "28     38.558423\n",
       "29     38.472122\n",
       "         ...    \n",
       "955    38.737882\n",
       "956    38.694279\n",
       "957    38.259708\n",
       "958    38.444000\n",
       "959    38.722959\n",
       "960    38.467836\n",
       "961    38.451398\n",
       "962    38.508217\n",
       "963    38.715423\n",
       "964    38.390893\n",
       "965    38.424497\n",
       "966    38.793152\n",
       "967    38.665104\n",
       "968    38.289544\n",
       "969    38.696740\n",
       "970    38.631026\n",
       "971    38.629468\n",
       "972    38.703550\n",
       "973    38.697570\n",
       "974    38.703056\n",
       "975    38.389756\n",
       "976    38.897814\n",
       "977    38.467936\n",
       "978    38.445342\n",
       "979    38.417382\n",
       "980    38.457679\n",
       "981    38.499893\n",
       "982    38.708824\n",
       "983    38.417000\n",
       "984    38.655245\n",
       "Name: latitude, Length: 985, dtype: float64"
      ]
     },
     "execution_count": 61,
     "metadata": {},
     "output_type": "execute_result"
    }
   ],
   "source": []
  },
  {
   "cell_type": "code",
   "execution_count": null,
   "metadata": {},
   "outputs": [],
   "source": [
    "def work(time,has_deadline,day):\n",
    "    "
   ]
  }
 ],
 "metadata": {
  "kernelspec": {
   "display_name": "Python 3",
   "language": "python",
   "name": "python3"
  },
  "language_info": {
   "codemirror_mode": {
    "name": "ipython",
    "version": 3
   },
   "file_extension": ".py",
   "mimetype": "text/x-python",
   "name": "python",
   "nbconvert_exporter": "python",
   "pygments_lexer": "ipython3",
   "version": "3.7.3"
  }
 },
 "nbformat": 4,
 "nbformat_minor": 2
}
