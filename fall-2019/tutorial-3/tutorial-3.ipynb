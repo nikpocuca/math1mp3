{
 "cells": [
  {
   "cell_type": "code",
   "execution_count": 18,
   "metadata": {},
   "outputs": [],
   "source": [
    "def add_function(a, b):\n",
    "    \"\"\" the sum of two numbers\n",
    "    Parameters\n",
    "    ----------\n",
    "    a : num\n",
    "    b : num\n",
    "    Returns\n",
    "    -------\n",
    "    sum : num\n",
    "    The sum of a and b\n",
    "    Examples\n",
    "    --------\n",
    "    >>> add_function(2, 5)\n",
    "    7\n",
    "    >>> add_function(3, -1.4)\n",
    "    1.6 \n",
    "    \"\"\"\n",
    "    # sum of a + b\n",
    "    sum = a + b\n",
    "    return sum"
   ]
  },
  {
   "cell_type": "code",
   "execution_count": 13,
   "metadata": {},
   "outputs": [],
   "source": [
    "import math as m"
   ]
  },
  {
   "cell_type": "code",
   "execution_count": 16,
   "metadata": {},
   "outputs": [
    {
     "name": "stdout",
     "output_type": "stream",
     "text": [
      "Help on function add_function in module __main__:\n",
      "\n",
      "add_function(a, b)\n",
      "    the sum of two numbers\n",
      "    Parameters\n",
      "    ----------\n",
      "    a : num\n",
      "    b : num\n",
      "    Returns\n",
      "    -------\n",
      "    sum : num\n",
      "    The sum of a and b\n",
      "    Examples\n",
      "    --------\n",
      "    >>> add_function(2, 5)\n",
      "    7\n",
      "    >>> add_function(3, -1.4)\n",
      "    1.6\n",
      "\n"
     ]
    }
   ],
   "source": [
    "help(add_function)"
   ]
  },
  {
   "cell_type": "code",
   "execution_count": 58,
   "metadata": {},
   "outputs": [],
   "source": [
    "a = [1,2,3,4,5]\n",
    "def mutate(x):\n",
    "    a = 1\n",
    "    \n"
   ]
  },
  {
   "cell_type": "code",
   "execution_count": 59,
   "metadata": {},
   "outputs": [],
   "source": [
    "mutate(10)"
   ]
  },
  {
   "cell_type": "code",
   "execution_count": 99,
   "metadata": {},
   "outputs": [],
   "source": [
    "def factorial(x):\n",
    "    if type(x) != int:\n",
    "        return \"error you need to put in a number\"\n",
    "    if x <= 1:\n",
    "        return(1)\n",
    "    else:\n",
    "        return ( x*factorial(x-1))"
   ]
  },
  {
   "cell_type": "code",
   "execution_count": 62,
   "metadata": {},
   "outputs": [
    {
     "data": {
      "text/plain": [
       "120"
      ]
     },
     "execution_count": 62,
     "metadata": {},
     "output_type": "execute_result"
    }
   ],
   "source": [
    "factorial(5)"
   ]
  },
  {
   "cell_type": "code",
   "execution_count": 70,
   "metadata": {},
   "outputs": [],
   "source": [
    "a = 0\n",
    "for i in range(0,10):\n",
    "    a += i"
   ]
  },
  {
   "cell_type": "code",
   "execution_count": 71,
   "metadata": {},
   "outputs": [
    {
     "data": {
      "text/plain": [
       "45"
      ]
     },
     "execution_count": 71,
     "metadata": {},
     "output_type": "execute_result"
    }
   ],
   "source": [
    "a"
   ]
  },
  {
   "cell_type": "code",
   "execution_count": 77,
   "metadata": {},
   "outputs": [],
   "source": [
    "def sum_i(i):\n",
    "    if i <= 1:\n",
    "        return 1  \n",
    "    else:\n",
    "        return (i + sum_i(i-1))\n",
    "    "
   ]
  },
  {
   "cell_type": "code",
   "execution_count": 78,
   "metadata": {},
   "outputs": [
    {
     "data": {
      "text/plain": [
       "45"
      ]
     },
     "execution_count": 78,
     "metadata": {},
     "output_type": "execute_result"
    }
   ],
   "source": [
    "sum_i(9)"
   ]
  },
  {
   "cell_type": "code",
   "execution_count": 80,
   "metadata": {},
   "outputs": [],
   "source": [
    "def checkTrue(x,f):\n",
    "    if x < 20:\n",
    "        return x\n",
    "    else:\n",
    "        return checkTrue(f(x-1),f)"
   ]
  },
  {
   "cell_type": "code",
   "execution_count": 82,
   "metadata": {},
   "outputs": [],
   "source": [
    "def my_function(x):\n",
    "    print(x)\n",
    "    return x"
   ]
  },
  {
   "cell_type": "code",
   "execution_count": 84,
   "metadata": {},
   "outputs": [
    {
     "name": "stdout",
     "output_type": "stream",
     "text": [
      "29\n",
      "28\n",
      "27\n",
      "26\n",
      "25\n",
      "24\n",
      "23\n",
      "22\n",
      "21\n",
      "20\n",
      "19\n"
     ]
    },
    {
     "data": {
      "text/plain": [
       "19"
      ]
     },
     "execution_count": 84,
     "metadata": {},
     "output_type": "execute_result"
    }
   ],
   "source": [
    "checkTrue(30,my_function)"
   ]
  },
  {
   "cell_type": "code",
   "execution_count": 87,
   "metadata": {},
   "outputs": [
    {
     "name": "stdout",
     "output_type": "stream",
     "text": [
      "30\n",
      "29\n",
      "28\n",
      "27\n",
      "26\n",
      "25\n",
      "24\n",
      "23\n",
      "22\n",
      "21\n",
      "20\n"
     ]
    }
   ],
   "source": [
    "x = 30\n",
    "while x >= 20:\n",
    "    print(x)\n",
    "    x -= 1"
   ]
  },
  {
   "cell_type": "code",
   "execution_count": 91,
   "metadata": {},
   "outputs": [
    {
     "name": "stdout",
     "output_type": "stream",
     "text": [
      "30\n",
      "29\n",
      "28\n",
      "27\n",
      "26\n",
      "25\n",
      "24\n",
      "23\n",
      "22\n",
      "21\n",
      "20\n"
     ]
    }
   ],
   "source": [
    "x = 30\n",
    "for i in range(0,100):\n",
    "    if x < 20:\n",
    "        break\n",
    "    print(x)\n",
    "    x-=1"
   ]
  },
  {
   "cell_type": "code",
   "execution_count": 100,
   "metadata": {},
   "outputs": [
    {
     "data": {
      "text/plain": [
       "'error you need to put in a number'"
      ]
     },
     "execution_count": 100,
     "metadata": {},
     "output_type": "execute_result"
    }
   ],
   "source": [
    "factorial(-1)\n",
    "factorial(0)\n",
    "factorial(25)\n",
    "# dont type in strings \n",
    "factorial(\"test\")"
   ]
  },
  {
   "cell_type": "code",
   "execution_count": 101,
   "metadata": {},
   "outputs": [
    {
     "data": {
      "text/plain": [
       "3628800"
      ]
     },
     "execution_count": 101,
     "metadata": {},
     "output_type": "execute_result"
    }
   ],
   "source": [
    "m.factorial(10)"
   ]
  },
  {
   "cell_type": "code",
   "execution_count": 107,
   "metadata": {},
   "outputs": [
    {
     "name": "stdout",
     "output_type": "stream",
     "text": [
      "term: 0\n",
      "result 1\n",
      "term: 1\n",
      "result -1\n",
      "term: 2\n",
      "result 1\n",
      "term: 3\n",
      "result -1\n",
      "term: 4\n",
      "result 1\n",
      "term: 5\n",
      "result -1\n",
      "term: 6\n",
      "result 1\n",
      "term: 7\n",
      "result -1\n",
      "term: 8\n",
      "result 1\n",
      "term: 9\n",
      "result -1\n"
     ]
    }
   ],
   "source": [
    "for i in range(0,10):\n",
    "    print(\"term:\",i)\n",
    "    # make sure you put a bracket around -1\n",
    "    print(\"result\",(-1)**i)\n",
    "    "
   ]
  },
  {
   "cell_type": "code",
   "execution_count": null,
   "metadata": {},
   "outputs": [],
   "source": []
  },
  {
   "cell_type": "code",
   "execution_count": null,
   "metadata": {},
   "outputs": [],
   "source": []
  }
 ],
 "metadata": {
  "kernelspec": {
   "display_name": "Python 3",
   "language": "python",
   "name": "python3"
  },
  "language_info": {
   "codemirror_mode": {
    "name": "ipython",
    "version": 3
   },
   "file_extension": ".py",
   "mimetype": "text/x-python",
   "name": "python",
   "nbconvert_exporter": "python",
   "pygments_lexer": "ipython3",
   "version": "3.7.3"
  }
 },
 "nbformat": 4,
 "nbformat_minor": 2
}
