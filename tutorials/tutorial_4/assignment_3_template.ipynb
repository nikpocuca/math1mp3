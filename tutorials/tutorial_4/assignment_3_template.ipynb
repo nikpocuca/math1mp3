{
 "cells": [
  {
   "cell_type": "code",
   "execution_count": null,
   "metadata": {},
   "outputs": [],
   "source": [
    "# question #1 from homework assignment #3\n",
    "def rational_fun(coeff_tuple):\n",
    "    \"\"\"\n",
    "    Insert your docstring here.\n",
    "    \n",
    "    \"\"\"\n",
    "    \n",
    "    # insert your code for this function here.\n",
    "    \n",
    "    \n",
    "    \n",
    "# some test cases to try out\n",
    "fun_1 = rational_fun((1, 2, 3, 4))\n",
    "print(fun_1(3))  # should print 0.38461538461538464\n",
    "fun_2 = rational_fun((2.0, -1.5, 0, 0))\n",
    "print(fun_2(3.5)) # should print 0\n",
    "fun_3 = rational_fun(((3.2, -10, 5, 10)))\n",
    "print(fun_3(-2.0)) # should print \"undefined\""
   ]
  },
  {
   "cell_type": "code",
   "execution_count": null,
   "metadata": {},
   "outputs": [],
   "source": [
    "# question #2 from homework assignment #3\n",
    "import math\n",
    "\n",
    "def fun_call(f, num_list):\n",
    "    \"\"\"\n",
    "    Insert your docstring here.\n",
    "    \n",
    "    \"\"\"\n",
    "    \n",
    "    # insert your code for this function here.\n",
    "    \n",
    "    \n",
    "    \n",
    "# some test cases to try out\n",
    "print(fun_call(abs, [-1, 3, -4.5, 0])) # should print (1, 3, 4.5, 0)\n",
    "print(fun_call(math.exp, [0, 1, 2, 3])) # should print (1.0, 2.718281828459045, 7.38905609893065, 20.085536923187668)\n",
    "print(fun_call(math.sin, [0, math.pi/2, math.pi*3/2])) # should print (0.0, 1.0, -1.0)\n",
    "    "
   ]
  },
  {
   "cell_type": "code",
   "execution_count": null,
   "metadata": {},
   "outputs": [],
   "source": [
    "# question #3 from homework assignment #3\n",
    "\n",
    "def break_sum(big_num):\n",
    "    \"\"\"\n",
    "    Insert your docstring here.\n",
    "    \n",
    "    \"\"\"\n",
    "    \n",
    "    # insert your code for this function here.\n",
    "    \n",
    "    \n",
    "    \n",
    "# some test cases to try out\n",
    "print(break_sum(123456)) # should print 579\n",
    "print(break_sum(123)) # should print -1\n",
    "print(break_sum(100000)) # should print 100"
   ]
  }
 ],
 "metadata": {
  "kernelspec": {
   "display_name": "Python 3",
   "language": "python",
   "name": "python3"
  },
  "language_info": {
   "codemirror_mode": {
    "name": "ipython",
    "version": 3
   },
   "file_extension": ".py",
   "mimetype": "text/x-python",
   "name": "python",
   "nbconvert_exporter": "python",
   "pygments_lexer": "ipython3",
   "version": "3.6.7"
  }
 },
 "nbformat": 4,
 "nbformat_minor": 2
}
