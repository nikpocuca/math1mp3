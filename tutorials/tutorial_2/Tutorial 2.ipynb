{
 "cells": [
  {
   "cell_type": "code",
   "execution_count": null,
   "metadata": {},
   "outputs": [],
   "source": [
    "## Lists \n",
    "\n",
    "# append\n",
    "# sort\n",
    "# pop\n",
    "# index \n",
    "# count\n",
    "# reverse \n",
    "# index \n",
    "# extend \n",
    "# remove \n",
    "# range \n",
    "\n",
    "## Loops and Conditionals \n",
    "\n",
    "# if \n",
    "# break\n",
    "# for \n",
    "# while \n",
    "\n",
    "\n",
    "## Splitting Using all above ^\n",
    "\n",
    "# split \n",
    "# using for \n",
    "# array splitting \n",
    "\n"
   ]
  }
 ],
 "metadata": {
  "kernelspec": {
   "display_name": "Python 3",
   "language": "python",
   "name": "python3"
  },
  "language_info": {
   "codemirror_mode": {
    "name": "ipython",
    "version": 3
   },
   "file_extension": ".py",
   "mimetype": "text/x-python",
   "name": "python",
   "nbconvert_exporter": "python",
   "pygments_lexer": "ipython3",
   "version": "3.6.7"
  }
 },
 "nbformat": 4,
 "nbformat_minor": 2
}
