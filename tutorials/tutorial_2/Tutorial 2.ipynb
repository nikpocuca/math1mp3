{
 "cells": [
  {
   "cell_type": "code",
   "execution_count": null,
   "metadata": {},
   "outputs": [],
   "source": [
    "## Array \n",
    "\n",
    "b = [1,5,4,2,4,6,4]\n",
    "a = [1,54,3,2]\n",
    "\n",
    "# append\n",
    "b = b + a"
   ]
  },
  {
   "cell_type": "code",
   "execution_count": 16,
   "metadata": {},
   "outputs": [
    {
     "ename": "TypeError",
     "evalue": "'<' not supported between instances of 'int' and 'str'",
     "output_type": "error",
     "traceback": [
      "\u001b[0;31m---------------------------------------------------------------------------\u001b[0m",
      "\u001b[0;31mTypeError\u001b[0m                                 Traceback (most recent call last)",
      "\u001b[0;32m<ipython-input-16-fca2bf49dddf>\u001b[0m in \u001b[0;36m<module>\u001b[0;34m\u001b[0m\n\u001b[1;32m      2\u001b[0m \u001b[0;34m\u001b[0m\u001b[0m\n\u001b[1;32m      3\u001b[0m \u001b[0ma\u001b[0m \u001b[0;34m=\u001b[0m \u001b[0;34m[\u001b[0m\u001b[0;34m\" \"\u001b[0m\u001b[0;34m,\u001b[0m\u001b[0;34m\"!\"\u001b[0m\u001b[0;34m,\u001b[0m\u001b[0;34m\"b\"\u001b[0m\u001b[0;34m,\u001b[0m\u001b[0;34m\"d\"\u001b[0m\u001b[0;34m,\u001b[0m\u001b[0;34m\"10\"\u001b[0m\u001b[0;34m,\u001b[0m\u001b[0;34m\"20\"\u001b[0m\u001b[0;34m,\u001b[0m\u001b[0;36m19\u001b[0m\u001b[0;34m]\u001b[0m\u001b[0;34m\u001b[0m\u001b[0;34m\u001b[0m\u001b[0m\n\u001b[0;32m----> 4\u001b[0;31m \u001b[0ma\u001b[0m\u001b[0;34m.\u001b[0m\u001b[0msort\u001b[0m\u001b[0;34m(\u001b[0m\u001b[0;34m)\u001b[0m\u001b[0;34m\u001b[0m\u001b[0;34m\u001b[0m\u001b[0m\n\u001b[0m\u001b[1;32m      5\u001b[0m \u001b[0mprint\u001b[0m\u001b[0;34m(\u001b[0m\u001b[0ma\u001b[0m\u001b[0;34m)\u001b[0m\u001b[0;34m\u001b[0m\u001b[0;34m\u001b[0m\u001b[0m\n",
      "\u001b[0;31mTypeError\u001b[0m: '<' not supported between instances of 'int' and 'str'"
     ]
    }
   ],
   "source": [
    "# sort\n",
    "\n",
    "a = [\" \",\"!\",\"b\",\"d\",\"10\",\"20\"]\n",
    "a.sort()\n",
    "print(a)"
   ]
  },
  {
   "cell_type": "code",
   "execution_count": 20,
   "metadata": {},
   "outputs": [
    {
     "name": "stdout",
     "output_type": "stream",
     "text": [
      "['!', '20', 'b', 'd']\n",
      "['!', 'b', 'd']\n"
     ]
    }
   ],
   "source": [
    "# pop\n",
    "\n",
    "print(a)\n",
    "a.pop(1) == 10\n",
    "print(a)"
   ]
  },
  {
   "cell_type": "code",
   "execution_count": 27,
   "metadata": {},
   "outputs": [],
   "source": [
    "# index \n",
    "a.index('b')\n",
    "a = [1,2,\"b\",\"c\",\"b\",True]\n",
    "#print(a.index('b'))\n",
    "#a.pop(a.index('b'))\n",
    "#print(a.index('b'))"
   ]
  },
  {
   "cell_type": "code",
   "execution_count": null,
   "metadata": {},
   "outputs": [],
   "source": [
    "# count\n",
    "print(a.count(True))\n",
    "\n",
    "True + True"
   ]
  },
  {
   "cell_type": "code",
   "execution_count": null,
   "metadata": {},
   "outputs": [],
   "source": [
    "# reverse \n",
    "\n",
    "a.reverse()\n",
    "#print(a.reverse[0])\n",
    "\n",
    "# extend"
   ]
  },
  {
   "cell_type": "code",
   "execution_count": 46,
   "metadata": {},
   "outputs": [
    {
     "name": "stdout",
     "output_type": "stream",
     "text": [
      "[2, 1, 1, 1, 3]\n",
      "1\n"
     ]
    }
   ],
   "source": [
    "# remove \n",
    "a = [1,2,1,1,1,3]\n",
    "b = a.remove(1)\n",
    "print(a)\n",
    "a.remove(1)\n",
    "print(a.pop(1))"
   ]
  },
  {
   "cell_type": "code",
   "execution_count": 49,
   "metadata": {},
   "outputs": [
    {
     "name": "stdout",
     "output_type": "stream",
     "text": [
      "0\n",
      "1\n",
      "2\n",
      "3\n",
      "4\n",
      "5\n",
      "6\n",
      "7\n",
      "8\n",
      "9\n"
     ]
    }
   ],
   "source": [
    "# range \n",
    "\n",
    "for i in range(10):\n",
    "    print(i)"
   ]
  },
  {
   "cell_type": "code",
   "execution_count": 8,
   "metadata": {},
   "outputs": [
    {
     "name": "stdout",
     "output_type": "stream",
     "text": [
      "Nik\n",
      "Bob\n",
      "Sarah\n",
      "Kevin\n"
     ]
    }
   ],
   "source": [
    "## Loops and Conditionals \n",
    "\n",
    "\n",
    "# Queue : Lists serve as a queue, as in First come First serve. \n",
    "\n",
    "line = [\"Nik\",\"Bob\",\"Sarah\",\"Kevin\"]\n",
    "\n",
    "# Nik get served because hes first. \n",
    "\n",
    "\n",
    "\n",
    "while True:\n",
    "    if line == []:\n",
    "        break; \n",
    "    else: \n",
    "        print(line.pop(0))\n",
    "        # You serve each of the person exhausting the line until the line is empty. \n",
    "\n"
   ]
  },
  {
   "cell_type": "code",
   "execution_count": 9,
   "metadata": {},
   "outputs": [
    {
     "name": "stdout",
     "output_type": "stream",
     "text": [
      "coffee\n",
      "macbook\n",
      "clothes\n",
      "blanket\n"
     ]
    }
   ],
   "source": [
    "# Stack : The list now is going to be used as a stack, as in last in first out. \n",
    "\n",
    "# My Bed is unclean \n",
    "stack = [\"blanket\",\"clothes\",\"macbook\",\"coffee\"]\n",
    "\n",
    "#Clean my stack \n",
    "while True:\n",
    "    if stack == []:\n",
    "        break; \n",
    "    else: \n",
    "        print(stack.pop(-1))\n",
    "        "
   ]
  },
  {
   "cell_type": "code",
   "execution_count": 71,
   "metadata": {},
   "outputs": [
    {
     "name": "stdout",
     "output_type": "stream",
     "text": [
      "1\n",
      "2\n",
      "3\n",
      "4\n",
      "5\n",
      "6\n",
      "7\n",
      "8\n",
      "9\n",
      "10\n",
      "11\n",
      "12\n",
      "13\n",
      "14\n",
      "15\n",
      "16\n",
      "17\n",
      "18\n",
      "19\n",
      "20\n",
      "21\n",
      "22\n",
      "23\n",
      "24\n",
      "25\n",
      "26\n",
      "27\n",
      "28\n",
      "29\n",
      "30\n",
      "31\n",
      "32\n",
      "33\n",
      "34\n",
      "35\n",
      "36\n",
      "37\n",
      "38\n",
      "39\n",
      "40\n",
      "41\n",
      "42\n",
      "43\n",
      "44\n",
      "45\n",
      "46\n",
      "47\n",
      "48\n",
      "49\n",
      "50\n",
      "51\n",
      "52\n",
      "53\n",
      "54\n",
      "55\n",
      "56\n",
      "57\n",
      "58\n",
      "59\n",
      "60\n",
      "61\n",
      "62\n",
      "63\n",
      "64\n",
      "65\n",
      "66\n",
      "67\n",
      "68\n",
      "69\n",
      "70\n",
      "71\n",
      "72\n",
      "73\n",
      "74\n",
      "75\n",
      "76\n",
      "77\n",
      "78\n",
      "79\n",
      "80\n",
      "81\n",
      "82\n",
      "83\n",
      "84\n",
      "85\n",
      "86\n",
      "87\n",
      "88\n",
      "89\n",
      "90\n",
      "91\n",
      "92\n",
      "93\n",
      "94\n",
      "95\n",
      "96\n",
      "97\n",
      "98\n",
      "99\n",
      "100\n"
     ]
    }
   ],
   "source": [
    "Control = True\n",
    "count = 0\n",
    "while Control:\n",
    "    count +=1\n",
    "    print(count)\n",
    "    if count == 100:\n",
    "        Control = False;"
   ]
  },
  {
   "cell_type": "code",
   "execution_count": null,
   "metadata": {},
   "outputs": [],
   "source": [
    "# break\n",
    "# for \n",
    "# while "
   ]
  },
  {
   "cell_type": "code",
   "execution_count": 84,
   "metadata": {},
   "outputs": [
    {
     "name": "stdout",
     "output_type": "stream",
     "text": [
      "Hamilton\n"
     ]
    }
   ],
   "source": [
    "## Splitting Using all above ^\n",
    "\n",
    "\n",
    "database = \"Name,Nik,Age,24,Year,1995,School,McMaster,POR,Hamilton\"\n",
    "\n",
    "result = database.split(',')\n",
    "\n",
    "\n",
    "KeyArray = []\n",
    "ValueArray = []\n",
    "\n",
    "\n",
    "for i in range(len(result)):\n",
    "    if i % 2 == 0:\n",
    "        KeyArray += [result[i]]\n",
    "        #print(result[i])\n",
    "    else:\n",
    "        ValueArray += [result[i]]\n",
    "        \n",
    "nameofPerson = ValueArray[KeyArray.index(\"POR\")]\n",
    "print(nameofPerson)\n",
    "# split \n",
    "# using for \n",
    "# array splitting "
   ]
  },
  {
   "cell_type": "code",
   "execution_count": 9,
   "metadata": {},
   "outputs": [
    {
     "data": {
      "text/plain": [
       "<function list.sort>"
      ]
     },
     "execution_count": 9,
     "metadata": {},
     "output_type": "execute_result"
    }
   ],
   "source": [
    "a.sort"
   ]
  },
  {
   "cell_type": "code",
   "execution_count": 88,
   "metadata": {},
   "outputs": [
    {
     "data": {
      "text/plain": [
       "range(0, 100)"
      ]
     },
     "execution_count": 88,
     "metadata": {},
     "output_type": "execute_result"
    }
   ],
   "source": [
    "range(100)"
   ]
  },
  {
   "cell_type": "code",
   "execution_count": 39,
   "metadata": {},
   "outputs": [],
   "source": [
    "## Lists \n",
    "\n",
    "ToDo = [1,2,5,6,2,7,3,2,10,True,True]\n",
    "ToDoString = [\"19345\",\"Letters\",\"abc\",\"!\",\"./\"]\n",
    "\n"
   ]
  },
  {
   "cell_type": "code",
   "execution_count": null,
   "metadata": {},
   "outputs": [],
   "source": [
    "# append\n",
    "ToDo.append(1)\n",
    "print(ToDo)"
   ]
  },
  {
   "cell_type": "code",
   "execution_count": null,
   "metadata": {},
   "outputs": [],
   "source": [
    "# sort\n",
    "ToDo.sort()\n",
    "ToDoString.sort()"
   ]
  },
  {
   "cell_type": "code",
   "execution_count": 24,
   "metadata": {},
   "outputs": [
    {
     "name": "stdout",
     "output_type": "stream",
     "text": [
      "None\n"
     ]
    }
   ],
   "source": [
    "# pop\n",
    " ToDo.pop(2) == 5\n",
    "\n",
    "# remove \n",
    " print(ToDo.remove(2))"
   ]
  },
  {
   "cell_type": "code",
   "execution_count": 31,
   "metadata": {
    "scrolled": true
   },
   "outputs": [
    {
     "data": {
      "text/plain": [
       "5"
      ]
     },
     "execution_count": 31,
     "metadata": {},
     "output_type": "execute_result"
    }
   ],
   "source": [
    "# index\n",
    "\n",
    "ToDo.index(2)\n",
    "ToDo.remove(2)\n",
    "ToDo.index(2)"
   ]
  },
  {
   "cell_type": "code",
   "execution_count": 41,
   "metadata": {},
   "outputs": [
    {
     "data": {
      "text/plain": [
       "3"
      ]
     },
     "execution_count": 41,
     "metadata": {},
     "output_type": "execute_result"
    }
   ],
   "source": [
    "# count\n",
    "ToDo.count(True)"
   ]
  },
  {
   "cell_type": "code",
   "execution_count": 44,
   "metadata": {},
   "outputs": [
    {
     "name": "stdout",
     "output_type": "stream",
     "text": [
      "[True, True, 10, 2, 3, 7, 2, 6, 5, 2, 1]\n"
     ]
    }
   ],
   "source": [
    "# reverse \n",
    "ToDo.reverse()\n",
    "print(ToDo)"
   ]
  },
  {
   "cell_type": "code",
   "execution_count": 47,
   "metadata": {},
   "outputs": [],
   "source": [
    "# extend \n",
    "\n",
    "ToDo.extend([\"extra\",\"stuff\"])\n",
    "\n",
    "ToDo += [\"more stuff\"]"
   ]
  },
  {
   "cell_type": "code",
   "execution_count": 51,
   "metadata": {},
   "outputs": [
    {
     "name": "stdout",
     "output_type": "stream",
     "text": [
      "-10\n",
      "-9\n",
      "-8\n",
      "-7\n",
      "-6\n",
      "-5\n",
      "-4\n",
      "-3\n",
      "-2\n",
      "-1\n",
      "0\n",
      "1\n",
      "2\n",
      "3\n",
      "4\n",
      "5\n",
      "6\n",
      "7\n",
      "8\n",
      "9\n"
     ]
    }
   ],
   "source": [
    "# range \n",
    "\n",
    "for i in range(-10,10):\n",
    "    print(i)\n"
   ]
  },
  {
   "cell_type": "code",
   "execution_count": null,
   "metadata": {},
   "outputs": [],
   "source": [
    "## Loops and Conditionals \n",
    "\n",
    "# if \n",
    "\n",
    "a = 1\n",
    "\n",
    "if a == 1 and a == True:\n",
    "    print(\"Ran\")"
   ]
  },
  {
   "cell_type": "code",
   "execution_count": 60,
   "metadata": {},
   "outputs": [
    {
     "name": "stdout",
     "output_type": "stream",
     "text": [
      "1\n",
      "2\n",
      "3\n",
      "4\n",
      "5\n"
     ]
    }
   ],
   "source": [
    "# break\n",
    "# for \n",
    "\n",
    "count = 0\n",
    "\n",
    "for i in range(100):\n",
    "    count+=1\n",
    "    print(count)\n",
    "    if count == 5:\n",
    "        break"
   ]
  },
  {
   "cell_type": "code",
   "execution_count": null,
   "metadata": {},
   "outputs": [],
   "source": [
    "# while \n",
    "count = 0\n",
    "while True: \n",
    "    count += 1\n",
    "    print(count)\n",
    "    if count == 10:\n",
    "        break"
   ]
  },
  {
   "cell_type": "code",
   "execution_count": null,
   "metadata": {},
   "outputs": [],
   "source": [
    "# Queues \n",
    "\n",
    "Line = [\"Nik\",\"Sarah\",\"Bob\"]\n",
    "\n",
    "for person in Line:\n",
    "    print(\"Serviced Person: \" + person)\n",
    "    print(Line)\n",
    "    \n",
    "# whats going on, for later: "
   ]
  },
  {
   "cell_type": "code",
   "execution_count": 78,
   "metadata": {},
   "outputs": [
    {
     "name": "stdout",
     "output_type": "stream",
     "text": [
      "Coffee\n",
      "['Coffee', 'Clothes', 'Blanket', 'Pillow']\n",
      "Clothes\n",
      "['Coffee', 'Clothes', 'Pillow']\n",
      "Pillow\n"
     ]
    },
    {
     "ename": "IndexError",
     "evalue": "pop index out of range",
     "output_type": "error",
     "traceback": [
      "\u001b[0;31m---------------------------------------------------------------------------\u001b[0m",
      "\u001b[0;31mIndexError\u001b[0m                                Traceback (most recent call last)",
      "\u001b[0;32m<ipython-input-78-c6bd3d5e5696>\u001b[0m in \u001b[0;36m<module>\u001b[0;34m\u001b[0m\n\u001b[1;32m      8\u001b[0m     \u001b[0mprint\u001b[0m\u001b[0;34m(\u001b[0m\u001b[0mBed\u001b[0m\u001b[0;34m[\u001b[0m\u001b[0mind\u001b[0m\u001b[0;34m]\u001b[0m\u001b[0;34m)\u001b[0m\u001b[0;34m\u001b[0m\u001b[0;34m\u001b[0m\u001b[0m\n\u001b[1;32m      9\u001b[0m     \u001b[0mind\u001b[0m \u001b[0;34m+=\u001b[0m \u001b[0;36m1\u001b[0m\u001b[0;34m\u001b[0m\u001b[0;34m\u001b[0m\u001b[0m\n\u001b[0;32m---> 10\u001b[0;31m     \u001b[0mBed\u001b[0m\u001b[0;34m.\u001b[0m\u001b[0mpop\u001b[0m\u001b[0;34m(\u001b[0m\u001b[0mind\u001b[0m\u001b[0;34m)\u001b[0m\u001b[0;34m\u001b[0m\u001b[0;34m\u001b[0m\u001b[0m\n\u001b[0m\u001b[1;32m     11\u001b[0m     \u001b[0mprint\u001b[0m\u001b[0;34m(\u001b[0m\u001b[0mBed\u001b[0m\u001b[0;34m)\u001b[0m\u001b[0;34m\u001b[0m\u001b[0;34m\u001b[0m\u001b[0m\n\u001b[1;32m     12\u001b[0m     \u001b[0;32mif\u001b[0m \u001b[0mBed\u001b[0m \u001b[0;34m==\u001b[0m \u001b[0;34m[\u001b[0m\u001b[0;34m]\u001b[0m\u001b[0;34m:\u001b[0m\u001b[0;34m\u001b[0m\u001b[0;34m\u001b[0m\u001b[0m\n",
      "\u001b[0;31mIndexError\u001b[0m: pop index out of range"
     ]
    }
   ],
   "source": [
    "# Stacks\n",
    "\n",
    "# My Bed is unclean \n",
    "stack = [\"blanket\",\"clothes\",\"macbook\",\"coffee\"]\n",
    "\n",
    "#Clean my stack \n",
    "while True:\n",
    "    if stack == []:\n",
    "        break; \n",
    "    else: \n",
    "        print(stack.pop(-1))"
   ]
  },
  {
   "cell_type": "code",
   "execution_count": 97,
   "metadata": {},
   "outputs": [
    {
     "name": "stdout",
     "output_type": "stream",
     "text": [
      "['Name', 'Nik', 'Age', '24', 'POR', 'Hamilton', 'Year', '1995', 'School', 'McMaster']\n"
     ]
    }
   ],
   "source": [
    "## Splitting Using all above ^\n",
    "\n",
    "# split \n",
    "\n",
    "database = \"Name,Nik,Age,24,POR,Hamilton,Year,1995,School,McMaster\"\n",
    "\n",
    "splitted = database.split(',')\n",
    "\n",
    "KeyArray = []\n",
    "ValueArray = []\n",
    "print(splitted)"
   ]
  },
  {
   "cell_type": "code",
   "execution_count": 99,
   "metadata": {},
   "outputs": [
    {
     "name": "stdout",
     "output_type": "stream",
     "text": [
      "1995\n"
     ]
    }
   ],
   "source": [
    "\n",
    "for i in range(len(splitted)):\n",
    "    if i % 2 == 0:\n",
    "        KeyArray += [splitted[i]]\n",
    "        #print(KeyArray)\n",
    "        #print(result[i])\n",
    "    else:\n",
    "        #print(ValueArray)\n",
    "        ValueArray += [splitted[i]]\n",
    "\n",
    "        \n",
    "systemEntry = ValueArray[KeyArray.index(\"Year\")]\n",
    "print(systemEntry)\n",
    "\n",
    "\n",
    "\n",
    "# using for \n",
    "# array splitting"
   ]
  },
  {
   "cell_type": "code",
   "execution_count": 107,
   "metadata": {},
   "outputs": [
    {
     "data": {
      "text/plain": [
       "''"
      ]
     },
     "execution_count": 107,
     "metadata": {},
     "output_type": "execute_result"
    }
   ],
   "source": [
    "name = \"NikPocuca\"\n",
    "\n",
    "name[5:2] "
   ]
  },
  {
   "cell_type": "code",
   "execution_count": 137,
   "metadata": {},
   "outputs": [],
   "source": [
    "import random as r\n",
    "import matplotlib.pyplot as plt\n",
    "\n"
   ]
  },
  {
   "cell_type": "code",
   "execution_count": 138,
   "metadata": {},
   "outputs": [],
   "source": [
    "def RandomWalk():\n",
    "    start_x = 0\n",
    "    start_y = 0\n",
    "    moves = []\n",
    "    for i in range(100):\n",
    "        move = r.randint(0,3)\n",
    "        if move == 0:\n",
    "            start_x += -1\n",
    "        if move == 1:\n",
    "            start_x += 1\n",
    "        if move == 2:\n",
    "            start_y += 1\n",
    "        if move == 3:\n",
    "            start_y += -1\n",
    "            \n",
    "    endLocation = [start_x,start_y]\n",
    "    return(endLocation)\n",
    "\n",
    "results = []\n",
    "for i in range(1000):\n",
    "    results += [RandomWalk()]\n",
    "    "
   ]
  },
  {
   "cell_type": "code",
   "execution_count": 139,
   "metadata": {},
   "outputs": [
    {
     "data": {
      "image/png": "[encoded data removed]",
      "text/plain": [
       "<Figure size 432x288 with 1 Axes>"
      ]
     },
     "metadata": {
      "needs_background": "light"
     },
     "output_type": "display_data"
    }
   ],
   "source": [
    "RandomWalk()"
   ]
  },
  {
   "cell_type": "code",
   "execution_count": 132,
   "metadata": {},
   "outputs": [
    {
     "data": {
      "text/plain": [
       "(array([  6.,  25., 108., 171., 221., 221., 163.,  66.,  16.,   3.]),\n",
       " array([-28. , -22.2, -16.4, -10.6,  -4.8,   1. ,   6.8,  12.6,  18.4,\n",
       "         24.2,  30. ]),\n",
       " <a list of 10 Patch objects>)"
      ]
     },
     "execution_count": 132,
     "metadata": {},
     "output_type": "execute_result"
    },
    {
     "data": {
      "image/png": "[encoded data removed]",
      "text/plain": [
       "<Figure size 432x288 with 1 Axes>"
      ]
     },
     "metadata": {
      "needs_background": "light"
     },
     "output_type": "display_data"
    }
   ],
   "source": [
    "import matplotlib.pyplot as mplot\n",
    "\n",
    "mplot.hist(results)\n",
    "\n",
    "\n",
    "#print(results)"
   ]
  },
  {
   "cell_type": "code",
   "execution_count": 140,
   "metadata": {},
   "outputs": [],
   "source": [
    "a = 5"
   ]
  },
  {
   "cell_type": "code",
   "execution_count": 142,
   "metadata": {},
   "outputs": [
    {
     "name": "stdout",
     "output_type": "stream",
     "text": [
      "True\n"
     ]
    }
   ],
   "source": [
    "print( 3 <= a and a <= 6)"
   ]
  },
  {
   "cell_type": "code",
   "execution_count": 148,
   "metadata": {},
   "outputs": [],
   "source": [
    "import random as r\n",
    "\n",
    "def RandomWalk():\n",
    "    moves = []\n",
    "    for i in range(10):\n",
    "        moves += [r.randint(0,1)]\n",
    "\n",
    "    #print(moves)\n",
    "\n",
    "    startingLocation = 0\n",
    "\n",
    "    for move in moves:\n",
    "        if move == 0:\n",
    "            startingLocation += 1\n",
    "        else:\n",
    "            startingLocation += -1\n",
    "    endLoc = startingLocation \n",
    "    return endLoc\n"
   ]
  },
  {
   "cell_type": "code",
   "execution_count": 150,
   "metadata": {},
   "outputs": [
    {
     "data": {
      "text/plain": [
       "0"
      ]
     },
     "execution_count": 150,
     "metadata": {},
     "output_type": "execute_result"
    }
   ],
   "source": [
    "RandomWalk()\n"
   ]
  },
  {
   "cell_type": "code",
   "execution_count": null,
   "metadata": {},
   "outputs": [],
   "source": [
    "|"
   ]
  }
 ],
 "metadata": {
  "kernelspec": {
   "display_name": "Python 3",
   "language": "python",
   "name": "python3"
  },
  "language_info": {
   "codemirror_mode": {
    "name": "ipython",
    "version": 3
   },
   "file_extension": ".py",
   "mimetype": "text/x-python",
   "name": "python",
   "nbconvert_exporter": "python",
   "pygments_lexer": "ipython3",
   "version": "3.6.7"
  }
 },
 "nbformat": 4,
 "nbformat_minor": 2
}
