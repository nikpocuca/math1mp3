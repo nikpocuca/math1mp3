{
 "cells": [
  {
   "cell_type": "code",
   "execution_count": 35,
   "metadata": {},
   "outputs": [],
   "source": [
    "from sympy import sieve\n",
    "import matplotlib.pyplot as plt\n",
    "\n"
   ]
  },
  {
   "cell_type": "code",
   "execution_count": 36,
   "metadata": {},
   "outputs": [],
   "source": [
    "\n",
    "def primewalk(n=100,draw_plot=True):\n",
    "    \"\"\" Compute and draw 'prime walk' plot for primes <n\n",
    "        http://tinyurl.com/primewalk\n",
    "    \"\"\"\n",
    "    ## get magic list of primes\n",
    "    primes = list(sieve.primerange(1,n))\n",
    "    primes.insert(0,1) # had to include the number 1 at the\n",
    "    # front of the prime list to make this work (MV)\n",
    "\n",
    "    ## initialize; set starting point and direction\n",
    "    ## (horizontal, to the right)\n",
    "    x = [0]\n",
    "    y = [0]\n",
    "    direction = \"right\"\n",
    "    for i in range(1,len(primes)):\n",
    "        pdiff = primes[i]-primes[i-1]\n",
    "        if direction==\"right\":\n",
    "            x.append(x[i-1]+pdiff)\n",
    "            y.append(y[i-1])\n",
    "            direction=\"down\"\n",
    "        elif direction==\"down\":\n",
    "            x.append(x[i-1])\n",
    "            y.append(y[i-1]-pdiff)\n",
    "            direction=\"left\"\n",
    "        elif direction==\"left\":\n",
    "            x.append(x[i-1]-pdiff)\n",
    "            y.append(y[i-1])\n",
    "            direction=\"up\"\n",
    "        elif direction==\"up\":\n",
    "            x.append(x[i-1])\n",
    "            y.append(y[i-1]+pdiff)\n",
    "            direction=\"right\"\n",
    "    if (draw_plot):\n",
    "        fig, ax = plt.subplots()\n",
    "        ax.plot(x,y)\n",
    "        plt.show()\n",
    "    return(None)\n"
   ]
  },
  {
   "cell_type": "code",
   "execution_count": null,
   "metadata": {},
   "outputs": [],
   "source": [
    " primewalk(10000 , True)"
   ]
  },
  {
   "cell_type": "code",
   "execution_count": 29,
   "metadata": {},
   "outputs": [],
   "source": [
    "import random as r\n",
    "\n",
    "def RandomWalk():\n",
    "    moves = []\n",
    "    for i in range(10):\n",
    "        moves += [r.randint(0,1)]\n",
    "\n",
    "    #print(moves)\n",
    "\n",
    "    startingLocation = 0\n",
    "\n",
    "    for move in moves:\n",
    "        if move == 0:\n",
    "            startingLocation += 1\n",
    "        else:\n",
    "            startingLocation += -1\n",
    "\n",
    "    endLoc = startingLocation \n",
    "    return endLoc\n",
    "\n",
    "EndLocations = []\n",
    "for i in range(10000):\n",
    "    EndLocations += [RandomWalk()]"
   ]
  },
  {
   "cell_type": "code",
   "execution_count": 22,
   "metadata": {},
   "outputs": [
    {
     "ename": "AttributeError",
     "evalue": "module 'matplotlib' has no attribute 'pyplot'",
     "output_type": "error",
     "traceback": [
      "\u001b[0;31m---------------------------------------------------------------------------\u001b[0m",
      "\u001b[0;31mAttributeError\u001b[0m                            Traceback (most recent call last)",
      "\u001b[0;32m<ipython-input-22-7537bd67dacc>\u001b[0m in \u001b[0;36m<module>\u001b[0;34m\u001b[0m\n\u001b[1;32m      1\u001b[0m \u001b[0;32mimport\u001b[0m \u001b[0mmatplotlib\u001b[0m\u001b[0;34m\u001b[0m\u001b[0;34m\u001b[0m\u001b[0m\n\u001b[1;32m      2\u001b[0m \u001b[0;34m\u001b[0m\u001b[0m\n\u001b[0;32m----> 3\u001b[0;31m \u001b[0mmplot\u001b[0m\u001b[0;34m.\u001b[0m\u001b[0mpyplot\u001b[0m\u001b[0;34m.\u001b[0m\u001b[0mhist\u001b[0m\u001b[0;34m(\u001b[0m\u001b[0mEndLocations\u001b[0m\u001b[0;34m)\u001b[0m\u001b[0;34m\u001b[0m\u001b[0;34m\u001b[0m\u001b[0m\n\u001b[0m",
      "\u001b[0;31mAttributeError\u001b[0m: module 'matplotlib' has no attribute 'pyplot'"
     ]
    }
   ],
   "source": [
    "import matplotlib \n",
    "\n",
    "mplot.pyplot.hist(EndLocations)"
   ]
  },
  {
   "cell_type": "code",
   "execution_count": 31,
   "metadata": {},
   "outputs": [
    {
     "data": {
      "text/plain": [
       "(array([   9.,    0.,    0.,    0.,    0.,    0.,    0.,    0.,    0.,\n",
       "           0.,  103.,    0.,    0.,    0.,    0.,    0.,    0.,    0.,\n",
       "           0.,    0.,  441.,    0.,    0.,    0.,    0.,    0.,    0.,\n",
       "           0.,    0.,    0., 1186.,    0.,    0.,    0.,    0.,    0.,\n",
       "           0.,    0.,    0.,    0., 2029.,    0.,    0.,    0.,    0.,\n",
       "           0.,    0.,    0.,    0.,    0., 2467.,    0.,    0.,    0.,\n",
       "           0.,    0.,    0.,    0.,    0.,    0., 2076.,    0.,    0.,\n",
       "           0.,    0.,    0.,    0.,    0.,    0.,    0., 1132.,    0.,\n",
       "           0.,    0.,    0.,    0.,    0.,    0.,    0.,    0.,  455.,\n",
       "           0.,    0.,    0.,    0.,    0.,    0.,    0.,    0.,    0.,\n",
       "          93.,    0.,    0.,    0.,    0.,    0.,    0.,    0.,    0.,\n",
       "           9.]),\n",
       " array([-10. ,  -9.8,  -9.6,  -9.4,  -9.2,  -9. ,  -8.8,  -8.6,  -8.4,\n",
       "         -8.2,  -8. ,  -7.8,  -7.6,  -7.4,  -7.2,  -7. ,  -6.8,  -6.6,\n",
       "         -6.4,  -6.2,  -6. ,  -5.8,  -5.6,  -5.4,  -5.2,  -5. ,  -4.8,\n",
       "         -4.6,  -4.4,  -4.2,  -4. ,  -3.8,  -3.6,  -3.4,  -3.2,  -3. ,\n",
       "         -2.8,  -2.6,  -2.4,  -2.2,  -2. ,  -1.8,  -1.6,  -1.4,  -1.2,\n",
       "         -1. ,  -0.8,  -0.6,  -0.4,  -0.2,   0. ,   0.2,   0.4,   0.6,\n",
       "          0.8,   1. ,   1.2,   1.4,   1.6,   1.8,   2. ,   2.2,   2.4,\n",
       "          2.6,   2.8,   3. ,   3.2,   3.4,   3.6,   3.8,   4. ,   4.2,\n",
       "          4.4,   4.6,   4.8,   5. ,   5.2,   5.4,   5.6,   5.8,   6. ,\n",
       "          6.2,   6.4,   6.6,   6.8,   7. ,   7.2,   7.4,   7.6,   7.8,\n",
       "          8. ,   8.2,   8.4,   8.6,   8.8,   9. ,   9.2,   9.4,   9.6,\n",
       "          9.8,  10. ]),\n",
       " <a list of 100 Patch objects>)"
      ]
     },
     "execution_count": 31,
     "metadata": {},
     "output_type": "execute_result"
    },
    {
     "data": {
      "image/png": "[encoded data removed]",
      "text/plain": [
       "<Figure size 432x288 with 1 Axes>"
      ]
     },
     "metadata": {
      "needs_background": "light"
     },
     "output_type": "display_data"
    }
   ],
   "source": [
    "plt.hist(EndLocations,bins = 100)"
   ]
  },
  {
   "cell_type": "code",
   "execution_count": 24,
   "metadata": {},
   "outputs": [],
   "source": [
    "import matplotlib.pyplot as plt"
   ]
  },
  {
   "cell_type": "code",
   "execution_count": null,
   "metadata": {},
   "outputs": [],
   "source": []
  }
 ],
 "metadata": {
  "kernelspec": {
   "display_name": "Python 3",
   "language": "python",
   "name": "python3"
  },
  "language_info": {
   "codemirror_mode": {
    "name": "ipython",
    "version": 3
   },
   "file_extension": ".py",
   "mimetype": "text/x-python",
   "name": "python",
   "nbconvert_exporter": "python",
   "pygments_lexer": "ipython3",
   "version": "3.6.7"
  }
 },
 "nbformat": 4,
 "nbformat_minor": 2
}
