{
 "cells": [
  {
   "cell_type": "code",
   "execution_count": 35,
   "metadata": {},
   "outputs": [],
   "source": [
    "from sympy import sieve\n",
    "import matplotlib.pyplot as plt\n",
    "\n"
   ]
  },
  {
   "cell_type": "code",
   "execution_count": 36,
   "metadata": {},
   "outputs": [],
   "source": [
    "\n",
    "def primewalk(n=100,draw_plot=True):\n",
    "    \"\"\" Compute and draw 'prime walk' plot for primes <n\n",
    "        http://tinyurl.com/primewalk\n",
    "    \"\"\"\n",
    "    ## get magic list of primes\n",
    "    primes = list(sieve.primerange(1,n))\n",
    "    primes.insert(0,1) # had to include the number 1 at the\n",
    "    # front of the prime list to make this work (MV)\n",
    "\n",
    "    ## initialize; set starting point and direction\n",
    "    ## (horizontal, to the right)\n",
    "    x = [0]\n",
    "    y = [0]\n",
    "    direction = \"right\"\n",
    "    for i in range(1,len(primes)):\n",
    "        pdiff = primes[i]-primes[i-1]\n",
    "        if direction==\"right\":\n",
    "            x.append(x[i-1]+pdiff)\n",
    "            y.append(y[i-1])\n",
    "            direction=\"down\"\n",
    "        elif direction==\"down\":\n",
    "            x.append(x[i-1])\n",
    "            y.append(y[i-1]-pdiff)\n",
    "            direction=\"left\"\n",
    "        elif direction==\"left\":\n",
    "            x.append(x[i-1]-pdiff)\n",
    "            y.append(y[i-1])\n",
    "            direction=\"up\"\n",
    "        elif direction==\"up\":\n",
    "            x.append(x[i-1])\n",
    "            y.append(y[i-1]+pdiff)\n",
    "            direction=\"right\"\n",
    "    if (draw_plot):\n",
    "        fig, ax = plt.subplots()\n",
    "        ax.plot(x,y)\n",
    "        plt.show()\n",
    "    return(None)\n"
   ]
  },
  {
   "cell_type": "code",
   "execution_count": 39,
   "metadata": {},
   "outputs": [
    {
     "data": {
      "image/png": "[encoded data removed]",
      "text/plain": [
       "<Figure size 432x288 with 1 Axes>"
      ]
     },
     "metadata": {
      "needs_background": "light"
     },
     "output_type": "display_data"
    }
   ],
   "source": [
    " primewalk(10\n",
    "           , True)"
   ]
  },
  {
   "cell_type": "code",
   "execution_count": 29,
   "metadata": {},
   "outputs": [],
   "source": [
    "import random as r\n",
    "\n",
    "def RandomWalk():\n",
    "    moves = []\n",
    "    for i in range(10):\n",
    "        moves += [r.randint(0,1)]\n",
    "\n",
    "    #print(moves)\n",
    "\n",
    "    startingLocation = 0\n",
    "\n",
    "    for move in moves:\n",
    "        if move == 0:\n",
    "            startingLocation += 1\n",
    "        else:\n",
    "            startingLocation += -1\n",
    "\n",
    "    endLoc = startingLocation \n",
    "    return endLoc\n",
    "\n",
    "EndLocations = []\n",
    "for i in range(10000):\n",
    "    EndLocations += [RandomWalk()]"
   ]
  },
  {
   "cell_type": "code",
   "execution_count": 22,
   "metadata": {},
   "outputs": [
    {
     "ename": "AttributeError",
     "evalue": "module 'matplotlib' has no attribute 'pyplot'",
     "output_type": "error",
     "traceback": [
      "\u001b[0;31m---------------------------------------------------------------------------\u001b[0m",
      "\u001b[0;31mAttributeError\u001b[0m                            Traceback (most recent call last)",
      "\u001b[0;32m<ipython-input-22-7537bd67dacc>\u001b[0m in \u001b[0;36m<module>\u001b[0;34m\u001b[0m\n\u001b[1;32m      1\u001b[0m \u001b[0;32mimport\u001b[0m \u001b[0mmatplotlib\u001b[0m\u001b[0;34m\u001b[0m\u001b[0;34m\u001b[0m\u001b[0m\n\u001b[1;32m      2\u001b[0m \u001b[0;34m\u001b[0m\u001b[0m\n\u001b[0;32m----> 3\u001b[0;31m \u001b[0mmplot\u001b[0m\u001b[0;34m.\u001b[0m\u001b[0mpyplot\u001b[0m\u001b[0;34m.\u001b[0m\u001b[0mhist\u001b[0m\u001b[0;34m(\u001b[0m\u001b[0mEndLocations\u001b[0m\u001b[0;34m)\u001b[0m\u001b[0;34m\u001b[0m\u001b[0;34m\u001b[0m\u001b[0m\n\u001b[0m",
      "\u001b[0;31mAttributeError\u001b[0m: module 'matplotlib' has no attribute 'pyplot'"
     ]
    }
   ],
   "source": [
    "import matplotlib \n",
    "\n",
    "mplot.pyplot.hist(EndLocations)"
   ]
  },
  {
   "cell_type": "code",
   "execution_count": 41,
   "metadata": {},
   "outputs": [
    {
     "data": {
      "text/plain": [
       "(array([   9.,  103.,  441., 1186., 2029., 2467., 2076., 1132.,  455.,\n",
       "         102.]),\n",
       " array([-10.,  -8.,  -6.,  -4.,  -2.,   0.,   2.,   4.,   6.,   8.,  10.]),\n",
       " <a list of 10 Patch objects>)"
      ]
     },
     "execution_count": 41,
     "metadata": {},
     "output_type": "execute_result"
    },
    {
     "data": {
      "image/png": "[encoded data removed]",
      "text/plain": [
       "<Figure size 432x288 with 1 Axes>"
      ]
     },
     "metadata": {
      "needs_background": "light"
     },
     "output_type": "display_data"
    }
   ],
   "source": [
    "plt.hist(EndLocations,bins = 10)"
   ]
  },
  {
   "cell_type": "code",
   "execution_count": 24,
   "metadata": {},
   "outputs": [],
   "source": [
    "import matplotlib.pyplot as plt"
   ]
  },
  {
   "cell_type": "code",
   "execution_count": null,
   "metadata": {},
   "outputs": [],
   "source": []
  }
 ],
 "metadata": {
  "kernelspec": {
   "display_name": "Python 3",
   "language": "python",
   "name": "python3"
  },
  "language_info": {
   "codemirror_mode": {
    "name": "ipython",
    "version": 3
   },
   "file_extension": ".py",
   "mimetype": "text/x-python",
   "name": "python",
   "nbconvert_exporter": "python",
   "pygments_lexer": "ipython3",
   "version": "3.6.7"
  }
 },
 "nbformat": 4,
 "nbformat_minor": 2
}
