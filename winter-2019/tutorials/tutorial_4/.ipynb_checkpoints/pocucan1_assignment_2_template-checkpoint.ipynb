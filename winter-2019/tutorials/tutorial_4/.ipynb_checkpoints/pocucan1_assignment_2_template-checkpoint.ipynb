{
 "cells": [
  {
   "cell_type": "code",
   "execution_count": 2,
   "metadata": {},
   "outputs": [
    {
     "name": "stdout",
     "output_type": "stream",
     "text": [
      "None\n",
      "None\n",
      "None\n",
      "Help on function capital in module __main__:\n",
      "\n",
      "capital(str_list)\n",
      "    Put your docstring for this function here.\n",
      "\n"
     ]
    }
   ],
   "source": [
    "# question #1 from assignment #2\n",
    "def capital(str_list):\n",
    "    \"\"\"\n",
    "    capital is a function with arguement array str_list\n",
    "     \n",
    "    \"\"\"\n",
    "    # put your code for this function here\n",
    "    \n",
    "\n",
    "# test cases\n",
    "print(capital([\"abc\", \"Hello\", \"hi\"])) # should print False\n",
    "print(capital([\"Monty\", \"Python\"])) # should print True\n",
    "print(capital([\"123\", \"ABC\"])) # should print False\n",
    "help(capital)\n",
    "    \n",
    "    "
   ]
  },
  {
   "cell_type": "code",
   "execution_count": null,
   "metadata": {},
   "outputs": [],
   "source": [
    "# question #2 from assignment #2\n",
    "def remove_dup(input_list):\n",
    "    \"\"\"\n",
    "     Put your docstring for this function here.\n",
    "     \n",
    "    \"\"\"\n",
    "    # put your code for this function here\n",
    "    \n",
    "\n",
    "# test cases\n",
    "print(remove_dup([1, 1, 0, \"abc\", \"def\", \"abc\", -1.2, -1.2])) # should print [1, 0, \"abc\", \"def\", -1.2]\n",
    "print(remove_dup([\"hello\", \"world\"])) # should print [\"hello\", \"world\"] \n",
    "    \n",
    "    "
   ]
  },
  {
   "cell_type": "code",
   "execution_count": null,
   "metadata": {},
   "outputs": [],
   "source": [
    "# question #3 from assignment #2\n",
    "import math  #  math module functions may be used for this question, but not necessarily\n",
    "def quad_solve(a, b, c):\n",
    "    \"\"\"\n",
    "     Put your docstring for this function here.\n",
    "     \n",
    "    \"\"\"\n",
    "    # put your code for this function here\n",
    "    \n",
    "# test cases\n",
    "print(quad_solve(1, 1.0, -2))  # should print [-2.0, 1.0]\n",
    "print(quad_solve(1, 1, 1)) # should print \"no solution\"\n",
    "print(quad_solve(1, -7, 12.25))  # should print [3.5, 3.5]\n"
   ]
  },
  {
   "cell_type": "code",
   "execution_count": null,
   "metadata": {},
   "outputs": [],
   "source": [
    "# question #4 from assignment #2\n",
    "def sum_harm(n):\n",
    "    \"\"\"\n",
    "     Put your docstring for this function here.\n",
    "     \n",
    "    \"\"\"\n",
    "    # put your code for this function here\n",
    "    \n",
    "# test cases\n",
    "print(sum_harm(3))  # should print 1.8333333333333333\n",
    "print(sum_harm(10)) # should print 2.9289682539682538\n",
    "print(sum_harm(-5)) # should print 0.0\n",
    "    "
   ]
  },
  {
   "cell_type": "code",
   "execution_count": null,
   "metadata": {},
   "outputs": [],
   "source": [
    "# question #5 from assignment #2\n",
    "def multi_repeat(word, k):\n",
    "    \"\"\"\n",
    "     Put your docstring for this function here.\n",
    "     \n",
    "    \"\"\"\n",
    "    # put your code for this function here\n",
    "    \n",
    "# test cases\n",
    "print(multi_repeat(\"xxyxyaaxabc\", 2))  # should print \"xya\"\n",
    "print(multi_repeat(\"xxyxyaaxabc\", 5))  # should print \"\"\n",
    "print(multi_repeat(\"1234abc1234\", 1))  # should print \"1234abc\"\n",
    "\n",
    "\n",
    "    "
   ]
  }
 ],
 "metadata": {
  "kernelspec": {
   "display_name": "Python 3",
   "language": "python",
   "name": "python3"
  },
  "language_info": {
   "codemirror_mode": {
    "name": "ipython",
    "version": 3
   },
   "file_extension": ".py",
   "mimetype": "text/x-python",
   "name": "python",
   "nbconvert_exporter": "python",
   "pygments_lexer": "ipython3",
   "version": "3.6.7"
  }
 },
 "nbformat": 4,
 "nbformat_minor": 2
}
