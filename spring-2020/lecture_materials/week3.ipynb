{
 "nbformat": 4,
 "nbformat_minor": 2,
 "metadata": {
  "language_info": {
   "name": "python",
   "codemirror_mode": {
    "name": "ipython",
    "version": 2
   },
   "version": "2.7.17-final"
  },
  "orig_nbformat": 2,
  "file_extension": ".py",
  "mimetype": "text/x-python",
  "name": "python",
  "npconvert_exporter": "python",
  "pygments_lexer": "ipython2",
  "version": 2,
  "kernelspec": {
   "name": "python36964bit77ed9f1b5a914a5a918bb9131d7fd757",
   "display_name": "Python 3.6.9 64-bit"
  }
 },
 "cells": [
  {
   "cell_type": "code",
   "execution_count": 3,
   "metadata": {},
   "outputs": [],
   "source": [
    "# Week 3 NO TUTORIALS ON MONDAY "
   ]
  },
  {
   "cell_type": "code",
   "execution_count": 21,
   "metadata": {},
   "outputs": [
    {
     "output_type": "stream",
     "name": "stdout",
     "text": "[1, 3, 5, 7, 9, 11]\n"
    }
   ],
   "source": [
    "# Advanced Higher Order Functions, Map, Filter, Reduce, Anonymous Functions.\n",
    "\n",
    "a = [1,2,3,4,5,6]\n",
    "b = []\n",
    "\n",
    "for i in a:\n",
    "    b += [i + 1]\n",
    "\n",
    "#print(b)\n",
    "\n",
    "def add_one(x):\n",
    "    return (x + 1)\n",
    "def sub_one(x):\n",
    "    return (x -1)\n",
    "\n",
    "def my_funct(x):\n",
    "    return (x*2 - 1)\n",
    "\n",
    "# c = list(map(add_one,a))\n",
    "# c = list(map(sub_one,a))\n",
    "c = list(map(my_funct,a))\n",
    "print(c)"
   ]
  },
  {
   "cell_type": "code",
   "execution_count": 29,
   "metadata": {},
   "outputs": [
    {
     "output_type": "stream",
     "name": "stdout",
     "text": "['kin_id100', 'racecar_id100', '9fdsfgjriojbi_id100', '24534_id100', 15]\n"
    }
   ],
   "source": [
    "my_strings = [\"nik\",\"racecar\",\"ibjoirjgfsdf9\",\"43542\",5]\n",
    "\n",
    "\n",
    "def my_reverse(x):\n",
    "    if type(x) == str:\n",
    "        return(x[::-1])\n",
    "    else:\n",
    "        return(x)\n",
    "\n",
    "\n",
    "def add_id(x):\n",
    "    y = my_reverse(x)\n",
    "    if type(y) == int:\n",
    "        return(y + 10)\n",
    "    else:\n",
    "        return(y + \"_id100\")\n",
    "\n",
    "\n",
    "reverse_strings = list(map(add_id,my_strings))\n",
    "print(reverse_strings)\n",
    ""
   ]
  },
  {
   "cell_type": "code",
   "execution_count": 33,
   "metadata": {},
   "outputs": [
    {
     "output_type": "stream",
     "name": "stdout",
     "text": "[1.0, 2.0, 3.0, 4.0, 5.0, 6.0, 7.0, 8.0]\n"
    }
   ],
   "source": [
    "my_int = [1,2,3,4,5,6,7,8]\n",
    "\n",
    "def conv_to_float(x):\n",
    "    return(float(x))\n",
    "\n",
    "my_float = list(map(float,my_int))\n",
    "\n",
    "#print(my_float)\n",
    "\n"
   ]
  },
  {
   "cell_type": "code",
   "execution_count": 71,
   "metadata": {},
   "outputs": [],
   "source": [
    "import random\n",
    "import time \n",
    "\n",
    "n = 10000\n",
    "\n",
    "def generate_random(x):\n",
    "    return(random.randint(1,50))\n",
    "\n",
    "def time_map(x):\n",
    "    past_time = time.time()\n",
    "    my_generated = list(map(generate_random, range(0,n)))\n",
    "    return(time.time() - past_time)\n",
    "\n",
    "my_times = list(map(time_map,range(0,n)))\n",
    ""
   ]
  },
  {
   "cell_type": "code",
   "execution_count": 72,
   "metadata": {},
   "outputs": [],
   "source": [
    "def not_map(x):\n",
    "    my_generated = [] \n",
    "    past_time = time.time()\n",
    "    for i in range(0,n):\n",
    "        my_generated += [generate_random(i)]\n",
    "    return(time.time() - past_time)\n",
    "\n",
    "my_times_2 = []\n",
    "\n",
    "for i in range(0,n):\n",
    "    my_times_2 += [not_map(i)]\n",
    "\n",
    "\n",
    "# print(my_generated)"
   ]
  },
  {
   "cell_type": "code",
   "execution_count": 73,
   "metadata": {},
   "outputs": [
    {
     "output_type": "stream",
     "name": "stdout",
     "text": "0.5568\n"
    }
   ],
   "source": [
    "count = 0 \n",
    "\n",
    "for i in range(0,n):\n",
    "    if my_times[i] < my_times_2[i]:\n",
    "        count += 1\n",
    "\n",
    "print(count/n)"
   ]
  },
  {
   "cell_type": "code",
   "execution_count": 84,
   "metadata": {},
   "outputs": [
    {
     "output_type": "stream",
     "name": "stdout",
     "text": "[['M', 10, 80], ['M', 20, 160], ['M', 66, 200]]\n[['M', 66, 200]]\n[['M', 10, 80], ['M', 20, 160]]\n"
    }
   ],
   "source": [
    "# Filter function \n",
    "def get_even(x):\n",
    "    return(x % 2 == 0)\n",
    "\n",
    "def get_odd(x):\n",
    "    return(x % 2 != 0)\n",
    "\n",
    "def get_string(x):\n",
    "    return (type(x) == str)\n",
    "\n",
    "\n",
    "a = [1,2,3,4,5,6,7,8,9,10]\n",
    "a = [\"1\",2,3,34,5,6,7]\n",
    "\n",
    "\n",
    "# c = list(filter(get_even, a))\n",
    "# print(c)\n",
    "\n",
    "# c = list(filter(get_odd, a))\n",
    "# print(c)\n",
    "\n",
    "#c = list(filter(get_string,a))\n",
    "#print(c)\n",
    "\n",
    "def get_males(x):\n",
    "    return(x[0] == \"M\")\n",
    "\n",
    "def get_retirees(x):\n",
    "    return(x[1] > 65)\n",
    "\n",
    "def get_young_males(x):\n",
    "    age = x[1]\n",
    "    bio_sex = x[0]\n",
    "    if age < 25 and bio_sex == \"M\":\n",
    "        return True\n",
    "    else:\n",
    "        return False\n",
    "\n",
    "\n",
    "patients = [ [\"M\",10,80]  , [\"F\",17,100] , [\"M\",20,160]  , [\"M\",66,200] ]\n",
    "\n",
    "male_patients = list(filter(get_males,patients))\n",
    "print(male_patients)\n",
    "\n",
    "retired_patients = list(filter(get_retirees,patients))\n",
    "print(retired_patients)\n",
    "\n",
    "\n",
    "young_male_patients = list(filter(get_young_males,patients))\n",
    "print(young_male_patients)\n",
    "\n",
    "\n",
    "\n"
   ]
  },
  {
   "cell_type": "code",
   "execution_count": null,
   "metadata": {},
   "outputs": [],
   "source": [
    "# how reduce works \n",
    "# https://www.python-course.eu/images/reduce_diagram.png"
   ]
  },
  {
   "cell_type": "code",
   "execution_count": 95,
   "metadata": {},
   "outputs": [
    {
     "output_type": "stream",
     "name": "stdout",
     "text": "7\n"
    }
   ],
   "source": [
    "# reduce function\n",
    "from functools import reduce \n",
    "\n",
    "\n",
    "a = [1,2,3,4,5,6,7]\n",
    "\n",
    "def sub_me(x,y): \n",
    "    return (x - y)\n",
    "\n",
    "c = reduce(sub_me,a)\n",
    "\n",
    "# print(c)\n",
    "\n",
    "\n",
    "def get_max(x,y):\n",
    "    if x > y:\n",
    "        return(x)\n",
    "    else: \n",
    "        return(y)\n",
    "\n",
    "\n",
    "c = reduce(get_max,a)\n",
    "print(c)\n",
    ""
   ]
  },
  {
   "cell_type": "code",
   "execution_count": 100,
   "metadata": {},
   "outputs": [
    {
     "output_type": "execute_result",
     "data": {
      "text/plain": "<function __main__.<lambda>(x)>"
     },
     "metadata": {},
     "execution_count": 100
    }
   ],
   "source": [
    "# anonymous function \n",
    "\n",
    "lambda x : x - 1\n",
    ""
   ]
  },
  {
   "cell_type": "code",
   "execution_count": 106,
   "metadata": {},
   "outputs": [
    {
     "output_type": "stream",
     "name": "stdout",
     "text": "7\n"
    }
   ],
   "source": [
    "c = reduce( lambda x,y: x if(x < y) else y , a )\n",
    "print(c)"
   ]
  },
  {
   "cell_type": "code",
   "execution_count": 39,
   "metadata": {},
   "outputs": [
    {
     "output_type": "stream",
     "name": "stdout",
     "text": "GermanS on thE beach 0800 hours\n46TY XsAWXAR36A96 83AKCKKA3WQTS\ngermanS on the beach 0800 hours\n"
    }
   ],
   "source": [
    "# Map example \n",
    "a = [1,2,34,56]\n",
    "def my_func(x):\n",
    "    return (x - 1)\n",
    "c = list(map(my_func,a))\n",
    "\n",
    "# surjective means that the length of the input or the domain... \n",
    "# is equal to the length of the output, or size of the range. \n",
    "\n",
    "# my domain\n",
    "alpha_numeric = \"abcdefghjiklmnopqrstuvwxyz0123456789 \" + \"abcdefghjiklmnopqrstuvwxyz0123456789 \".upper()\n",
    "# range \n",
    "rev_alpha_numeric = alpha_numeric[::-1]\n",
    "#print(rev_alpha_numeric)\n",
    "\n",
    "def alpha_reverse(x):\n",
    "    i = alpha_numeric.index(x)\n",
    "    return(rev_alpha_numeric[i])\n",
    "\n",
    "\n",
    "def reverse_alpha(x):\n",
    "    i = rev_alpha_numeric.index(x)\n",
    "    return (alpha_numeric[i])\n",
    "\n",
    "def return_map_result(res,f):\n",
    "    mapped_result = map(f,res)\n",
    "    result = \"\"\n",
    "    for letter in mapped_result:\n",
    "        result += letter\n",
    "    return(result)\n",
    "\n",
    "\n",
    "my_secret = \"GermanS on thE beach 0800 hours\"\n",
    "\n",
    "result = return_map_result(my_secret,alpha_reverse)\n",
    "print(my_secret)\n",
    "print(result)\n",
    "get_secret  = return_map_result(result,reverse_alpha)\n",
    "print(get_secret)\n",
    "\n",
    "# non - collision function, means that any two inputs, do not have the same output. \n",
    "# and vice versa. \n",
    "\n",
    "\n",
    ""
   ]
  },
  {
   "cell_type": "code",
   "execution_count": 58,
   "metadata": {},
   "outputs": [
    {
     "output_type": "stream",
     "name": "stdout",
     "text": "DIVA\n[7, 14, 21, 28, 35, 42, 49, 56, 63, 70, 77, 84, 91, 98, 105, 112, 119, 126, 133, 140, 147, 154, 161, 168, 175, 182, 189, 196, 203, 210, 217, 224, 231, 238, 245, 252, 259, 266, 273, 280, 287, 294, 301, 308, 315, 322, 329, 336, 343, 350, 357, 364, 371, 378, 385, 392, 399, 406, 413, 420, 427, 434, 441, 448, 455, 462, 469, 476, 483, 490, 497, 504, 511, 518, 525, 532, 539, 546, 553, 560, 567, 574, 581, 588, 595, 602, 609, 616, 623, 630, 637, 644, 651, 658, 665, 672, 679, 686, 693, 700, 707, 714, 721, 728, 735, 742, 749, 756, 763, 770, 777, 784, 791, 798, 805, 812, 819, 826, 833, 840, 847, 854, 861, 868, 875, 882, 889, 896, 903, 910, 917, 924, 931, 938, 945, 952, 959, 966, 973, 980, 987, 994]\nDIVB\n[8, 16, 24, 32, 40, 48, 56, 64, 72, 80, 88, 96, 104, 112, 120, 128, 136, 144, 152, 160, 168, 176, 184, 192, 200, 208, 216, 224, 232, 240, 248, 256, 264, 272, 280, 288, 296, 304, 312, 320, 328, 336, 344, 352, 360, 368, 376, 384, 392, 400, 408, 416, 424, 432, 440, 448, 456, 464, 472, 480, 488, 496, 504, 512, 520, 528, 536, 544, 552, 560, 568, 576, 584, 592, 600, 608, 616, 624, 632, 640, 648, 656, 664, 672, 680, 688, 696, 704, 712, 720, 728, 736, 744, 752, 760, 768, 776, 784, 792, 800, 808, 816, 824, 832, 840, 848, 856, 864, 872, 880, 888, 896, 904, 912, 920, 928, 936, 944, 952, 960, 968, 976, 984, 992, 1000]\nDIVBOTH\n[56, 112, 168, 224, 280, 336, 392, 448, 504, 560, 616, 672, 728, 784, 840, 896, 952]\nDIV OR\n[7, 8, 14, 16, 21, 24, 28, 32, 35, 40, 42, 48, 49, 56, 63, 64, 70, 72, 77, 80, 84, 88, 91, 96, 98, 104, 105, 112, 119, 120, 126, 128, 133, 136, 140, 144, 147, 152, 154, 160, 161, 168, 175, 176, 182, 184, 189, 192, 196, 200, 203, 208, 210, 216, 217, 224, 231, 232, 238, 240, 245, 248, 252, 256, 259, 264, 266, 272, 273, 280, 287, 288, 294, 296, 301, 304, 308, 312, 315, 320, 322, 328, 329, 336, 343, 344, 350, 352, 357, 360, 364, 368, 371, 376, 378, 384, 385, 392, 399, 400, 406, 408, 413, 416, 420, 424, 427, 432, 434, 440, 441, 448, 455, 456, 462, 464, 469, 472, 476, 480, 483, 488, 490, 496, 497, 504, 511, 512, 518, 520, 525, 528, 532, 536, 539, 544, 546, 552, 553, 560, 567, 568, 574, 576, 581, 584, 588, 592, 595, 600, 602, 608, 609, 616, 623, 624, 630, 632, 637, 640, 644, 648, 651, 656, 658, 664, 665, 672, 679, 680, 686, 688, 693, 696, 700, 704, 707, 712, 714, 720, 721, 728, 735, 736, 742, 744, 749, 752, 756, 760, 763, 768, 770, 776, 777, 784, 791, 792, 798, 800, 805, 808, 812, 816, 819, 824, 826, 832, 833, 840, 847, 848, 854, 856, 861, 864, 868, 872, 875, 880, 882, 888, 889, 896, 903, 904, 910, 912, 917, 920, 924, 928, 931, 936, 938, 944, 945, 952, 959, 960, 966, 968, 973, 976, 980, 984, 987, 992, 994, 1000]\n"
    },
    {
     "output_type": "execute_result",
     "data": {
      "text/plain": "250"
     },
     "metadata": {},
     "execution_count": 58
    }
   ],
   "source": [
    "# filter example \n",
    "n = 1000\n",
    "a = 7\n",
    "b = 8\n",
    "\n",
    "def div_a(x):\n",
    "    if x % a == 0:\n",
    "        return (True)\n",
    "    else:\n",
    "        return (False)\n",
    "\n",
    "def div_b(x):\n",
    "    if x %  b == 0:\n",
    "        return (True)\n",
    "    else: \n",
    "        return (False) \n",
    "\n",
    "\n",
    "def div_both(x):\n",
    "    if div_a(x) and div_b(x):\n",
    "        return(True)\n",
    "    else:\n",
    "        return(False)\n",
    "\n",
    "\n",
    "def div_or(x):\n",
    "    if div_a(x) or div_b(x):\n",
    "        return(True)\n",
    "    else:\n",
    "        return(False)\n",
    "\n",
    "numbers_div_a = list(filter(div_a,range(1,n+1)))\n",
    "print(\"DIVA\")\n",
    "print(numbers_div_a)\n",
    "print(\"DIVB\")\n",
    "numbers_div_b = list(filter(div_b,range(1,n+1)))\n",
    "print(numbers_div_b)\n",
    "print(\"DIVBOTH\")\n",
    "numbers_div_ab = list(filter(div_both, range(1,n+1)))\n",
    "print(numbers_div_ab)\n",
    "print(\"DIV OR\")\n",
    "numbers_div_aorb = list(filter(div_or, range(1,n+1)))\n",
    "print(numbers_div_aorb)\n",
    "\n"
   ]
  },
  {
   "cell_type": "code",
   "execution_count": null,
   "metadata": {},
   "outputs": [],
   "source": []
  },
  {
   "cell_type": "code",
   "execution_count": null,
   "metadata": {},
   "outputs": [],
   "source": []
  },
  {
   "cell_type": "code",
   "execution_count": 63,
   "metadata": {},
   "outputs": [
    {
     "output_type": "stream",
     "name": "stdout",
     "text": "{0: 'zero', 1: 'one', 2: 'two', 3: 'three', 4: 'four', 5: 'five'}\n{'one': 1, 'zero': 0, 'two': 2, 'three': 4}\n{'one': 1, 'zero': 0, 'two': 2, 'three': 3}\n{'one': 1, 'zero': 0, 'two': 2, 'three': 3, <function ff at 0x7f37ba3b1c80>: [1, 2, 34, 5, 6, {1: 2, 2: 3, 4: 5}]}\n"
    },
    {
     "output_type": "execute_result",
     "data": {
      "text/plain": "1"
     },
     "metadata": {},
     "execution_count": 63
    }
   ],
   "source": [
    "# Dictionaries, basic concepts (key/value), operators on dictionaries, other dictionary functions.\n",
    "\n",
    "#ary = []\n",
    "#ary[0] # index error\n",
    "\n",
    "#my_dict = {  0:\"zero\" , \"zero\":0 }\n",
    "\n",
    "numbers_to_strings_dict = {0:\"zero\", 1:\"one\",2:\"two\",3:\"three\"}\n",
    "numbers_to_strings_dict[4] = \"four\"\n",
    "numbers_to_strings_dict[5] = \"five\"\n",
    "print(numbers_to_strings_dict)\n",
    "\n",
    "\n",
    "strings_to_numbers = {}\n",
    "strings_to_numbers[\"one\"] = 1\n",
    "strings_to_numbers[\"zero\"] = 0\n",
    "strings_to_numbers[\"two\"] = 2\n",
    "strings_to_numbers[\"three\"] = 4\n",
    "\n",
    "print(strings_to_numbers)\n",
    "strings_to_numbers[\"three\"] = 3\n",
    "print(strings_to_numbers)\n",
    "\n",
    "\n",
    "strings_to_numbers[ff] = [1,2,34,5,6,{1:2,2:3,4:5}]\n",
    "print(strings_to_numbers)\n",
    "\n",
    "x = {1:2,2:1}\n",
    "y = {\"x\":x}\n",
    "x[y[\"x\"][1]]\n",
    ""
   ]
  },
  {
   "cell_type": "code",
   "execution_count": 69,
   "metadata": {},
   "outputs": [
    {
     "output_type": "stream",
     "name": "stdout",
     "text": "{47: 24, 20: 16, 10: 24, 22: 23, 18: 28, 32: 19, 4: 18, 19: 14, 41: 19, 39: 25, 6: 22, 35: 26, 8: 21, 44: 26, 23: 20, 24: 24, 21: 18, 11: 17, 38: 21, 25: 12, 42: 18, 16: 23, 5: 17, 50: 26, 26: 23, 28: 20, 36: 26, 3: 24, 12: 26, 7: 15, 15: 21, 13: 21, 2: 11, 34: 16, 9: 14, 49: 18, 14: 19, 33: 20, 45: 19, 43: 19, 40: 15, 46: 27, 48: 22, 17: 23, 30: 24, 31: 16, 29: 15, 37: 17, 1: 13, 27: 15}\n"
    },
    {
     "output_type": "execute_result",
     "data": {
      "text/plain": "28"
     },
     "metadata": {},
     "execution_count": 69
    }
   ],
   "source": [
    "count_array = {} \n",
    "# value of entry, and count of which entry occurs. \n",
    "import random \n",
    "def generate_random(x):\n",
    "    return(random.randint(1,50))\n",
    "my_numbers = list(map(generate_random,range(0,1000)))\n",
    "\n",
    "\n",
    "# for all of my numbers\n",
    "for i in my_numbers:\n",
    "    # get the keys at this iteration\n",
    "    my_keys = count_array.keys()\n",
    "    # ask if it is already a key in the dictionary. if it is, incr by 1\n",
    "    if i in my_keys:\n",
    "        count_array[i] += 1\n",
    "    else: # if it isnt, create a new key value pair \n",
    "        count_array[i] = 1     \n",
    "\n",
    "\n",
    "print(count_array)\n",
    "\n",
    "max(count_array.values())\n",
    "\n"
   ]
  },
  {
   "cell_type": "code",
   "execution_count": 79,
   "metadata": {},
   "outputs": [
    {
     "output_type": "stream",
     "name": "stdout",
     "text": "jkkka7wzz tsas6xrarwao rswxaywx6m9 4s\n1000 dollars sent to watson moneybags\n"
    }
   ],
   "source": [
    "\n",
    "\n",
    "alpha_numeric = \"abcdefghijklmnopqrstuvwxyz0123456789 \"\n",
    "rev_alpha = alpha_numeric[::-1]\n",
    "\n",
    "real_to_secret_dict = {}\n",
    "secret_to_real_dict = {}\n",
    "\n",
    "for i in range(0,len(alpha_numeric)): \n",
    "    letter = alpha_numeric[i]\n",
    "    secret_letter = rev_alpha[i]\n",
    "    real_to_secret_dict[letter] = secret_letter\n",
    "    secret_to_real_dict[secret_letter] = letter \n",
    "    \n",
    "\n",
    "\n",
    "message = \"1000 dollars sent to watson moneybags\"\n",
    "secret_message = \"\"\n",
    "for letter in message:\n",
    "    secret_message += real_to_secret_dict[letter] \n",
    "\n",
    "print(secret_message)\n",
    "\n",
    "real_message = \"\"\n",
    "\n",
    "for letter in secret_message:\n",
    "    real_message += secret_to_real_dict[letter]\n",
    "\n",
    "print(real_message)\n",
    "\n",
    ""
   ]
  },
  {
   "cell_type": "code",
   "execution_count": 80,
   "metadata": {},
   "outputs": [],
   "source": [
    "a = [1,2]\n",
    "my_dict = {\"a\":a}"
   ]
  },
  {
   "cell_type": "code",
   "execution_count": 81,
   "metadata": {},
   "outputs": [],
   "source": [
    "my_dict[\"a\"][0] = 5"
   ]
  },
  {
   "cell_type": "code",
   "execution_count": 82,
   "metadata": {},
   "outputs": [
    {
     "output_type": "stream",
     "name": "stdout",
     "text": "[5, 2]\n"
    }
   ],
   "source": [
    "print(a)"
   ]
  },
  {
   "cell_type": "code",
   "execution_count": 87,
   "metadata": {},
   "outputs": [],
   "source": [
    "a = {}\n",
    "b = {}\n",
    "b[\"a\"] = a\n",
    "a[\"b\"] = b"
   ]
  },
  {
   "cell_type": "code",
   "execution_count": 90,
   "metadata": {},
   "outputs": [
    {
     "output_type": "execute_result",
     "data": {
      "text/plain": "{'a': {'b': {...}}}"
     },
     "metadata": {},
     "execution_count": 90
    }
   ],
   "source": [
    "b[\"a\"][\"b\"][\"a\"][\"b\"]"
   ]
  },
  {
   "cell_type": "code",
   "execution_count": 17,
   "metadata": {},
   "outputs": [
    {
     "output_type": "stream",
     "name": "stdout",
     "text": "['dea', 'dcf', 'dad', 'ead', 'cfb', 'cff', 'bbc', 'faf', 'fde', 'fbc', 'eaf', 'faf', 'ade', 'adb', 'ddc', 'faa', 'fee', 'acc', 'ebd', 'caa', 'dcd', 'fca', 'dea', 'bdf', 'ffc', 'aeb', 'bcb', 'acb', 'dac', 'caf', 'abb', 'dfe', 'afe', 'eca', 'ddf', 'efe', 'fcd', 'ced', 'fed', 'aae', 'cff', 'dab', 'fce', 'bac', 'bad', 'cbd', 'ade', 'fdc', 'eef', 'eee', 'eaa', 'afa', 'aaf', 'cda', 'cad', 'fae', 'ddb', 'dbf', 'cde', 'ced', 'dee', 'eda', 'eab', 'ace', 'dda', 'dda', 'ccc', 'bdc', 'eac', 'ddf', 'bfa', 'bdd', 'fae', 'fef', 'edd', 'dfb', 'bfd', 'aad', 'cbd', 'dfc', 'beb', 'aec', 'dec', 'ccb', 'deb', 'bec', 'edb', 'cad', 'fbe', 'ebc', 'abe', 'cee', 'abe', 'fee', 'ede', 'daf', 'fbf', 'eba', 'dfd', 'dbb', 'caa', 'cfb', 'dac', 'feb', 'dbe', 'eea', 'dfd', 'eea', 'aae', 'ccc', 'dbb', 'cec', 'ebd', 'fde', 'afd', 'dbf', 'eab', 'bdd', 'ecb', 'aac', 'dae', 'cca', 'efd', 'dbe', 'bdb', 'acc', 'abf', 'adf', 'cad', 'cad', 'fab', 'fcf', 'ada', 'afc', 'acc', 'cef', 'fdd', 'ccc', 'aec', 'efe', 'aad', 'aad', 'bbd', 'dbd', 'caf', 'daa', 'dcb', 'daf', 'eff', 'fcf', 'bab', 'dfb', 'ddb', 'fac', 'bfd', 'ead', 'abd', 'ded', 'bab', 'cdf', 'cbc', 'fea', 'fbb', 'cda', 'ecb', 'cbc', 'edc', 'fca', 'cff', 'cad', 'ceb', 'cbf', 'fca', 'fcf', 'abe', 'fec', 'eca', 'dac', 'efe', 'ebf', 'bfa', 'fff', 'afb', 'fee', 'acf', 'bcf', 'ceb', 'cbb', 'cbb', 'bbd', 'abc', 'cce', 'dca', 'dfa', 'bdd', 'afd', 'bda', 'cef', 'ace', 'aee', 'ffd', 'cfe', 'ced', 'cfe', 'cda', 'bae', 'dfa', 'ffb', 'eae', 'eba', 'fca', 'cff', 'eda', 'feb', 'bab', 'ace', 'edb', 'acb', 'bcf', 'fce', 'ced', 'ebb', 'aed', 'efd', 'def', 'bcb', 'bed', 'aab', 'ddc', 'aed', 'fca', 'eef', 'afc', 'eba', 'caa', 'dfd', 'aaf', 'fcd', 'dbf', 'dbc', 'ecf', 'afe', 'cde', 'cab', 'daf', 'bdc', 'aac', 'fbe', 'cef', 'cac', 'efc', 'bde', 'bed', 'dcd', 'fda', 'fff', 'dea', 'cbc', 'eda', 'caf', 'edd', 'aea', 'cea', 'aca', 'bed', 'aab', 'dad', 'ece', 'fdc', 'ffe', 'faa', 'fac', 'ddd', 'cbd', 'faa', 'bee', 'bae', 'ecf', 'dcb', 'bea', 'cae', 'cba', 'bce', 'bfd', 'fad', 'aca', 'cbd', 'bff', 'dfe', 'efd', 'ddc', 'aac', 'ccd', 'cca', 'bec', 'eaf', 'ebf', 'fae', 'fbb', 'feb', 'eae', 'cef', 'fdc', 'cfc', 'faf', 'dab', 'cbc', 'cdc', 'ecb', 'daf', 'dbf', 'ffd', 'fec', 'fea', 'fad', 'eab', 'ffd', 'aca', 'ccb', 'fde', 'cac', 'afc', 'ceb', 'aeb', 'bcf', 'dcb', 'fdb', 'dfa', 'ead', 'ddf', 'eda', 'bcd', 'faf', 'bbb', 'bcc', 'ddd', 'cfc', 'fdf', 'dbf', 'add', 'bfa', 'dac', 'dcb', 'ecc', 'bcc', 'acf', 'bce', 'cfe', 'dda', 'eca', 'ece', 'afb', 'def', 'ecc', 'afd', 'cba', 'ffb', 'bdc', 'cae', 'bca', 'bcf', 'ebd', 'cda', 'aef', 'ade', 'aee', 'fec', 'dfe', 'aee', 'caa', 'fdf', 'ede', 'cad', 'dfe', 'edc', 'aab', 'aed', 'adb', 'fbd', 'dcc', 'bca', 'bcd', 'dfd', 'eef', 'cec', 'dbe', 'dba', 'dbb', 'bdc', 'bda', 'acb', 'eee', 'faa', 'bea', 'aef', 'cfc', 'bce', 'ebf', 'cde', 'aee', 'acd', 'cda', 'cba', 'cba', 'eaf', 'cde', 'fce', 'cbc', 'eef', 'eaa', 'abb', 'edf', 'bbb', 'bad', 'bcb', 'dfc', 'efa', 'bdd', 'aad', 'bdf', 'cee', 'dfa', 'fdb', 'ecb', 'fff', 'ade', 'fbb', 'afc', 'bcd', 'fda', 'ead', 'eff', 'cea', 'eaa', 'aea', 'aab', 'eeb', 'dff', 'bab', 'adc', 'ceb', 'fcc', 'afa', 'ded', 'fde', 'adc', 'cef', 'ffe', 'baf', 'dbc', 'dfa', 'bee', 'aad', 'fdb', 'bcd', 'fcc', 'cba', 'bed', 'ffc', 'adb', 'bea', 'cac', 'fae', 'ccb', 'bda', 'cad', 'ffb', 'ebe', 'ece', 'ffe', 'dbd', 'fce', 'dea', 'bcf', 'fcf', 'fba', 'ded', 'aca', 'deb', 'fec', 'fcd', 'ddc', 'bba', 'ebb', 'fbd', 'abb', 'ced', 'cfc', 'ebf', 'eda', 'ede', 'aec', 'daf', 'bff', 'fcb', 'cfd', 'bba', 'cdf', 'dff', 'aaf', 'ffa', 'ebd', 'bad', 'ebe', 'afc', 'acc', 'afd', 'bcc', 'cea', 'bba', 'fff', 'bcd', 'cdc', 'dab', 'afe', 'fcf', 'ccd', 'fdf', 'edb', 'abe', 'ace', 'dfc', 'bdf', 'bfe', 'adb', 'abe', 'eca', 'dca', 'fda', 'bfa', 'fee', 'eaa', 'bac', 'ccb', 'fbf', 'ace', 'baa', 'eda', 'fed', 'abc', 'abc', 'cba', 'afd', 'aab', 'baa', 'afa', 'bae', 'cfd', 'ebd', 'cad', 'bca', 'abe', 'efb', 'eac', 'caf', 'cea', 'dac', 'eda', 'faf', 'bbd', 'bbc', 'adb', 'ceb', 'ebc', 'def', 'faf', 'ccc', 'baa', 'baf', 'fcd', 'dbf', 'dbc', 'abb', 'ace', 'bec', 'eff', 'cba', 'acb', 'dfb', 'eed', 'eba', 'bef', 'cbd', 'fcc', 'bff', 'aeb', 'aec', 'fef', 'fca', 'ccb', 'ebf', 'dbd', 'eaf', 'abd', 'bed', 'fcb', 'fbd', 'ede', 'fce', 'fce', 'cad', 'dfe', 'bdc', 'dad', 'fca', 'cbd', 'cfc', 'fad', 'cee', 'ccf', 'bdf', 'fed', 'cdf', 'dac', 'eae', 'ddc', 'fbd', 'efc', 'ecd', 'eda', 'aea', 'fec', 'aba', 'fbc', 'eff', 'dec', 'ffb', 'ccf', 'dff', 'dec', 'ccf', 'bae', 'bba', 'dfb', 'ede', 'baa', 'fac', 'bde', 'bcb', 'dec', 'cbd', 'add', 'cda', 'bda', 'fbf', 'bad', 'fef', 'afb', 'abf', 'fbf', 'efb', 'fcd', 'ebd', 'cdc', 'dae', 'efd', 'cfd', 'cda', 'bed', 'dea', 'bbe', 'bcd', 'ccd', 'dcb', 'acf', 'fdb', 'fea', 'aab', 'bea', 'efb', 'fea', 'ecb', 'dcf', 'abe', 'dfb', 'cfb', 'ffd', 'edf', 'cfe', 'acd', 'eee', 'afc', 'cdc', 'fec', 'afa', 'eab', 'ece', 'dfa', 'dbb', 'faf', 'bdd', 'ecc', 'ead', 'aab', 'bdb', 'afe', 'fea', 'ade', 'ede', 'acb', 'abc', 'baf', 'bda', 'fbd', 'add', 'bbc', 'bbd', 'abd', 'dac', 'aef', 'eef', 'dbb', 'cbd', 'cbb', 'eea', 'aff', 'dbc', 'baf', 'afd', 'aee', 'afe', 'dcb', 'fba', 'fbb', 'daa', 'afb', 'bfe', 'eee', 'cef', 'eba', 'dff', 'aca', 'aae', 'aaa', 'ddb', 'cfc', 'eca', 'fbe', 'bfb', 'dfa', 'fff', 'cfa', 'eeb', 'cac', 'edb', 'bfb', 'aac', 'fda', 'bdf', 'feb', 'acf', 'ada', 'bbc', 'cec', 'dcc', 'ded', 'bee', 'acd', 'cbd', 'cea', 'aba', 'bfa', 'fdc', 'eda', 'ebe', 'dcd', 'dcb', 'adf', 'cee', 'bcb', 'eab', 'cee', 'baf', 'ffa', 'bcd', 'cdb', 'cfb', 'dfd', 'cad', 'dba', 'afa', 'fbe', 'ece', 'fff', 'ccb', 'dbc', 'ebc', 'eae', 'efd', 'dda', 'eaf', 'bfd', 'daa', 'fee', 'bed', 'fcc', 'cba', 'deb', 'bae', 'dbf', 'dac', 'edb', 'bfc', 'fac', 'dcc', 'ebf', 'efa', 'bea', 'ffe', 'afa', 'ccb', 'daf', 'ace', 'bee', 'aca', 'cea', 'bcb', 'beb', 'dba', 'dcf', 'cda', 'fec', 'ade', 'def', 'bfe', 'efa', 'ebd', 'ebe', 'fea', 'cea', 'ebc', 'ccd', 'aed', 'acd', 'ddc', 'fcc', 'edc', 'bfc', 'bed', 'abc', 'cbe', 'dbf', 'add', 'afc', 'cec', 'cdd', 'aba', 'ecb', 'acf', 'dee', 'aab', 'bce', 'abe', 'efa', 'dcc', 'efd', 'aac', 'bba', 'eba', 'fbc', 'dea', 'ada', 'cea', 'baa', 'baf', 'ebe', 'add', 'dab', 'ecf', 'cae', 'acd', 'fea', 'fca', 'ccb', 'bbd', 'add', 'fad', 'def', 'eab', 'fff', 'faf', 'dcb', 'aeb', 'cdd', 'fbd', 'afc', 'ccd', 'adb', 'daf', 'aca', 'cdb', 'bee', 'dee', 'ace', 'fea', 'bdb', 'eba', 'fdf', 'cdc', 'bec', 'cde', 'bac', 'bff', 'fad', 'ffa', 'dbf', 'caf', 'edb', 'adb', 'ace', 'efe', 'bbd', 'bea', 'faf', 'caf', 'eaf', 'bef', 'cda', 'bfe', 'fde', 'fba', 'fdb', 'faf', 'edf', 'bda', 'fcf', 'cfa', 'aec', 'ddb', 'add', 'ade', 'ecc', 'fdf', 'adc', 'daa', 'fce', 'adc', 'fea', 'ffd', 'fef', 'adb', 'cde', 'eed', 'bbb', 'fda', 'cbb', 'ada', 'ffa', 'cba', 'dcd', 'ace', 'acc', 'bec', 'abf', 'dae', 'dcb', 'deb', 'abf', 'fcc', 'afe', 'eaf', 'dfc', 'bdc', 'cef', 'acf', 'cda', 'aec', 'eba', 'bcb', 'faf', 'ccb', 'cac', 'fea', 'cda', 'fde', 'bba', 'eda', 'fbb', 'ced', 'cdb', 'bcf', 'fde', 'aaf', 'dcc', 'ced', 'add', 'fbd', 'aac', 'dad', 'dad', 'fce', 'ded', 'cfa', 'dff', 'fab', 'fdc', 'cce', 'bfa', 'dad', 'eaf']\n"
    }
   ],
   "source": [
    "import random \n",
    "\n",
    "alpha_numeric = \"abcdef\" #ghijklmnopqrstuvxyz0123456789\"\n",
    "\n",
    "def sample_letter():\n",
    "    n = len(alpha_numeric)\n",
    "    i_sample = random.randint(0,n-1)\n",
    "    return (alpha_numeric[i_sample])\n",
    "\n",
    "def generate_label(x):\n",
    "    label = \"\"\n",
    "    for i in range(0,3):\n",
    "        label += sample_letter()\n",
    "    return (label)\n",
    "\n",
    "my_labels = list(map(generate_label,range(0,1000)))\n",
    "print(my_labels)"
   ]
  },
  {
   "cell_type": "code",
   "execution_count": 18,
   "metadata": {},
   "outputs": [],
   "source": [
    "def create_count_array(x):\n",
    "    count_array = {}\n",
    "    # for all of my numbers\n",
    "    for i in x:\n",
    "        # get the keys at this iteration\n",
    "        my_keys = count_array.keys()\n",
    "        # ask if it is already a key in the dictionary. if it is, incr by 1\n",
    "        if i in my_keys:\n",
    "            count_array[i] += 1\n",
    "        else: # if it isnt, create a new key value pair \n",
    "            count_array[i] = 1     \n",
    "    return count_array"
   ]
  },
  {
   "cell_type": "code",
   "execution_count": 24,
   "metadata": {},
   "outputs": [],
   "source": [
    "def create_new_labels(label_list,label_max):\n",
    "    label_count_dict = {}\n",
    "    for label in label_list:\n",
    "        my_keys = label_count_dict.keys()\n",
    "        # ask if it is already a key in the dictionary. if it is, incr by 1\n",
    "        if label in my_keys:\n",
    "            count = label_count_dict[label]\n",
    "            if count == label_max:\n",
    "                draw_sample = generate_label(0)\n",
    "                new_label = label + draw_sample\n",
    "                label_count_dict[new_label] = 1 \n",
    "            else: \n",
    "                label_count_dict[label] += 1\n",
    "        else: # if it isnt, create a new key value pair \n",
    "            label_count_dict[label] = 1     \n",
    "    return(label_count_dict)\n",
    ""
   ]
  },
  {
   "cell_type": "code",
   "execution_count": 28,
   "metadata": {},
   "outputs": [
    {
     "output_type": "execute_result",
     "data": {
      "text/plain": "{'ddc': 10,\n 'eec': 10,\n 'fcc': 10,\n 'aab': 10,\n 'ece': 10,\n 'aae': 10,\n 'adc': 10,\n 'ada': 10,\n 'ceb': 10,\n 'baf': 10,\n 'abd': 10,\n 'fdd': 10,\n 'fba': 10,\n 'acb': 10,\n 'dbe': 10,\n 'aea': 10,\n 'dfe': 10,\n 'bef': 10,\n 'cfb': 10,\n 'cca': 10,\n 'fae': 10,\n 'cdb': 10,\n 'ffa': 10,\n 'dac': 10,\n 'eaa': 10,\n 'eef': 10,\n 'ccf': 10,\n 'faa': 10,\n 'beb': 10,\n 'afa': 10,\n 'edd': 10,\n 'bbd': 10,\n 'cba': 10,\n 'cbb': 10,\n 'fda': 10,\n 'bae': 10,\n 'efb': 10,\n 'bbc': 10,\n 'aaf': 10,\n 'eae': 10,\n 'ded': 10,\n 'dbf': 10,\n 'acf': 10,\n 'daa': 10,\n 'eab': 10,\n 'fab': 10,\n 'bea': 10,\n 'fea': 10,\n 'acd': 10,\n 'dfd': 10,\n 'fdc': 10,\n 'ebc': 10,\n 'bfe': 10,\n 'edf': 10,\n 'cff': 10,\n 'cbf': 10,\n 'baa': 10,\n 'adb': 10,\n 'bfb': 10,\n 'dba': 10,\n 'cbe': 10,\n 'dfa': 10,\n 'fbf': 10,\n 'fbd': 10,\n 'fdb': 10,\n 'ffc': 10,\n 'aba': 10,\n 'cda': 10,\n 'ffd': 10,\n 'ade': 10,\n 'fac': 10,\n 'aec': 10,\n 'eaf': 10,\n 'ace': 10,\n 'bfd': 10,\n 'fcd': 10,\n 'deb': 10,\n 'bab': 10,\n 'def': 10,\n 'bce': 10,\n 'eed': 10,\n 'bac': 10,\n 'afb': 10,\n 'aed': 10,\n 'ebd': 10,\n 'bde': 10,\n 'eeb': 10,\n 'fde': 10,\n 'cae': 10,\n 'aef': 10,\n 'cee': 10,\n 'dce': 10,\n 'eea': 10,\n 'bec': 10,\n 'aac': 10,\n 'dea': 10,\n 'fec': 10,\n 'dfb': 10,\n 'acc': 10,\n 'dfc': 10,\n 'bdc': 10,\n 'abb': 10,\n 'ddd': 10,\n 'ecc': 10,\n 'fbb': 10,\n 'cdf': 10,\n 'cac': 10,\n 'cbc': 10,\n 'bca': 10,\n 'dca': 10,\n 'fed': 10,\n 'ecb': 10,\n 'bcc': 10,\n 'dcc': 10,\n 'ebe': 10,\n 'afd': 10,\n 'abf': 10,\n 'adf': 10,\n 'cea': 10,\n 'bfc': 10,\n 'cab': 10,\n 'eee': 10,\n 'caf': 10,\n 'eba': 10,\n 'dcf': 10,\n 'dbc': 10,\n 'bad': 10,\n 'fbe': 10,\n 'afc': 10,\n 'eca': 10,\n 'efe': 10,\n 'efd': 10,\n 'ffe': 10,\n 'ecd': 10,\n 'ebb': 10,\n 'fce': 10,\n 'fad': 10,\n 'ddf': 10,\n 'dae': 10,\n 'abe': 10,\n 'fcf': 10,\n 'edb': 10,\n 'ddb': 10,\n 'fef': 10,\n 'edc': 10,\n 'cce': 10,\n 'bdd': 10,\n 'eff': 10,\n 'bbf': 10,\n 'bbe': 10,\n 'bcf': 10,\n 'fdf': 10,\n 'cfc': 10,\n 'caa': 10,\n 'dda': 10,\n 'ebf': 10,\n 'ffb': 10,\n 'aaa': 10,\n 'ecf': 10,\n 'ede': 10,\n 'cfa': 10,\n 'dcd': 10,\n 'fbc': 10,\n 'ead': 10,\n 'aee': 10,\n 'cde': 10,\n 'bbb': 10,\n 'bdb': 10,\n 'dee': 10,\n 'dab': 10,\n 'eac': 10,\n 'cef': 10,\n 'abc': 10,\n 'faf': 10,\n 'efc': 10,\n 'dad': 10,\n 'bff': 10,\n 'cdc': 10,\n 'bcb': 10,\n 'efa': 10,\n 'bee': 10,\n 'aad': 10,\n 'dcb': 10,\n 'ccb': 10,\n 'feb': 10,\n 'ccc': 10,\n 'fee': 10,\n 'bfa': 10,\n 'dbd': 10,\n 'eda': 10,\n 'bcd': 10,\n 'ced': 10,\n 'bdf': 10,\n 'cec': 10,\n 'dde': 10,\n 'cfe': 10,\n 'ccd': 10,\n 'aca': 10,\n 'dec': 10,\n 'afe': 10,\n 'dbb': 10,\n 'cfd': 10,\n 'cdd': 10,\n 'dff': 10,\n 'bda': 10,\n 'dacfff': 1,\n 'aeb': 10,\n 'bed': 10,\n 'fcb': 10,\n 'add': 10,\n 'dacbdf': 1,\n 'fca': 10,\n 'fff': 10,\n 'cbd': 10,\n 'dacbaf': 1,\n 'daccfc': 1,\n 'daaeef': 1,\n 'daaddb': 1,\n 'bba': 10,\n 'daf': 10,\n 'daacdc': 1,\n 'feabec': 1,\n 'cad': 10,\n 'dfbabb': 1,\n 'aeaebc': 1,\n 'adeeaf': 1,\n 'dfbdab': 1,\n 'eefeec': 1,\n 'aff': 10,\n 'daafec': 1,\n 'dacaba': 1,\n 'feaafd': 1,\n 'acedcd': 1,\n 'dccaaa': 1,\n 'aabada': 1,\n 'adebde': 1,\n 'aabdab': 1,\n 'feaacc': 1,\n 'eeffda': 1,\n 'daacba': 1,\n 'eebeff': 1,\n 'aabdbe': 1,\n 'dfbfbd': 1,\n 'adecba': 1,\n 'daaaec': 1,\n 'dacece': 1,\n 'adefce': 1,\n 'aedecb': 1,\n 'dcaddb': 1,\n 'daaade': 1,\n 'aceadd': 1,\n 'eebedc': 1,\n 'dcceec': 1,\n 'dcafdc': 1,\n 'dfbdeb': 1,\n 'cabeda': 1,\n 'feaeac': 1,\n 'bdbfbd': 1,\n 'dacdfe': 1,\n 'dcacdb': 1,\n 'cabfda': 1,\n 'eeffbd': 1,\n 'aeccfb': 1,\n 'effdfa': 1,\n 'dacfba': 1,\n 'dcacdc': 1,\n 'aabbee': 1,\n 'efdaec': 1,\n 'aecabd': 1,\n 'bbbbcf': 1,\n 'ffadec': 1,\n 'adefbc': 1,\n 'acabdd': 1,\n 'aabddd': 1,\n 'dacbfb': 1,\n 'efffdc': 1,\n 'aeabbb': 1,\n 'bdbdad': 1,\n 'eefbfa': 1,\n 'fafdac': 1,\n 'beadcc': 1,\n 'aceefa': 1,\n 'acaeea': 1,\n 'eeffba': 1,\n 'aeddea': 1,\n 'fbecde': 1,\n 'aceaea': 1,\n 'ffabfc': 1,\n 'adebeb': 1,\n 'acebbb': 1,\n 'dccaba': 1,\n 'fdbbaa': 1,\n 'dbbbab': 1,\n 'badbdb': 1,\n 'badbba': 1,\n 'badbdc': 1,\n 'adeadb': 1,\n 'dfbace': 1,\n 'badcfe': 1,\n 'bdbcdf': 1,\n 'beaabc': 1,\n 'bfebdb': 1,\n 'debaaf': 1,\n 'efbabf': 1,\n 'fbbcac': 1,\n 'bcaabc': 1,\n 'cdbcfb': 1,\n 'efdacb': 1,\n 'bcacce': 1,\n 'bdffdb': 1,\n 'dcadcf': 1,\n 'eefddf': 1,\n 'debfda': 1,\n 'cdbaff': 1,\n 'acabeb': 1,\n 'accbbc': 1,\n 'dcadbb': 1,\n 'cefade': 1,\n 'aabcdb': 1,\n 'cdadad': 1,\n 'adacbe': 1,\n 'aeafde': 1,\n 'bdfabf': 1,\n 'fafbda': 1,\n 'aecefb': 1,\n 'eacaef': 1,\n 'aacbcf': 1,\n 'afbbdf': 1,\n 'edecec': 1,\n 'aabdbd': 1,\n 'cffdce': 1,\n 'fbbbea': 1,\n 'eadada': 1,\n 'eafdab': 1,\n 'becceb': 1,\n 'eaabaa': 1,\n 'accbef': 1,\n 'fbbfdb': 1,\n 'debcbf': 1,\n 'feabef': 1,\n 'fbbbcc': 1,\n 'efbace': 1,\n 'dbface': 1,\n 'badaea': 1,\n 'bfeddf': 1,\n 'eafdeb': 1,\n 'aecffa': 1,\n 'caeaab': 1,\n 'fafafc': 1,\n 'efbdcf': 1,\n 'aecbdc': 1,\n 'fbefcf': 1,\n 'dbfdcd': 1,\n 'cdafed': 1,\n 'bfeada': 1,\n 'dbcefa': 1,\n 'cffacf': 1,\n 'aaceda': 1,\n 'aacbcb': 1,\n 'bdfdfc': 1,\n 'fbeacb': 1,\n 'beafcf': 1,\n 'dfbdbc': 1,\n 'bdfaef': 1,\n 'edfbfc': 1,\n 'bebedb': 1,\n 'daabcb': 1,\n 'accfdc': 1,\n 'caecee': 1,\n 'eefaad': 1,\n 'bdbfed': 1,\n 'eadaea': 1,\n 'adadea': 1,\n 'eebeee': 1,\n 'cefabe': 1,\n 'adaeee': 1,\n 'fafbfb': 1,\n 'effdad': 1,\n 'aacefa': 1,\n 'ecfdfe': 1,\n 'feaaff': 1,\n 'efbdbc': 1,\n 'bbdcbc': 1,\n 'faacac': 1,\n 'eeeccf': 1,\n 'faabbe': 1,\n 'bedfbc': 1,\n 'eaffed': 1,\n 'ccdebf': 1,\n 'debeae': 1,\n 'caecae': 1,\n 'dbfccb': 1,\n 'bfeffd': 1,\n 'adaabe': 1,\n 'fedfef': 1,\n 'eaaeaa': 1,\n 'afdaab': 1,\n 'cebcfe': 1,\n 'eacaea': 1,\n 'dcccad': 1,\n 'cbefae': 1,\n 'cefbad': 1,\n 'fbabfb': 1,\n 'edecba': 1,\n 'ccfddd': 1,\n 'febeba': 1,\n 'ebabeb': 1,\n 'ecbeaf': 1,\n 'dbceed': 1,\n 'eadcad': 1,\n 'dbffee': 1,\n 'fbaadb': 1,\n 'edeaaf': 1,\n 'cdbcab': 1,\n 'fbaace': 1,\n 'fabaeb': 1,\n 'effbbb': 1,\n 'beddae': 1,\n 'cabbfc': 1,\n 'acacfc': 1,\n 'edfcce': 1,\n 'abbafe': 1,\n 'fdbbca': 1,\n 'aabbfb': 1,\n 'afddba': 1,\n 'eacfae': 1,\n 'cdaddd': 1,\n 'bfefdf': 1,\n 'dfbffa': 1,\n 'abfceb': 1,\n 'accade': 1,\n 'eefbef': 1,\n 'edeebb': 1,\n 'cbceda': 1,\n 'ecdbbc': 1,\n 'ecbedf': 1,\n 'efdabb': 1,\n 'adeada': 1,\n 'ffeada': 1,\n 'dccdfb': 1,\n 'acaccc': 1,\n 'ccddef': 1,\n 'bdfefd': 1,\n 'aeceab': 1,\n 'bdbbfd': 1,\n 'bebbba': 1,\n 'efdcee': 1,\n 'aeaffc': 1,\n 'adacdd': 1,\n 'edeaed': 1,\n 'ecbdba': 1,\n 'dbbadc': 1,\n 'cfaaaf': 1,\n 'ccffca': 1,\n 'fbeedb': 1,\n 'ffdecd': 1,\n 'ecfbed': 1,\n 'adbead': 1,\n 'dffecb': 1,\n 'ddfaba': 1,\n 'effcca': 1,\n 'bcadaa': 1,\n 'cdaced': 1,\n 'fdecfa': 1,\n 'aacfec': 1,\n 'efbadf': 1,\n 'ddcbde': 1,\n 'afdafd': 1,\n 'cebcca': 1,\n 'ecdfdc': 1,\n 'abfdcd': 1,\n 'abcfea': 1,\n 'feddde': 1,\n 'dddddb': 1,\n 'cfffda': 1,\n 'bccdca': 1,\n 'cefacd': 1,\n 'caebca': 1,\n 'aeaadd': 1,\n 'eacfba': 1,\n 'cdafcc': 1,\n 'beabcf': 1,\n 'eceefe': 1,\n 'ebbafb': 1,\n 'dbbeaf': 1,\n 'acabfc': 1,\n 'eacdcc': 1,\n 'eaffef': 1,\n 'aeccdb': 1,\n 'cdacdf': 1,\n 'aedcde': 1,\n 'becdde': 1,\n 'efbddc': 1,\n 'aeadbf': 1,\n 'bdbefe': 1,\n 'bdfadc': 1,\n 'bdbbde': 1,\n 'fadfbb': 1,\n 'eeebee': 1,\n 'afdadb': 1,\n 'efcace': 1,\n 'eefffc': 1,\n 'eaeecb': 1,\n 'bbbcbf': 1,\n 'cbeefc': 1,\n 'beecae': 1,\n 'febdfd': 1,\n 'eacfad': 1,\n 'eadfac': 1,\n 'beeeeb': 1,\n 'dacbdc': 1,\n 'badeee': 1,\n 'debdfd': 1,\n 'cafcfa': 1,\n 'ffdece': 1,\n 'fadfda': 1,\n 'edecdb': 1,\n 'efdcab': 1,\n 'caebfc': 1,\n 'fafaef': 1,\n 'eacefa': 1,\n 'ccfddb': 1,\n 'caebec': 1,\n 'ecbbbe': 1,\n 'dbfddf': 1,\n 'dcabed': 1,\n 'deaceb': 1,\n 'ffddfa': 1,\n 'abfccd': 1,\n 'accfdd': 1,\n 'fbedac': 1,\n 'afcbfa': 1,\n 'efcfed': 1,\n 'dddfcd': 1,\n 'dbbacf': 1,\n 'bedcfc': 1,\n 'bebbbf': 1,\n 'dbbebe': 1,\n 'beeeef': 1,\n 'adcccb': 1,\n 'edeaef': 1,\n 'effdda': 1,\n 'aaddde': 1,\n 'accaeb': 1,\n 'cafeef': 1,\n 'aecfee': 1,\n 'adebcc': 1,\n 'bbbcce': 1,\n 'ddcddc': 1,\n 'effcaa': 1,\n 'eebfad': 1,\n 'daccae': 1,\n 'eafaaa': 1,\n 'ddfcdb': 1,\n 'fdbcaa': 1,\n 'bacbde': 1,\n 'caecbd': 1,\n 'cbaaec': 1,\n 'cdcacc': 1,\n 'cffecf': 1,\n 'afaeab': 1,\n 'dbbbbe': 1,\n 'acedbd': 1,\n 'bdcddb': 1,\n 'dddabd': 1,\n 'aaaaea': 1,\n 'deaaed': 1,\n 'bddacb': 1,\n 'cbdbba': 1,\n 'adeffc': 1,\n 'afbeba': 1,\n 'dbddbc': 1,\n 'dceaad': 1,\n 'dcedcf': 1,\n 'baceaa': 1,\n 'ffabcf': 1,\n 'fbefbf': 1,\n 'adabbc': 1,\n 'facbfd': 1,\n 'cbefff': 1,\n 'fdbcee': 1,\n 'bdbcfa': 1,\n 'ddfaad': 1,\n 'dbddec': 1,\n 'dbceec': 1,\n 'bbabee': 1,\n 'ebacae': 1,\n 'dceced': 1,\n 'aacecf': 1,\n 'bbacea': 1,\n 'cbddad': 1,\n 'debdac': 1,\n 'fedead': 1,\n 'adeecb': 1,\n 'cecdbe': 1,\n 'bddfdc': 1,\n 'dfbeea': 1,\n 'efeeac': 1,\n 'cdcfec': 1,\n 'facffa': 1,\n 'cfaebc': 1,\n 'bccddc': 1,\n 'cdbbbe': 1,\n 'efcbab': 1,\n 'fbdded': 1,\n 'afbfcb': 1,\n 'dbeecf': 1,\n 'dbcecc': 1,\n 'ddcfae': 1,\n 'dcfaec': 1,\n 'facaec': 1,\n 'fdeefe': 1,\n 'abcdbd': 1,\n 'eacfbc': 1,\n 'dffaaa': 1,\n 'cdbeeb': 1,\n 'dcebea': 1,\n 'aacfce': 1,\n 'dbebce': 1,\n 'eafcfe': 1,\n 'ddcabd': 1,\n 'cecccb': 1,\n 'fbbdfe': 1,\n 'dcedbc': 1,\n 'bccdec': 1,\n 'afdafc': 1,\n 'cafeea': 1,\n 'adefdd': 1,\n 'abfbad': 1,\n 'cfabac': 1,\n 'adbcaa': 1,\n 'efdfbd': 1,\n 'bfaeac': 1,\n 'bfeafe': 1,\n 'fdeaae': 1,\n 'ffeaae': 1,\n 'feafce': 1,\n 'faecad': 1,\n 'ffefda': 1,\n 'aedeed': 1,\n 'bcdffc': 1,\n 'abbabc': 1,\n 'caebfa': 1,\n 'fadbfc': 1,\n 'dacdcf': 1,\n 'dddfac': 1,\n 'cbdaad': 1,\n 'ddcbca': 1,\n 'febddb': 1,\n 'edfeab': 1,\n 'dffaea': 1,\n 'ebafdb': 1,\n 'bcfaab': 1,\n 'cbdfac': 1,\n 'eeefbb': 1,\n 'ddfcca': 1,\n 'bebded': 1,\n 'adcdfd': 1,\n 'aaaacc': 1,\n 'cbeddc': 1,\n 'dbebbe': 1,\n 'dceeab': 1,\n 'cecede': 1,\n 'adcede': 1,\n 'ecddfe': 1,\n 'dddade': 1,\n 'bdabba': 1,\n 'acabdb': 1,\n 'fbbdef': 1,\n 'fedfde': 1,\n 'afcafe': 1,\n 'ebedaf': 1,\n 'fdebbc': 1,\n 'aaeaff': 1,\n 'aceada': 1,\n 'fdbdba': 1,\n 'fdccdc': 1,\n 'ebeddc': 1,\n 'dcafae': 1,\n 'eddbde': 1,\n 'efbcdd': 1,\n 'bacfad': 1,\n 'fbcfdf': 1,\n 'acdede': 1,\n 'deadcf': 1,\n 'dcacfe': 1,\n 'deaecc': 1,\n 'aaeeaa': 1,\n 'adaaeb': 1,\n 'fdcedf': 1,\n 'abafba': 1,\n 'febeff': 1,\n 'edebec': 1,\n 'ebbbba': 1,\n 'dffbde': 1,\n 'eacaeb': 1,\n 'cdabaf': 1,\n 'aeeaea': 1,\n 'afcfef': 1,\n 'badadc': 1,\n 'acdcde': 1,\n 'feecac': 1,\n 'cadbeb': 1,\n 'aaedcd': 1,\n 'daafba': 1,\n 'afadcb': 1,\n 'eceadb': 1,\n 'afbcab': 1,\n 'ffbbeb': 1,\n 'aedfde': 1,\n 'fbefca': 1,\n 'fdbaca': 1,\n 'dbbaff': 1,\n 'bbdedd': 1,\n 'aaccda': 1,\n 'feddfd': 1,\n 'bdadba': 1,\n 'bdceae': 1,\n 'ecbdcc': 1,\n 'bbabcd': 1,\n 'ecebeb': 1,\n 'bfecde': 1,\n 'fbebcf': 1,\n 'fdacff': 1,\n 'bbccba': 1,\n 'fccfec': 1,\n 'bcdbae': 1,\n 'adedbd': 1,\n 'dcadfe': 1,\n 'eadebf': 1,\n 'adbffb': 1,\n 'cdcdda': 1,\n 'eefcdd': 1,\n 'dcceeb': 1,\n 'ecfbaa': 1,\n 'bfacea': 1,\n 'feedbf': 1,\n 'fdbffe': 1,\n 'adbcfb': 1,\n 'adbcae': 1,\n 'dbaedd': 1,\n 'dacaaa': 1,\n 'beefac': 1,\n 'debbfe': 1,\n 'befaef': 1,\n 'fddade': 1,\n 'afbcda': 1,\n 'bacceb': 1,\n 'aacfdd': 1,\n 'eddebf': 1,\n 'eedcbc': 1,\n 'bcdbcd': 1,\n 'cbffea': 1,\n 'bfeefe': 1,\n 'dadabc': 1,\n 'fbbacd': 1,\n 'aacdbc': 1,\n 'fbbaee': 1,\n 'cccaca': 1,\n 'abccfe': 1,\n 'aceaaf': 1,\n 'bdcdad': 1,\n 'beabfb': 1,\n 'ebceaa': 1,\n 'eaabef': 1,\n 'aceecf': 1,\n 'dfcfcb': 1,\n 'efeeaf': 1,\n 'cbadca': 1,\n 'cbaeaa': 1,\n 'fcaeda': 1,\n 'dcdcac': 1,\n 'bccaba': 1,\n 'eaaaff': 1,\n 'cccfaa': 1,\n 'cdceac': 1,\n 'cdbeaf': 1,\n 'bfdcec': 1,\n 'cbdccb': 1,\n 'adfedc': 1,\n 'fafbfe': 1,\n 'cbafdf': 1,\n 'fbaacc': 1,\n 'baceed': 1,\n 'bcccaa': 1,\n 'dfcafb': 1,\n 'fafefc': 1,\n 'eabacb': 1,\n 'eccbcc': 1,\n 'caeaec': 1,\n 'aedaff': 1,\n 'cefabd': 1,\n 'badaba': 1,\n 'aaddae': 1,\n 'ffaecc': 1,\n 'abdadd': 1,\n 'bacbcb': 1,\n 'dbffea': 1,\n 'dacffa': 1,\n 'bbbebd': 1,\n 'cddfbb': 1,\n 'aceeeb': 1,\n 'cdcecf': 1,\n 'eadbbd': 1,\n 'bfbcfd': 1,\n 'beecce': 1,\n 'ebceed': 1,\n 'ebcdcd': 1,\n 'cabedb': 1,\n 'dbeedc': 1,\n 'dbcfba': 1,\n 'eefaea': 1,\n 'fbeecb': 1,\n 'cccbbe': 1,\n 'cccfbd': 1,\n 'deaabd': 1,\n 'cbfcab': 1,\n 'dbdbed': 1,\n 'afcddd': 1,\n 'dffadd': 1,\n 'aaafff': 1,\n 'cedcad': 1,\n 'fddaeb': 1,\n 'adbaca': 1,\n 'bcdfdc': 1,\n 'adbefb': 1,\n 'bfafca': 1,\n 'acdbff': 1,\n 'eedbef': 1,\n 'bbecfe': 1,\n 'eafeaf': 1,\n 'aeceaf': 1,\n 'bbdeaf': 1,\n 'efebbc': 1,\n 'bedaca': 1,\n 'cddbae': 1,\n 'bfadfc': 1,\n 'aaefbc': 1,\n 'defaab': 1,\n 'bdcbfc': 1,\n 'efafff': 1,\n 'dfacfe': 1,\n 'ffbfed': 1,\n 'bdbcae': 1,\n 'ebfefb': 1,\n 'efebfa': 1,\n 'cebcea': 1,\n 'fdedbf': 1,\n 'eededd': 1,\n 'cfbceb': 1,\n 'dbadba': 1,\n 'fbabee': 1,\n 'cebacf': 1,\n 'dcecab': 1,\n 'fcaeaf': 1,\n 'dabecb': 1,\n 'aeeefc': 1,\n 'feceea': 1,\n 'ffabed': 1,\n 'dbbffc': 1,\n 'dadabf': 1,\n 'dcbaeb': 1,\n 'adacdf': 1,\n 'ffeccd': 1,\n 'ffafca': 1,\n 'facdcb': 1,\n 'bdcbaf': 1,\n 'fcacfc': 1,\n 'bcaffc': 1,\n 'deaaaf': 1,\n 'ffecec': 1,\n 'ebbbad': 1,\n 'acacce': 1,\n 'adbdbc': 1,\n 'dabfbd': 1,\n 'efafcf': 1,\n 'dcaaaf': 1,\n 'bfedde': 1,\n 'bccbef': 1,\n 'bfeedf': 1,\n 'adfacb': 1,\n 'faedee': 1,\n 'dddbbe': 1,\n 'dfbdde': 1,\n 'dcdaed': 1,\n 'bcfbef': 1,\n 'adfbfc': 1,\n 'abadee': 1,\n 'fbcadb': 1,\n 'fbacfc': 1,\n 'bcdabf': 1,\n 'ccfaab': 1,\n 'fdffbc': 1,\n 'ecfbfe': 1,\n 'acefbb': 1,\n 'cccaec': 1,\n 'feafaf': 1,\n 'dfdbfa': 1,\n 'dfabfc': 1,\n 'ecdcae': 1,\n 'effebb': 1,\n 'cebdca': 1,\n 'eefefc': 1,\n 'bfccae': 1,\n 'ccdfcc': 1,\n 'bafcfc': 1,\n 'bbadde': 1,\n 'aabade': 1,\n 'ffeabb': 1,\n 'cbddef': 1,\n 'fcabee': 1,\n 'abcbdd': 1,\n 'bedfda': 1,\n 'ffedec': 1,\n 'faabdd': 1,\n 'faccee': 1,\n 'fadeaa': 1,\n 'acddcb': 1,\n 'abacee': 1,\n 'acdbea': 1,\n 'baeeae': 1,\n 'cbcbbd': 1,\n 'eeffce': 1,\n 'ceecfe': 1,\n 'bfdcfb': 1,\n 'ddcecc': 1,\n 'bccbdb': 1,\n 'dfbccb': 1,\n 'ebcfcd': 1,\n 'ddbdaa': 1,\n 'bcfbbd': 1,\n 'cfbadc': 1,\n 'beacbf': 1,\n 'ebccdf': 1,\n 'ecfead': 1,\n 'dcbade': 1,\n 'dbfbaf': 1,\n 'feebda': 1,\n 'ffdbeb': 1,\n 'acbbaf': 1,\n 'fdbefd': 1,\n 'baffef': 1,\n 'abadae': 1,\n 'dbcadc': 1,\n 'bfafea': 1,\n 'baaacd': 1,\n 'fccddd': 1,\n 'afcceb': 1,\n 'dcfacf': 1,\n 'baffad': 1,\n 'ddabba': 1,\n 'bccefa': 1,\n 'ddfcbc': 1,\n 'dbabbe': 1,\n 'bcbcfe': 1,\n 'faffcd': 1,\n 'cdddfe': 1,\n 'acbceb': 1,\n 'afcdfe': 1,\n 'defbca': 1,\n 'baedbf': 1,\n 'ffdaac': 1,\n 'aeadaf': 1,\n 'aafbfc': 1,\n 'fbafde': 1,\n 'dbabdf': 1,\n 'edcdbf': 1,\n 'dccbed': 1,\n 'bdcfde': 1,\n 'dcceaf': 1,\n 'eaafdc': 1,\n 'eaddeb': 1,\n 'debfcc': 1,\n 'fdabea': 1,\n 'fbcbdc': 1,\n 'dcacce': 1,\n 'ddbfcc': 1,\n 'fdfdbc': 1,\n 'faaefb': 1,\n 'ebfbbb': 1,\n 'efadfb': 1,\n 'acbbfd': 1,\n 'cfecfa': 1,\n 'befdae': 1,\n 'efbeea': 1,\n 'eaecfe': 1,\n 'fcbafb': 1,\n 'bbefbd': 1,\n 'ceeafc': 1,\n 'acecee': 1,\n 'cbacca': 1,\n 'adceaf': 1,\n 'aadeae': 1,\n 'acaead': 1,\n 'dcdaae': 1,\n 'abaebd': 1,\n 'baddba': 1,\n 'eedcbd': 1,\n 'bededf': 1,\n 'fcbbff': 1,\n ...}"
     },
     "metadata": {},
     "execution_count": 28
    }
   ],
   "source": [
    "#my_labels = list(map(generate_label,range(0,10000)))\n",
    "#create_new_labels(my_labels,10)"
   ]
  },
  {
   "cell_type": "code",
   "execution_count": 30,
   "metadata": {},
   "outputs": [],
   "source": [
    "auto_complete = {}\n",
    "words = [\"dad\",\"mom\",\"dam\",\"mad\",\"sad\",\"sat\",\"sit\",\"pop\",\"mop\"]\n",
    "inc_words = [[\"d\",\"da\"], [\"m\",\"mo\"], [\"d\",\"da\"], [\"m\",\"ma\"], [\"s\",\"sa\"], [\"s\",\"sa\"],[\"s\",\"si\"],[\"p\",\"po\"], [\"m\",\"mo\"]]\n",
    "\n",
    "\n",
    "for i in range(0, len(words)):\n",
    "    word = words[i]\n",
    "    inc_word = inc_words[i]\n",
    "    inc_all_pos_words = len(inc_word)\n",
    "    for j in range(0,inc_all_pos_words):\n",
    "        inc_part = inc_word[j]:\n",
    "        if inc_part in auto_complete.keys():\n",
    "            auto_complete[inc_part] += [word]\n",
    "        else:  \n",
    "\n"
   ]
  },
  {
   "cell_type": "code",
   "execution_count": 31,
   "metadata": {},
   "outputs": [
    {
     "output_type": "execute_result",
     "data": {
      "text/plain": "'dad'"
     },
     "metadata": {},
     "execution_count": 31
    }
   ],
   "source": [
    "words[0]"
   ]
  },
  {
   "cell_type": "code",
   "execution_count": 32,
   "metadata": {},
   "outputs": [
    {
     "output_type": "execute_result",
     "data": {
      "text/plain": "['d', 'da']"
     },
     "metadata": {},
     "execution_count": 32
    }
   ],
   "source": [
    "inc_words[0]"
   ]
  },
  {
   "cell_type": "code",
   "execution_count": null,
   "metadata": {},
   "outputs": [],
   "source": []
  }
 ]
}