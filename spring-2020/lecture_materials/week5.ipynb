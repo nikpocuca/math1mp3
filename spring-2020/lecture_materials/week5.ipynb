{
 "cells": [
  {
   "cell_type": "markdown",
   "metadata": {},
   "source": [
    "## Deterministic \n",
    "\n",
    "SIR models stand for susceptible, infected, and recovered models. \n",
    "SIR stands for . \n",
    "\n",
    "Models are based on the following differential equations.\n",
    "\n",
    "$\\quad$\n",
    "\n",
    "### Susceptible Population \n",
    "Defined by $S$, is the population that can be infected. \n",
    "It is modelled with the following differential equation: \n",
    "\n",
    "$ \\frac{ \\partial S}{\\partial t} = -\\rho S I $\n",
    "\n",
    "What this means is, there is an infected population $I$ which transmits or infects the population $S$, if $\\rho$ is equal to $1$ then it means for every infected person, they infect a new person, which means the susceptible population decreases by 1. \n",
    "\n",
    "$ \\rho$ is called the transmission rate or infection rate. \n",
    "\n",
    "### Infected Population \n",
    "Defined by $I$, and is the population of infected indivudals. It is modelled with the following differential equation: \n",
    "\n",
    "\n",
    "$ \\frac{ \\partial I}{\\partial t} = \\rho S I - \\gamma I $\n",
    "\n",
    "What $\\gamma$ is, is the recovery rate. \n",
    "\n",
    "\n",
    "\n",
    "### Recovered Population\n",
    "Defined by $R$, and is modelled with \n",
    "\n",
    "$ \\frac{\\partial R}{\\partial t} = \\gamma I$\n",
    "\n",
    "\n",
    "\n",
    "### Summary \n",
    "\n",
    "The total population is $S + I + R $, you will notice that the change in population is \n",
    "\n",
    "$$ \\frac{\\partial S}{\\partial t} + \\frac{\\partial I}{\\partial t} + \\frac{\\partial R}{\\partial t} = 0$$ "
   ]
  },
  {
   "cell_type": "code",
   "execution_count": 70,
   "metadata": {},
   "outputs": [],
   "source": [
    "import numpy as np "
   ]
  },
  {
   "cell_type": "code",
   "execution_count": 110,
   "metadata": {},
   "outputs": [],
   "source": [
    "# the first thing we are going to do , \n",
    "# we are going to create a linear space in time with 1000 steps. \n",
    "\n",
    "def create_t():\n",
    "    return(np.linspace(0,100,1000))"
   ]
  },
  {
   "cell_type": "code",
   "execution_count": 111,
   "metadata": {},
   "outputs": [],
   "source": [
    "t = create_t()"
   ]
  },
  {
   "cell_type": "code",
   "execution_count": 112,
   "metadata": {},
   "outputs": [],
   "source": [
    "# we are going to start our populations as the following \n",
    "\n",
    "S = np.array([499375])\n",
    "I = np.array([625])\n",
    "R = np.array([0])\n",
    "\n"
   ]
  },
  {
   "cell_type": "code",
   "execution_count": 113,
   "metadata": {},
   "outputs": [],
   "source": [
    "# lets calculate our h value \n",
    "h = t[1] - t[0]"
   ]
  },
  {
   "cell_type": "code",
   "execution_count": 114,
   "metadata": {},
   "outputs": [],
   "source": [
    "# write our differential equations \n",
    "def dS_dt(rho,S_i,I_i):\n",
    "    return(-rho*S_i*I_i)\n",
    "\n",
    "def dI_dt(rho,gamma,S_i,I_i):\n",
    "    return(rho*S_i*I_i - gamma*I_i)\n",
    "\n",
    "def dR_dt(gamma,I_i):\n",
    "    return(gamma*I_i)"
   ]
  },
  {
   "cell_type": "code",
   "execution_count": 115,
   "metadata": {},
   "outputs": [
    {
     "name": "stdout",
     "output_type": "stream",
     "text": [
      "499375 625 0\n",
      "468132.8203203203 31804.61711711712 62.56256256256257\n",
      "0.0 1518989.8516643501 3246.2079196313434\n",
      "0.0 1366938.8154617124 155297.244122269\n",
      "0.0 1230108.1032032827 292127.9563806987\n",
      "0.0 1106974.1589386899 415261.90064529155\n",
      "0.0 996165.9348207029 526070.1247632785\n",
      "0.0 896449.6250288407 625786.4345551407\n",
      "0.0 806714.9278287566 715521.1317552249\n",
      "0.0 725962.682800853 796273.3767831285\n",
      "0.0 653293.7455835504 868942.3140004311\n",
      "0.0 587898.9762558677 934337.0833281138\n",
      "0.0 529050.229883909 993185.8297000725\n",
      "0.0 476092.2489145487 1046143.8106694327\n",
      "0.0 428435.3671413206 1093800.692442661\n",
      "0.0 385548.94400405127 1136687.1155799301\n",
      "0.0 346955.4561157579 1175280.6034682235\n",
      "0.0 312225.18022829463 1210010.8793556867\n",
      "0.0 280971.4084336705 1241264.6511503109\n",
      "0.0 252846.142324194 1269389.9172597874\n",
      "0.0 227536.218167618 1294699.8414163634\n",
      "0.0 204759.81995264124 1317476.2396313401\n",
      "0.0 184263.34147890337 1337972.718105078\n",
      "0.0 165818.56255208622 1356417.4970318952\n",
      "0.0 149220.1078421677 1373015.9517418137\n",
      "0.0 134283.16011021897 1387952.8994737624\n",
      "0.0 120841.40234142829 1401394.657242553\n",
      "0.0 108745.16587081485 1413490.8937131665\n",
      "0.0 97859.7638817443 1424376.295702237\n",
      "0.0 88063.99172140953 1434172.0678625717\n",
      "0.0 79248.77733488205 1442987.282249099\n",
      "0.0 71315.96679084981 1450920.0927931312\n",
      "0.0 64177.231376350326 1458058.8282076307\n",
      "0.0 57753.08409143037 1464482.9754925505\n",
      "0.0 51971.99459278869 1470264.0649911922\n",
      "0.0 46769.59273164868 1475466.4668523322\n",
      "0.0 42087.95181756973 1480148.1077664113\n",
      "0.0 37874.94362762281 1484361.1159563581\n",
      "0.0 34083.65797921212 1488152.4016047688\n",
      "0.0 30671.88040371541 1491564.1791802656\n",
      "0.0 27601.6221050452 1494634.4374789358\n",
      "0.0 24838.69696940504 1497397.362614576\n",
      "0.0 22352.34091641154 1499883.7186675696\n",
      "0.0 20114.86935320718 1502121.190230774\n",
      "0.0 18101.368917450705 1504134.6906665305\n",
      "0.0 16289.420076865048 1505946.6395071163\n",
      "0.0 14658.847496598277 1507577.212087383\n",
      "0.0 13191.495394836687 1509044.5641891446\n",
      "0.0 11871.025385343526 1510365.0341986378\n",
      "0.0 10682.73455597981 1511553.3250280016\n",
      "0.0 9613.391757583433 1512622.667826398\n",
      "0.0 8651.090280347855 1513584.9693036336\n",
      "0.0 7785.115277310031 1514450.9443066714\n",
      "0.0 7005.824458760479 1515230.2351252208\n",
      "0.0 6304.540729154825 1515931.5188548265\n",
      "0.0 5673.455571081269 1516562.6040129\n",
      "0.0 5105.542100502564 1517130.5174834786\n",
      "0.0 4594.476825176982 1517641.5827588043\n",
      "0.0 4134.569235069176 1518101.490348912\n",
      "0.0 3720.6984407679574 1518515.3611432132\n",
      "0.0 3348.2561544047985 1518887.8034295763\n",
      "0.0 3013.095378188102 1519222.964205793\n",
      "0.0 2711.484229220324 1519524.575354761\n",
      "0.0 2440.064386455527 1519795.9951975257\n",
      "0.0 2195.813697120639 1520040.2458868606\n",
      "0.0 1976.012526237692 1520260.0470577436\n",
      "0.0 1778.2134745622475 1520457.8461094191\n",
      "0.0 1600.2141277592198 1520635.845456222\n",
      "0.0 1440.0325333889275 1520796.0270505925\n",
      "0.0 1295.8851326492952 1520940.174451332\n",
      "0.0 1166.1669011528693 1521069.8926828285\n",
      "0.0 1049.4334776140436 1521186.6261063672\n",
      "0.0 944.3850814564817 1521291.6745025248\n",
      "0.0 849.8520402696466 1521386.2075437116\n",
      "0.0 764.7817659683807 1521471.277818013\n",
      "0.0 688.2270346402145 1521547.8325493413\n",
      "0.0 619.335439581134 1521616.7241444003\n",
      "0.0 557.3399000835229 1521678.719683898\n",
      "0.0 501.5501202953825 1521734.509463686\n",
      "0.0 451.3449030485975 1521784.714680933\n",
      "0.0 406.1652330737629 1521829.8943509078\n",
      "0.0 365.5080525858988 1521870.5515313956\n",
      "0.0 328.92065993465764 1521907.138924047\n",
      "0.0 295.9956689502074 1521940.0639150313\n",
      "0.0 266.36647285909555 1521969.6931111224\n",
      "0.0 239.7031622625895 1521996.3564217188\n",
      "0.0 215.70885172579375 1522020.3507322557\n",
      "0.0 194.11637407556415 1522041.9432099059\n",
      "0.0 174.68530559953172 1522061.374278382\n",
      "0.0 157.19928902300202 1522078.8602949586\n",
      "0.0 141.46362445613497 1522094.5959595256\n",
      "0.0 127.30310148755288 1522108.756482494\n",
      "0.0 114.56004828559563 1522121.499535696\n",
      "0.0 103.0925759847352 1522132.967007997\n",
      "0.0 92.77299880908603 1522143.2865851726\n",
      "0.0 83.48641234171005 1522152.57317164\n",
      "0.0 75.12941410930664 1522160.9301698725\n",
      "0.0 67.60895223650317 1522168.4506317454\n",
      "0.0 60.84128934996632 1522175.218294632\n",
      "0.0 54.75107019581554 1522181.3085137862\n",
      "0.0 49.27048258862679 1522186.7891013934\n",
      "0.0 44.33850234952501 1522191.7210816324\n",
      "0.0 39.90021382604903 1522196.159370156\n",
      "0.0 35.906198428046125 1522200.153385554\n",
      "0.0 32.31198437118465 1522203.7475996108\n",
      "0.0 29.077551501196197 1522206.9820324809\n",
      "0.0 26.16688568526064 1522209.8926982968\n",
      "0.0 23.547577808858176 1522212.5120061731\n",
      "0.0 21.190462913076576 1522214.8691210689\n",
      "0.0 19.06929545431015 1522216.9902885277\n",
      "0.0 17.16045707049532 1522218.8991269115\n",
      "0.0 15.442693599975268 1522220.616890382\n",
      "0.0 13.89687842480257 1522222.1627055572\n",
      "0.0 12.50579950340091 1522223.5537844787\n",
      "0.0 11.253967721278697 1522224.8056162607\n",
      "0.0 10.127444425855403 1522225.9321395562\n",
      "0.0 9.113686225069076 1522226.9458977568\n",
      "0.0 8.201405321658758 1522227.8581786603\n",
      "0.0 7.380443827999223 1522228.679140154\n",
      "0.0 6.641660662033335 1522229.41792332\n",
      "0.0 5.9768297649329005 1522230.082754217\n",
      "0.0 5.3785485071818595 1522230.6810354749\n",
      "0.0 4.840155263219711 1522231.2194287188\n",
      "0.0 4.3556552368713914 1522231.7039287451\n",
      "0.0 3.91965371165904 1522232.1399302704\n",
      "0.0 3.527295982764241 1522232.5322879993\n",
      "0.0 3.1742133018068595 1522232.8853706801\n",
      "0.0 2.8564742325569235 1522233.2031097494\n",
      "0.0 2.570540875944619 1522233.4890431059\n",
      "0.0 2.3132294769511637 1522233.746354505\n",
      "0.0 2.08167497475385 1522233.977909007\n",
      "0.0 1.8732991014051164 1522234.1862848804\n",
      "0.0 1.6857816738370366 1522234.373802308\n",
      "0.0 1.517034759539035 1522234.5425492222\n",
      "0.0 1.3651794282538463 1522234.6944045536\n",
      "0.0 1.2285248308310388 1522234.831059151\n",
      "0.0 1.1055493722893932 1522234.9540346097\n"
     ]
    }
   ],
   "source": [
    "# now we need to code up our euler's method \n",
    "rho = 0.001\n",
    "gamma = 1\n",
    "\n",
    "\n",
    "for i in range(0,len(t)):\n",
    "        # old values\n",
    "        S_now = S[i]\n",
    "        I_now = I[i]\n",
    "        R_now = R[i]\n",
    "        # new values\n",
    "        print(S_now,I_now,R_now)\n",
    "        S_new = S_now + h*dS_dt(rho,S_now,I_now)\n",
    "        I_new = I_now + h*dI_dt(rho,gamma,S_now,I_now)\n",
    "        R_new = R_now + h*dR_dt(gamma,I_now)\n",
    "        \n",
    "        if S_new < 1:\n",
    "            S_new = 0.0\n",
    "        if I_new < 1:\n",
    "            I_new = 0.0\n",
    "        # append values \n",
    "        S = np.append(S,S_new)\n",
    "        I = np.append(I,I_new)\n",
    "        R = np.append(R,R_new)\n",
    "        if I_new < 1:\n",
    "            break \n",
    "        "
   ]
  },
  {
   "cell_type": "code",
   "execution_count": 116,
   "metadata": {},
   "outputs": [
    {
     "data": {
      "text/plain": [
       "<matplotlib.legend.Legend at 0x7f5e86daf438>"
      ]
     },
     "execution_count": 116,
     "metadata": {},
     "output_type": "execute_result"
    },
    {
     "data": {
      "image/png": "[encoded data removed]",
      "text/plain": [
       "<Figure size 432x288 with 1 Axes>"
      ]
     },
     "metadata": {
      "needs_background": "light"
     },
     "output_type": "display_data"
    }
   ],
   "source": [
    "# we are going to plot this stuff \n",
    "\n",
    "import matplotlib.pyplot as pyplot \n",
    "\n",
    "\n",
    "pyplot.plot(t[0:(len(S)-1)],S[1:], label = \"Susceptible\")\n",
    "pyplot.plot(t[0:(len(S)-1)],I[1:], label = \"Infected\")\n",
    "pyplot.plot(t[0:(len(S)-1)],R[1:], label = \"Recovered\")\n",
    "pyplot.legend()\n",
    "\n"
   ]
  },
  {
   "cell_type": "code",
   "execution_count": 143,
   "metadata": {},
   "outputs": [],
   "source": [
    "def SIR_model(S_start,I_start,rho,gamma,num_steps):\n",
    "    # linear space\n",
    "    t = np.linspace(0,100,num_steps)\n",
    "    \n",
    "    # now we need to code up our euler's method \n",
    "\n",
    "    # lets calculate our h value \n",
    "    h = t[1] - t[0]\n",
    "    \n",
    "    S = np.array([S_start])\n",
    "    I = np.array([I_start])\n",
    "    R = np.array([0])\n",
    "\n",
    "    for i in range(0,len(t)):\n",
    "            # old values\n",
    "            S_now = S[i]\n",
    "            I_now = I[i]\n",
    "            R_now = R[i]\n",
    "            # new values\n",
    "            S_new = S_now + h*dS_dt(rho,S_now,I_now)\n",
    "            I_new = I_now + h*dI_dt(rho,gamma,S_now,I_now)\n",
    "            R_new = R_now + h*dR_dt(gamma,I_now)\n",
    "\n",
    "            if S_new < 1:\n",
    "                S_new = 0.0\n",
    "            if I_new < 1:\n",
    "                I_new = 0.0\n",
    "            # append values \n",
    "            S = np.append(S,S_new)\n",
    "            I = np.append(I,I_new)\n",
    "            R = np.append(R,R_new)\n",
    "            if I_new < 1:\n",
    "                break \n",
    "\n",
    "    # we are going to plot this stuff \n",
    "\n",
    "    import matplotlib.pyplot as pyplot \n",
    "\n",
    "\n",
    "    pyplot.plot(t[0:(len(S)-1)],S[1:], label = \"Susceptible\")\n",
    "    pyplot.plot(t[0:(len(S)-1)],I[1:], label = \"Infected\")\n",
    "    pyplot.plot(t[0:(len(S)-1)],R[1:], label = \"Recovered\")\n",
    "    pyplot.plot(t[0:(len(S)-1)],[100]*(len(S)-1) ,label = 'Hospital Capacity')\n",
    "    pyplot.legend()\n",
    "\n"
   ]
  },
  {
   "cell_type": "code",
   "execution_count": 144,
   "metadata": {},
   "outputs": [
    {
     "data": {
      "image/png": "[encoded data removed]",
      "text/plain": [
       "<Figure size 432x288 with 1 Axes>"
      ]
     },
     "metadata": {
      "needs_background": "light"
     },
     "output_type": "display_data"
    }
   ],
   "source": [
    "SIR_model(S_start = 500,I_start =5, rho = 0.001,gamma = 0.25,num_steps = 1000)"
   ]
  },
  {
   "cell_type": "code",
   "execution_count": 145,
   "metadata": {},
   "outputs": [
    {
     "data": {
      "image/png": "[encoded data removed]",
      "text/plain": [
       "<Figure size 432x288 with 1 Axes>"
      ]
     },
     "metadata": {
      "needs_background": "light"
     },
     "output_type": "display_data"
    }
   ],
   "source": [
    "SIR_model(S_start = 500,I_start =5, rho = 0.002,gamma = 0.25,num_steps = 1000)"
   ]
  },
  {
   "cell_type": "code",
   "execution_count": 147,
   "metadata": {},
   "outputs": [
    {
     "data": {
      "image/png": "[encoded data removed]",
      "text/plain": [
       "<Figure size 432x288 with 1 Axes>"
      ]
     },
     "metadata": {
      "needs_background": "light"
     },
     "output_type": "display_data"
    }
   ],
   "source": [
    "SIR_model(S_start = 500,I_start =5, rho = 0.0005,gamma = 0.25,num_steps = 1000)"
   ]
  },
  {
   "cell_type": "code",
   "execution_count": null,
   "metadata": {},
   "outputs": [],
   "source": []
  }
 ],
 "metadata": {
  "file_extension": ".py",
  "kernelspec": {
   "display_name": "Python 3",
   "language": "python",
   "name": "python3"
  },
  "language_info": {
   "codemirror_mode": {
    "name": "ipython",
    "version": 3
   },
   "file_extension": ".py",
   "mimetype": "text/x-python",
   "name": "python",
   "nbconvert_exporter": "python",
   "pygments_lexer": "ipython3",
   "version": "3.6.9"
  },
  "mimetype": "text/x-python",
  "name": "python",
  "npconvert_exporter": "python",
  "pygments_lexer": "ipython2",
  "version": 2
 },
 "nbformat": 4,
 "nbformat_minor": 2
}
