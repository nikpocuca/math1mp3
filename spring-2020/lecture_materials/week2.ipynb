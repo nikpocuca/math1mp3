{
 "nbformat": 4,
 "nbformat_minor": 2,
 "metadata": {
  "language_info": {
   "name": "python",
   "codemirror_mode": {
    "name": "ipython",
    "version": 2
   },
   "version": "2.7.17-final"
  },
  "orig_nbformat": 2,
  "file_extension": ".py",
  "mimetype": "text/x-python",
  "name": "python",
  "npconvert_exporter": "python",
  "pygments_lexer": "ipython2",
  "version": 2,
  "kernelspec": {
   "name": "python36964bit77ed9f1b5a914a5a918bb9131d7fd757",
   "display_name": "Python 3.6.9 64-bit"
  }
 },
 "cells": [
  {
   "cell_type": "code",
   "execution_count": 1,
   "metadata": {},
   "outputs": [],
   "source": [
    "# Week 2 Lectures \n",
    "\n",
    "book \n",
    "\n",
    "##  Lists, List Manipulation, Control Flow, For Loops, While Loops, Iteration over Lists, Infinite Loops, Breaks, Iteration over strings, Concatenation with strings, Deep copy.\n"
   ]
  },
  {
   "cell_type": "code",
   "execution_count": 40,
   "metadata": {},
   "outputs": [
    {
     "output_type": "stream",
     "name": "stdout",
     "text": "[1, 2, 3, 4, 5]\n[5, 2, 3, 4, 5]\n"
    }
   ],
   "source": [
    "# Lists \n",
    "# a = \"afdfsbdfb\"\n",
    "# b = [1,True,\"Hello\",\"v\",[],2.0]\n",
    "# c = [[1,2],[3,2],[1,2]]\n",
    "\n",
    "a = [1,2,3,4,5]\n",
    "b = [1,2,3,4,5]\n",
    "\n",
    "print(a)\n",
    "a[0] = 5\n",
    "print(a)\n"
   ]
  },
  {
   "cell_type": "code",
   "execution_count": 58,
   "metadata": {},
   "outputs": [],
   "source": [
    "# Lists Manipulations \n",
    "# a = \"asdfasdf\"\n",
    "a = [1,2,3,4,5]"
   ]
  },
  {
   "cell_type": "code",
   "execution_count": 56,
   "metadata": {},
   "outputs": [
    {
     "output_type": "stream",
     "name": "stdout",
     "text": "Value : 1 at: 0\nValue : 2 at: 1\nValue : 3 at: 2\nValue : 4 at: 3\nValue : 5 at: 4\n"
    }
   ],
   "source": [
    "# For Loops \n",
    "\n",
    "for i in range(0,len(a)):\n",
    "    print(\"Value :\", a[i], \"at:\", i)\n",
    "    if i == 3:\n",
    "        a[i] = \"HAHAHHA\"\n",
    ""
   ]
  },
  {
   "cell_type": "code",
   "execution_count": 61,
   "metadata": {},
   "outputs": [
    {
     "output_type": "stream",
     "name": "stdout",
     "text": "Value: 1\nValue: 2\nValue: 3\nValue: 4\nValue: 5\n"
    },
    {
     "output_type": "execute_result",
     "data": {
      "text/plain": "[1, 2, 3, 4, 5]"
     },
     "metadata": {},
     "execution_count": 61
    }
   ],
   "source": [
    "for entry in a:\n",
    "    print(\"Value:\",entry)\n",
    "    if entry == 3:\n",
    "        entry = \"HAHAHA\"\n",
    "a"
   ]
  },
  {
   "cell_type": "code",
   "execution_count": 72,
   "metadata": {},
   "outputs": [
    {
     "output_type": "stream",
     "name": "stdout",
     "text": "Mike\n"
    }
   ],
   "source": [
    "first_name = \"Nik\"\n",
    "list_of_first_name = []\n",
    "\n",
    "for sub_s in first_name:\n",
    "    list_of_first_name += [sub_s]\n",
    "\n",
    "\n",
    "list_of_first_name[0] = \"M\"\n",
    "\n",
    "list_of_first_name += \"e\"\n",
    "\n",
    "new_name = \"\"\n",
    "for entry in list_of_first_name:\n",
    "    new_name += entry\n",
    "\n",
    "print(new_name)\n",
    "\n",
    "# String -> List of Strings -> Manipulated this list -> String "
   ]
  },
  {
   "cell_type": "code",
   "execution_count": 76,
   "metadata": {},
   "outputs": [
    {
     "output_type": "stream",
     "name": "stdout",
     "text": "ekiM\n"
    }
   ],
   "source": [
    "rev_string = \"\"\n",
    "for entry in new_name:\n",
    "    rev_string = entry + rev_string\n",
    "print(rev_string)"
   ]
  },
  {
   "cell_type": "code",
   "execution_count": 6,
   "metadata": {},
   "outputs": [
    {
     "output_type": "stream",
     "name": "stdout",
     "text": "Count is: 1\nCount is: 2\nCount is: 3\nCount is: 4\nCount is: 5\nCount is: 6\nCount is: 7\nCount is: 8\nCount is: 9\nCount is: 10\nits gonna break out\nCount is: 11\nCount is: 12\nCount is: 13\nCount is: 14\nCount is: 15\nCount is: 16\nCount is: 17\nCount is: 18\nCount is: 19\nCount is: 20\nits gonna break out\n"
    }
   ],
   "source": [
    "# While Loops\n",
    "is_not_converged = True \n",
    "\n",
    "count = 0\n",
    "\n",
    "while True:\n",
    "    count += 1\n",
    "    print(\"Count is:\",count)\n",
    "    if count == 10:\n",
    "        print(\"its gonna break out\")\n",
    "        is_not_converged = False\n",
    "    if count == 20:\n",
    "        print(\"its gonna break out\")\n",
    "        break \n",
    "\n",
    ""
   ]
  },
  {
   "cell_type": "code",
   "execution_count": 9,
   "metadata": {},
   "outputs": [
    {
     "output_type": "stream",
     "name": "stdout",
     "text": "Before [[1, 2, 3], [4, 5], [6, 7]]\nAfter [1, 2, 3, 4, 5, 6, 7]\n"
    }
   ],
   "source": [
    "# Iteration over lists \n",
    "my_list = [[1,2,3],[4,5],[6,7]]\n",
    "\n",
    "flattend_list = []\n",
    "\n",
    "print(\"Before\",my_list)\n",
    "for entry in my_list:\n",
    "    sub_list = entry\n",
    "    for sub_entry in sub_list:\n",
    "        flattend_list += [sub_entry]\n",
    "\n",
    "print(\"After\",flattend_list)\n",
    ""
   ]
  },
  {
   "cell_type": "code",
   "execution_count": 12,
   "metadata": {},
   "outputs": [
    {
     "output_type": "stream",
     "name": "stdout",
     "text": "My iterators are i: 0 j: 0 k: 0\nMy iterators are i: 0 j: 0 k: 1\nMy iterators are i: 0 j: 0 k: 2\nMy iterators are i: 0 j: 0 k: 3\nMy iterators are i: 0 j: 0 k: 4\nMy iterators are i: 0 j: 1 k: 0\nMy iterators are i: 0 j: 1 k: 1\nMy iterators are i: 0 j: 1 k: 2\nMy iterators are i: 0 j: 1 k: 3\nMy iterators are i: 0 j: 1 k: 4\nMy iterators are i: 0 j: 2 k: 0\nMy iterators are i: 0 j: 2 k: 1\nMy iterators are i: 0 j: 2 k: 2\nMy iterators are i: 0 j: 2 k: 3\nMy iterators are i: 0 j: 2 k: 4\nMy iterators are i: 0 j: 3 k: 0\nMy iterators are i: 0 j: 3 k: 1\nMy iterators are i: 0 j: 3 k: 2\nMy iterators are i: 0 j: 3 k: 3\nMy iterators are i: 0 j: 3 k: 4\nMy iterators are i: 0 j: 4 k: 0\nMy iterators are i: 0 j: 4 k: 1\nMy iterators are i: 0 j: 4 k: 2\nMy iterators are i: 0 j: 4 k: 3\nMy iterators are i: 0 j: 4 k: 4\nMy iterators are i: 1 j: 0 k: 0\nMy iterators are i: 1 j: 0 k: 1\nMy iterators are i: 1 j: 0 k: 2\nMy iterators are i: 1 j: 0 k: 3\nMy iterators are i: 1 j: 0 k: 4\nMy iterators are i: 1 j: 1 k: 0\nMy iterators are i: 1 j: 1 k: 1\nMy iterators are i: 1 j: 1 k: 2\nMy iterators are i: 1 j: 1 k: 3\nMy iterators are i: 1 j: 1 k: 4\nMy iterators are i: 1 j: 2 k: 0\nMy iterators are i: 1 j: 2 k: 1\nMy iterators are i: 1 j: 2 k: 2\nMy iterators are i: 1 j: 2 k: 3\nMy iterators are i: 1 j: 2 k: 4\nMy iterators are i: 1 j: 3 k: 0\nMy iterators are i: 1 j: 3 k: 1\nMy iterators are i: 1 j: 3 k: 2\nMy iterators are i: 1 j: 3 k: 3\nMy iterators are i: 1 j: 3 k: 4\nMy iterators are i: 1 j: 4 k: 0\nMy iterators are i: 1 j: 4 k: 1\nMy iterators are i: 1 j: 4 k: 2\nMy iterators are i: 1 j: 4 k: 3\nMy iterators are i: 1 j: 4 k: 4\nMy iterators are i: 2 j: 0 k: 0\nMy iterators are i: 2 j: 0 k: 1\nMy iterators are i: 2 j: 0 k: 2\nMy iterators are i: 2 j: 0 k: 3\nMy iterators are i: 2 j: 0 k: 4\nMy iterators are i: 2 j: 1 k: 0\nMy iterators are i: 2 j: 1 k: 1\nMy iterators are i: 2 j: 1 k: 2\nMy iterators are i: 2 j: 1 k: 3\nMy iterators are i: 2 j: 1 k: 4\nMy iterators are i: 2 j: 2 k: 0\nMy iterators are i: 2 j: 2 k: 1\nMy iterators are i: 2 j: 2 k: 2\nMy iterators are i: 2 j: 2 k: 3\nMy iterators are i: 2 j: 2 k: 4\nMy iterators are i: 2 j: 3 k: 0\nMy iterators are i: 2 j: 3 k: 1\nMy iterators are i: 2 j: 3 k: 2\nMy iterators are i: 2 j: 3 k: 3\nMy iterators are i: 2 j: 3 k: 4\nMy iterators are i: 2 j: 4 k: 0\nMy iterators are i: 2 j: 4 k: 1\nMy iterators are i: 2 j: 4 k: 2\nMy iterators are i: 2 j: 4 k: 3\nMy iterators are i: 2 j: 4 k: 4\nMy iterators are i: 3 j: 0 k: 0\nMy iterators are i: 3 j: 0 k: 1\nMy iterators are i: 3 j: 0 k: 2\nMy iterators are i: 3 j: 0 k: 3\nMy iterators are i: 3 j: 0 k: 4\nMy iterators are i: 3 j: 1 k: 0\nMy iterators are i: 3 j: 1 k: 1\nMy iterators are i: 3 j: 1 k: 2\nMy iterators are i: 3 j: 1 k: 3\nMy iterators are i: 3 j: 1 k: 4\nMy iterators are i: 3 j: 2 k: 0\nMy iterators are i: 3 j: 2 k: 1\nMy iterators are i: 3 j: 2 k: 2\nMy iterators are i: 3 j: 2 k: 3\nMy iterators are i: 3 j: 2 k: 4\nMy iterators are i: 3 j: 3 k: 0\nMy iterators are i: 3 j: 3 k: 1\nMy iterators are i: 3 j: 3 k: 2\nMy iterators are i: 3 j: 3 k: 3\nMy iterators are i: 3 j: 3 k: 4\nMy iterators are i: 3 j: 4 k: 0\nMy iterators are i: 3 j: 4 k: 1\nMy iterators are i: 3 j: 4 k: 2\nMy iterators are i: 3 j: 4 k: 3\nMy iterators are i: 3 j: 4 k: 4\nMy iterators are i: 4 j: 0 k: 0\nMy iterators are i: 4 j: 0 k: 1\nMy iterators are i: 4 j: 0 k: 2\nMy iterators are i: 4 j: 0 k: 3\nMy iterators are i: 4 j: 0 k: 4\nMy iterators are i: 4 j: 1 k: 0\nMy iterators are i: 4 j: 1 k: 1\nMy iterators are i: 4 j: 1 k: 2\nMy iterators are i: 4 j: 1 k: 3\nMy iterators are i: 4 j: 1 k: 4\nMy iterators are i: 4 j: 2 k: 0\nMy iterators are i: 4 j: 2 k: 1\nMy iterators are i: 4 j: 2 k: 2\nMy iterators are i: 4 j: 2 k: 3\nMy iterators are i: 4 j: 2 k: 4\nMy iterators are i: 4 j: 3 k: 0\nMy iterators are i: 4 j: 3 k: 1\nMy iterators are i: 4 j: 3 k: 2\nMy iterators are i: 4 j: 3 k: 3\nMy iterators are i: 4 j: 3 k: 4\nMy iterators are i: 4 j: 4 k: 0\nMy iterators are i: 4 j: 4 k: 1\nMy iterators are i: 4 j: 4 k: 2\nMy iterators are i: 4 j: 4 k: 3\nMy iterators are i: 4 j: 4 k: 4\n"
    }
   ],
   "source": [
    "# 20 times. \n",
    "for i in range(0,5):\n",
    "    # 20 times. \n",
    "    for j in range(0,5):\n",
    "        # 50\n",
    "        for k in range(0,5):\n",
    "            print(\"My iterators are\",\"i:\",i,\"j:\",j,\"k:\",k)\n",
    "\n",
    "# n^2 20*20 , thats 400 entries! \n",
    ""
   ]
  },
  {
   "cell_type": "code",
   "execution_count": null,
   "metadata": {},
   "outputs": [],
   "source": [
    "# Infinite Loops\n",
    "count = 0\n",
    "while True:\n",
    "    count += 1 \n",
    "    print(\"Count:\",count)"
   ]
  },
  {
   "cell_type": "code",
   "execution_count": 24,
   "metadata": {},
   "outputs": [
    {
     "output_type": "stream",
     "name": "stdout",
     "text": "Pieces 0.14285714285714285\nPieces 0.2857142857142857\nPieces 0.42857142857142855\nPieces 0.5714285714285714\nPieces 0.7142857142857142\nPieces 0.857142857142857\nPieces 0.9999999999999998\nPieces 1.1428571428571426\nPieces 1.2857142857142854\nPieces 1.4285714285714282\nPieces 1.571428571428571\nPieces 1.7142857142857137\nPieces 1.8571428571428565\nPieces 1.9999999999999993\nPieces 2.1428571428571423\nPieces 2.285714285714285\nPieces 2.428571428571428\nPieces 2.5714285714285707\nPieces 2.7142857142857135\nPieces 2.8571428571428563\nPieces 2.999999999999999\nPieces 3.142857142857142\nPieces 3.2857142857142847\nPieces 3.4285714285714275\nPieces 3.5714285714285703\nPieces 3.714285714285713\nPieces 3.857142857142856\nPieces 3.9999999999999987\nPieces 4.1428571428571415\nPieces 4.285714285714285\nPieces 4.428571428571428\nPieces 4.571428571428571\nPieces 4.714285714285714\nPieces 4.857142857142858\nPieces 5.000000000000001\n"
    }
   ],
   "source": [
    "pieces = 0.0 \n",
    "eps = 0.0001\n",
    "\n",
    "while True: \n",
    "    pieces += 1.0/7.0\n",
    "    print(\"Pieces\",pieces)\n",
    "    if 5 < pieces  < (5 + eps):\n",
    "        break "
   ]
  },
  {
   "cell_type": "code",
   "execution_count": 19,
   "metadata": {},
   "outputs": [
    {
     "output_type": "execute_result",
     "data": {
      "text/plain": "False"
     },
     "metadata": {},
     "execution_count": 19
    }
   ],
   "source": [
    "5.000000000000001 == 5"
   ]
  },
  {
   "cell_type": "code",
   "execution_count": 31,
   "metadata": {},
   "outputs": [
    {
     "output_type": "execute_result",
     "data": {
      "text/plain": "False"
     },
     "metadata": {},
     "execution_count": 31
    }
   ],
   "source": [
    "a = [1,2,3,4]"
   ]
  },
  {
   "cell_type": "code",
   "execution_count": 44,
   "metadata": {},
   "outputs": [
    {
     "output_type": "stream",
     "name": "stdout",
     "text": "OLD WORDS: ['love', 'smoothie', 'fruit', 'ultimate', 'yellow', 'rhythm']\nPIG WORDS: ['ove-lay', 'oothie-smay', 'uit-fray', 'ultimate-yay', 'ellow-yay', 'hythm-ray']\n"
    }
   ],
   "source": [
    "# Pig Latin \n",
    "#word = \"love\"\n",
    "#word = \"smoothie\"\n",
    "#word = \"fruit\"\n",
    "#word = \"ultimate\"\n",
    "#word = \"yellow\"\n",
    "\n",
    "test_cases = [\"love\",\"smoothie\",\"fruit\",\"ultimate\",\"yellow\",\"rhythm\"]\n",
    "\n",
    "results = []\n",
    "\n",
    "#consonants\n",
    "consonants = \"qwrtpsdfghjklzxcvbnmy\"\n",
    "vowels = \"aeiou\"\n",
    "constant_clusters = [\"fl\",\"gl\",\"cl\",\"fr\",\"sw\",\"sl\",\"sm\"]\n",
    "\n",
    "# 26 letters in the alphabet. \n",
    "#len(consonants)\n",
    "#len(vowels)\n",
    "\n",
    "for word in test_cases:\n",
    "    spell_list = []\n",
    "    for letter in word:\n",
    "        spell_list += [letter]\n",
    "\n",
    "    #get first letter \n",
    "    first_letter = spell_list[0]\n",
    "\n",
    "    pig_word = \"\"\n",
    "    # are you a consonant? \n",
    "    if first_letter in consonants:\n",
    "        if (first_letter + spell_list[1]) in constant_clusters:\n",
    "            # run this block of code \n",
    "            # run this block of code. \n",
    "            spell_list[0] =  first_letter + spell_list[1] + \"ay\"\n",
    "            for i in range(2,len(spell_list)):\n",
    "                pig_word += spell_list[i]\n",
    "            pig_word +=  \"-\" + spell_list[0]\n",
    "        else: \n",
    "            # run this block of code. \n",
    "            spell_list[0] =  first_letter + \"ay\"\n",
    "            for i in range(1,len(spell_list)):\n",
    "                pig_word += spell_list[i]\n",
    "            pig_word +=  \"-\" + spell_list[0]\n",
    "    elif first_letter in vowels:\n",
    "        pig_word += word \n",
    "        pig_word += \"-yay\" \n",
    "    elif first_letter == \"y\": \n",
    "        spell_list[0] = first_letter + \"ay\"\n",
    "        for i in range(1,len(spell_list)):\n",
    "            pig_word += spell_list[i]\n",
    "            pig_word +=  \"-\" + spell_list[0]\n",
    "    # append to results \n",
    "    results += [pig_word]\n",
    "\n",
    "print(\"OLD WORDS:\",test_cases)\n",
    "print(\"PIG WORDS:\",results)\n"
   ]
  },
  {
   "cell_type": "code",
   "execution_count": 94,
   "metadata": {},
   "outputs": [
    {
     "output_type": "stream",
     "name": "stdout",
     "text": "[1, 2]\n[[1, 2], [2, 3]]\n[5, 2]\n[[1, 2], [2, 3]]\nAddress of a 140307742867528\nAddress of c[0] 140307737444488\n"
    }
   ],
   "source": [
    "# Copy and Deep Copy \n",
    "from copy import copy, deepcopy \n",
    "\n",
    "a = [1,2]\n",
    "b = [2,3]\n",
    "c = [a,b]\n",
    "\n",
    "print(a)\n",
    "print(c)\n",
    "a[0] = 5\n",
    "print(a)\n",
    "print(c)\n",
    "\n",
    "print(\"Address of a\",id(a))\n",
    "# print(\"Address of b\",id(b))\n",
    "# print(\"Address of c\",id(c))\n",
    "print(\"Address of c[0]\",id(c[0]))\n"
   ]
  },
  {
   "cell_type": "code",
   "execution_count": 89,
   "metadata": {},
   "outputs": [
    {
     "output_type": "stream",
     "name": "stdout",
     "text": "[[[5, 2], [2, 3]], [2, 3]]\n[[[5, 2], [2, 3]], [2, 3]]\n"
    }
   ],
   "source": [
    "a[0] = 5\n",
    "d = [deepcopy(c),b]\n",
    "print(d)\n",
    "a[0] = 6\n",
    "print(d)"
   ]
  },
  {
   "cell_type": "code",
   "execution_count": 110,
   "metadata": {},
   "outputs": [
    {
     "output_type": "stream",
     "name": "stdout",
     "text": "their function 7.38905609893065\nour function 7.389056095384136\ntheir function 0.9092974268256817\nour function 7.389056095384136\ntheir function -0.4161468365471424\nour function 7.389056095384136\ntheir function -2.185039863261519\nour function -2.1850398632615184\n"
    }
   ],
   "source": [
    "# Examples in Mathematics Using For Loops \n",
    "\n",
    "# https://en.wikipedia.org/wiki/Taylor_series\n",
    "\n",
    "from math import factorial\n",
    "from math import exp\n",
    "from math import sin \n",
    "from math import cos \n",
    "from math import tan \n",
    "\n",
    "# e's taylor series \n",
    "\n",
    "result = 1.0 \n",
    "x = 2\n",
    "n = 15\n",
    "\n",
    "for i in range(1,n+1):\n",
    "    result += (x**i)/factorial(i)\n",
    "\n",
    "print(\"their function\", exp(x))\n",
    "print(\"our function\",result)\n",
    "\n",
    "\n",
    "sin_result = 0.0\n",
    "x = 2\n",
    "n = 15\n",
    "\n",
    "for i in range(0,n+1):\n",
    "    two_n = 2*i + 1\n",
    "    sin_result += ((-1.0)**i)*(x**two_n)/ (factorial(two_n))\n",
    "\n",
    "\n",
    "print(\"their function\", sin(x))\n",
    "print(\"our function\",result)\n",
    "\n",
    "\n",
    "\n",
    "cos_result = 0.0\n",
    "x = 2\n",
    "n = 15\n",
    "\n",
    "for i in range(0,n+1):\n",
    "    two_n = 2*i\n",
    "    cos_result += ((-1.0)**i)*(x**two_n)/ (factorial(two_n))\n",
    "\n",
    "\n",
    "print(\"their function\", cos(x))\n",
    "print(\"our function\",result)\n",
    "\n",
    "\n",
    "print(\"their function\",tan(x))\n",
    "print(\"our function\",sin_result/cos_result)\n"
   ]
  },
  {
   "cell_type": "code",
   "execution_count": 126,
   "metadata": {},
   "outputs": [
    {
     "output_type": "stream",
     "name": "stdout",
     "text": "Old min -10\nNew min -40\n"
    }
   ],
   "source": [
    "# We are going to the max and minimum of a list \n",
    "l1 = [-10,5,20,3,40,25,76,3,-40,20,30,50,43,21,-9,0,1.5,2.0,3,4,5]\n",
    "\n",
    "count_array_numbers = []\n",
    "count_array_counts = []\n",
    "\n",
    "for entry in l1:\n",
    "    if entry in count_array_numbers:\n",
    "        ind_entry = count_array_numbers.index(entry)\n",
    "        count_array_counts[ind_entry] += 1\n",
    "    else:\n",
    "        count_array_numbers += [entry]\n",
    "        count_array_counts += [1]\n",
    "\n",
    "\n",
    "for i in range(0,len(count_array_counts)):\n",
    "    print(\"Value:\",count_array_numbers[i],\"Count:\",count_array_counts[i])\n",
    "\n",
    "\n",
    "\n",
    "maximum_l1 = l1[0]\n",
    "for entry in l1:\n",
    "    if maximum_l1 < entry:\n",
    "        print(\"Old max\",maximum_l1)\n",
    "        maximum_l1 = entry\n",
    "        print(\"New max\",maximum_l1)  \n",
    "\n",
    "\n",
    "# l1 = [-10,5,20,3,40,25,76,3,-40,20,30,50,43,21,-9,0,1.5,2.0,3,4,5]\n",
    "\n",
    "\n",
    "min_l1 = l1[0]\n",
    "for entry in l1:\n",
    "    if min_l1 > entry:\n",
    "        print(\"Old min\",min_l1)\n",
    "        min_l1 = entry\n",
    "        print(\"New min\",min_l1)  \n"
   ]
  },
  {
   "cell_type": "code",
   "execution_count": 134,
   "metadata": {},
   "outputs": [
    {
     "output_type": "stream",
     "name": "stdout",
     "text": "Iteration: 1 [-10, 5, 3, 20, 25, 40, 3, -40, 20, 30, 50, 43, 21, -9, 0, 1.5, 2.0, 3, 4, 5, 76]\nIteration: 2 [-10, 3, 5, 20, 25, 3, -40, 20, 30, 40, 43, 21, -9, 0, 1.5, 2.0, 3, 4, 5, 50, 76]\nIteration: 3 [-10, 3, 5, 20, 3, -40, 20, 25, 30, 40, 21, -9, 0, 1.5, 2.0, 3, 4, 5, 43, 50, 76]\nIteration: 4 [-10, 3, 5, 3, -40, 20, 20, 25, 30, 21, -9, 0, 1.5, 2.0, 3, 4, 5, 40, 43, 50, 76]\nIteration: 5 [-10, 3, 3, -40, 5, 20, 20, 25, 21, -9, 0, 1.5, 2.0, 3, 4, 5, 30, 40, 43, 50, 76]\nIteration: 6 [-10, 3, -40, 3, 5, 20, 20, 21, -9, 0, 1.5, 2.0, 3, 4, 5, 25, 30, 40, 43, 50, 76]\nIteration: 7 [-10, -40, 3, 3, 5, 20, 20, -9, 0, 1.5, 2.0, 3, 4, 5, 21, 25, 30, 40, 43, 50, 76]\nIteration: 8 [-40, -10, 3, 3, 5, 20, -9, 0, 1.5, 2.0, 3, 4, 5, 20, 21, 25, 30, 40, 43, 50, 76]\nIteration: 9 [-40, -10, 3, 3, 5, -9, 0, 1.5, 2.0, 3, 4, 5, 20, 20, 21, 25, 30, 40, 43, 50, 76]\nIteration: 10 [-40, -10, 3, 3, -9, 0, 1.5, 2.0, 3, 4, 5, 5, 20, 20, 21, 25, 30, 40, 43, 50, 76]\nIteration: 11 [-40, -10, 3, -9, 0, 1.5, 2.0, 3, 3, 4, 5, 5, 20, 20, 21, 25, 30, 40, 43, 50, 76]\nIteration: 12 [-40, -10, -9, 0, 1.5, 2.0, 3, 3, 3, 4, 5, 5, 20, 20, 21, 25, 30, 40, 43, 50, 76]\nIteration: 13 [-40, -10, -9, 0, 1.5, 2.0, 3, 3, 3, 4, 5, 5, 20, 20, 21, 25, 30, 40, 43, 50, 76]\n"
    }
   ],
   "source": [
    "\n",
    "l1 = [-10,5,20,3,40,25,76,3,-40,20,30,50,43,21,-9,0,1.5,2.0,3,4,5]\n",
    "\n",
    "check_unsorted = True \n",
    "\n",
    "count = 0\n",
    "while check_unsorted:\n",
    "    check_pairs = True\n",
    "    # check sorting\n",
    "    for i in range(1,len(l1)): \n",
    "        back = l1[i-1]\n",
    "        front = l1[i]\n",
    "        if front < back:\n",
    "            check_pairs = False\n",
    "    # stop while loop  \n",
    "    if check_pairs:\n",
    "        check_unsorted = False  \n",
    "    # lets sort them \n",
    "    for i in range(1,len(l1)):\n",
    "        back = l1[i-1]\n",
    "        front = l1[i]\n",
    "        if front < back:\n",
    "            l1[i-1],l1[i] = l1[i],l1[i-1]\n",
    "    count += 1\n",
    "    print(\"Iteration:\",count,l1)"
   ]
  },
  {
   "cell_type": "code",
   "execution_count": 138,
   "metadata": {},
   "outputs": [
    {
     "output_type": "stream",
     "name": "stdout",
     "text": "1\n2\nfizz\n4\nbuzz\nfizz\n7\n8\nfizz\nbuzz\n11\nfizz\n13\n14\nfizzbuzz\n16\n17\nfizz\n19\nbuzz\nfizz\n22\n23\nfizz\nbuzz\n26\nfizz\n28\n29\nfizzbuzz\n31\n32\nfizz\n34\nbuzz\nfizz\n37\n38\nfizz\nbuzz\n41\nfizz\n43\n44\nfizzbuzz\n46\n47\nfizz\n49\nbuzz\nfizz\n52\n53\nfizz\nbuzz\n56\nfizz\n58\n59\nfizzbuzz\n61\n62\nfizz\n64\nbuzz\nfizz\n67\n68\nfizz\nbuzz\n71\nfizz\n73\n74\nfizzbuzz\n76\n77\nfizz\n79\nbuzz\nfizz\n82\n83\nfizz\nbuzz\n86\nfizz\n88\n89\nfizzbuzz\n91\n92\nfizz\n94\nbuzz\nfizz\n97\n98\nfizz\nbuzz\n"
    }
   ],
   "source": [
    "# Fizz Buzz Example \n",
    "\n",
    "# if a number is divisible by 3, then you print fizz \n",
    "# if a number is divisible by 5, then you print buzz \n",
    "# if a number is divisible by 15, then you print fizz buzz \n",
    "\n",
    "n = 100 \n",
    "\n",
    "# for i in range(1,n+1):\n",
    "#     output = \"\"\n",
    "#     if i % 3 == 0:\n",
    "#         output += \"fizz\"\n",
    "#     if i % 5 == 0:\n",
    "#         output += \"buzz\" \n",
    "    \n",
    "#     if output == \"\":\n",
    "#         print(i)\n",
    "#     else:\n",
    "#         print(output)\n",
    "\n",
    "# for i in range(1,n+1): \n",
    "#     output = \"\"\n",
    "#     if i % 3 == 0 and not i % 5 == 0:\n",
    "#         output = \"fizz\"\n",
    "#     elif i % 5 == 0 and not i % 3 == 0:\n",
    "#         output = \"buzz\"\n",
    "#     elif i % 3 == 0 and i % 5 == 0:\n",
    "#         output = \"fizzbuzz\"\n",
    "\n",
    "#     if output == \"\":\n",
    "#         print(i)\n",
    "#     else:\n",
    "#         print(output)\n",
    "\n",
    "for i in range(1,n+1): \n",
    "    if i % 3 == 0 and not i % 5 == 0:\n",
    "        print(\"fizz\")\n",
    "    elif i % 5 == 0 and not i % 3 == 0:\n",
    "        print(\"buzz\")\n",
    "    elif i % 3 == 0 and i % 5 == 0:\n",
    "        print(\"fizzbuzz\")\n",
    "    else:\n",
    "        print(i)\n",
    "\n",
    ""
   ]
  },
  {
   "cell_type": "code",
   "execution_count": 4,
   "metadata": {},
   "outputs": [
    {
     "output_type": "stream",
     "name": "stdout",
     "text": "\n _ _ _\n|X| | |\n - - -\n| |X| |\n - - -\n| | |X|\n - - -\n"
    }
   ],
   "source": [
    "board = [[1,0,0],\n",
    "         [0,1,0],\n",
    "         [0,0,1]]\n",
    "\n",
    "\n",
    "\n",
    "# PRINT BOARD \n",
    "# render top \n",
    "top_row = board[0]\n",
    "print(\" \")\n",
    "print(\" _ _ _\")\n",
    "output = \"\"\n",
    "count = 0\n",
    "for entry in top_row:\n",
    "    count += 1\n",
    "    if count == 1:\n",
    "        output += \"|\"\n",
    "    \n",
    "    if entry == 0:\n",
    "        output += \" \"\n",
    "    elif entry == 1:\n",
    "        output += \"X\"\n",
    "    elif entry == 2:\n",
    "        output += \"O\"\n",
    "\n",
    "    output += \"|\"\n",
    "print(output)\n",
    "print(\" - - -\")\n",
    "middle_row = board[1]\n",
    "output = \"\"\n",
    "count = 0\n",
    "for entry in middle_row:\n",
    "    count += 1\n",
    "    if count == 1:\n",
    "        output += \"|\"\n",
    "    \n",
    "    if entry == 0:\n",
    "        output += \" \"\n",
    "    elif entry == 1:\n",
    "        output += \"X\"\n",
    "    elif entry == 2:\n",
    "        output += \"O\"\n",
    "\n",
    "    output += \"|\"\n",
    "print(output)\n",
    "\n",
    "print(\" - - -\")\n",
    "bottom_row = board[2]\n",
    "output = \"\"\n",
    "count = 0\n",
    "for entry in bottom_row:\n",
    "    count += 1\n",
    "    if count == 1:\n",
    "        output += \"|\"\n",
    "    \n",
    "    if entry == 0:\n",
    "        output += \" \"\n",
    "    elif entry == 1:\n",
    "        output += \"X\"\n",
    "    elif entry == 2:\n",
    "        output += \"O\"\n",
    "\n",
    "    output += \"|\"\n",
    "print(output)\n",
    "print(\" - - -\")\n",
    "\n",
    "# for entry in board:\n",
    "\n"
   ]
  },
  {
   "cell_type": "code",
   "execution_count": 5,
   "metadata": {},
   "outputs": [
    {
     "output_type": "stream",
     "name": "stdout",
     "text": "[False, False, False, False, False, False, True, False]\nSOMEONE WON THE GAME \n"
    }
   ],
   "source": [
    "# check if someone won \n",
    "check_list = []\n",
    "\n",
    "# CHECK ROWS \n",
    "# check top row \n",
    "check_row = False\n",
    "if top_row[0] == top_row[1] and top_row[1] == top_row[2] and top_row[2] != 0:\n",
    "    check_row = True\n",
    "else:\n",
    "    check_row = False\n",
    "check_list += [check_row]\n",
    "check_row = True\n",
    "# check mid row \n",
    "if middle_row[0] == middle_row[1] and middle_row[1] == middle_row[2] and middle_row[2] != 0:\n",
    "    check_row = True\n",
    "else: \n",
    "    check_row = False \n",
    "check_list += [check_row]\n",
    "check_row = True\n",
    "# check bottom row \n",
    "if bottom_row[0] == bottom_row[1] and bottom_row[1] == bottom_row[2] and bottom_row[2] != 0:\n",
    "    check_row = True\n",
    "else:\n",
    "    check_row = False \n",
    "check_list += [check_row]\n",
    "# CHECK COLUMNS \n",
    "first_col = []\n",
    "second_col = []\n",
    "third_col = []\n",
    "\n",
    "for i in range(0,3): \n",
    "    first_col += [board[i][0]]\n",
    "    second_col += [board[i][1]]\n",
    "    third_col += [board[i][2]]\n",
    "\n",
    "\n",
    "check_cols = True\n",
    "if first_col[0] == first_col[1] and first_col[1] == first_col[2] and first_col[2] != 0:\n",
    "    check_cols = True\n",
    "else:\n",
    "    check_cols = False \n",
    "check_list += [check_cols]\n",
    "\n",
    "check_cols = True\n",
    "if second_col[0] == second_col[1] and second_col[1] == second_col[2] and second_col[2] != 0:\n",
    "    check_cols = True\n",
    "else:\n",
    "    check_cols = False \n",
    "\n",
    "check_list += [check_cols]\n",
    "\n",
    "if third_col[0] == third_col[1] and third_col[1] == third_col[2] and third_col[2] != 0:\n",
    "    check_cols = True\n",
    "else:\n",
    "    check_cols = False \n",
    "check_list += [check_cols]\n",
    "\n",
    "\n",
    "\n",
    "# CHECK DIAGONALS \n",
    "diag_1 = [top_row[0],middle_row[1],bottom_row[2]]\n",
    "diag_2 = [top_row[2],middle_row[1],bottom_row[0]]\n",
    "\n",
    "\n",
    "check_diags = True \n",
    "if diag_1[0] == diag_1[1] and diag_1[1] == diag_1[2] and diag_1[2] != 0:\n",
    "    check_diags = True\n",
    "else:\n",
    "    check_diags = False \n",
    "check_list += [check_diags]\n",
    "\n",
    "if diag_2[0] == diag_2[1] and diag_2[1] == diag_2[2] and diag_2[2] != 0:\n",
    "    check_diags = True\n",
    "else:\n",
    "    check_diags = False \n",
    "check_list += [check_diags]\n",
    "\n",
    "\n",
    "check = False \n",
    "for entry in check_list:\n",
    "    if entry:\n",
    "        check = True \n",
    "\n",
    "\n",
    "print(check_list)\n",
    "if check == True:\n",
    "    print(\"SOMEONE WON THE GAME \")\n",
    "\n",
    ""
   ]
  },
  {
   "cell_type": "code",
   "execution_count": 1,
   "metadata": {},
   "outputs": [],
   "source": [
    "\n",
    "#  Functions, Local/Global Scopes, Return, Arguments, Key word arguments, Variable Number of Arguments, Higher-order Functions, Defensive Programming, Recursion.\n",
    ""
   ]
  },
  {
   "cell_type": "code",
   "execution_count": 3,
   "metadata": {},
   "outputs": [],
   "source": [
    "def print_hello():\n",
    "    print(\"Hello!\")"
   ]
  },
  {
   "cell_type": "code",
   "execution_count": 6,
   "metadata": {},
   "outputs": [
    {
     "output_type": "stream",
     "name": "stdout",
     "text": "Hello!\nHello!\nHello!\nHello!\nHello!\n"
    }
   ],
   "source": [
    "for i in range(0,5):\n",
    "    print_hello()"
   ]
  },
  {
   "cell_type": "code",
   "execution_count": 15,
   "metadata": {},
   "outputs": [],
   "source": [
    "def greeting(name):\n",
    "    str_greeting = \"Hello \" + str(name) + \"!\"\n",
    "    print(str_greeting)"
   ]
  },
  {
   "cell_type": "code",
   "execution_count": 18,
   "metadata": {},
   "outputs": [
    {
     "output_type": "stream",
     "name": "stdout",
     "text": "Hello Nik!\nHello Sarah!\nHello Bob!\n"
    }
   ],
   "source": [
    "greeting(\"Nik\")\n",
    "greeting(\"Sarah\")\n",
    "greeting(\"Bob\")"
   ]
  },
  {
   "cell_type": "code",
   "execution_count": 17,
   "metadata": {},
   "outputs": [
    {
     "output_type": "stream",
     "name": "stdout",
     "text": "Hello 1!\n"
    }
   ],
   "source": [
    "greeting(1)"
   ]
  },
  {
   "cell_type": "code",
   "execution_count": 26,
   "metadata": {},
   "outputs": [],
   "source": [
    "def inc_one(x):\n",
    "    x += 1\n",
    "    return(x)"
   ]
  },
  {
   "cell_type": "code",
   "execution_count": 27,
   "metadata": {},
   "outputs": [],
   "source": [
    "a = inc_one(2)"
   ]
  },
  {
   "cell_type": "code",
   "execution_count": 30,
   "metadata": {},
   "outputs": [
    {
     "output_type": "stream",
     "name": "stdout",
     "text": "3\n"
    }
   ],
   "source": [
    "print(a)"
   ]
  },
  {
   "cell_type": "code",
   "execution_count": 40,
   "metadata": {},
   "outputs": [
    {
     "output_type": "stream",
     "name": "stdout",
     "text": "5\n5\n1\n"
    }
   ],
   "source": [
    "\n",
    "x = 1\n",
    "y = 1\n",
    "z = 2\n",
    "\n",
    "\n",
    "def print_v():\n",
    "    v = 5 \n",
    "    print(v)\n",
    "\n",
    "    def print_s(): \n",
    "        s = 1\n",
    "        print(v)\n",
    "        print(s)\n",
    "\n",
    "    print_s()\n",
    "\n",
    "print_v()\n",
    "\n"
   ]
  },
  {
   "cell_type": "code",
   "execution_count": 54,
   "metadata": {},
   "outputs": [
    {
     "output_type": "stream",
     "name": "stdout",
     "text": "0\n0\n1\n0\n"
    }
   ],
   "source": [
    "x = 1\n",
    "y = 1\n",
    "z = 2\n",
    "\n",
    "def my_sub(x,y):\n",
    "    return x - y\n",
    "\n",
    "def my_add(x,y):\n",
    "    return x + y\n",
    "\n",
    "\n",
    "def my_map(xl,f):\n",
    "    for entry in xl:\n",
    "        print(f(entry[0],entry[1]))\n",
    "\n",
    "\n",
    "my_list = [[x,y],[y,x],[z,y],[x,x]]\n",
    "\n",
    "my_map(xl = my_list,f = my_sub)\n",
    ""
   ]
  },
  {
   "cell_type": "code",
   "execution_count": 3,
   "metadata": {},
   "outputs": [],
   "source": [
    "def my_greeting(x = \"Person\"):\n",
    "    print(\"Hello \" + x)"
   ]
  },
  {
   "cell_type": "code",
   "execution_count": 5,
   "metadata": {},
   "outputs": [
    {
     "output_type": "stream",
     "name": "stdout",
     "text": "Hello Nik\n"
    }
   ],
   "source": [
    "my_greeting(\"Nik\")"
   ]
  },
  {
   "cell_type": "code",
   "execution_count": 6,
   "metadata": {},
   "outputs": [],
   "source": [
    "def bilingual_greeting(name, greet = \"Hello\"):\n",
    "    print(greet + \" \" +name)"
   ]
  },
  {
   "cell_type": "code",
   "execution_count": 11,
   "metadata": {},
   "outputs": [
    {
     "output_type": "error",
     "ename": "TypeError",
     "evalue": "bilingual_greeting() missing 1 required positional argument: 'name'",
     "traceback": [
      "\u001b[0;31m---------------------------------------------------------------------------\u001b[0m",
      "\u001b[0;31mTypeError\u001b[0m                                 Traceback (most recent call last)",
      "\u001b[0;32m<ipython-input-11-d8d20f307e4e>\u001b[0m in \u001b[0;36m<module>\u001b[0;34m\u001b[0m\n\u001b[0;32m----> 1\u001b[0;31m \u001b[0mbilingual_greeting\u001b[0m\u001b[0;34m(\u001b[0m\u001b[0mgreet\u001b[0m \u001b[0;34m=\u001b[0m \u001b[0;34m\"Bonjour\"\u001b[0m\u001b[0;34m)\u001b[0m\u001b[0;34m\u001b[0m\u001b[0;34m\u001b[0m\u001b[0m\n\u001b[0m",
      "\u001b[0;31mTypeError\u001b[0m: bilingual_greeting() missing 1 required positional argument: 'name'"
     ]
    }
   ],
   "source": [
    "bilingual_greeting(greet = \"Bonjour\")"
   ]
  },
  {
   "cell_type": "code",
   "execution_count": 15,
   "metadata": {},
   "outputs": [],
   "source": [
    "def optional_greeting(name = \"Person\",greet = \"Hello\"):\n",
    "    print(greet + \" \" + name)"
   ]
  },
  {
   "cell_type": "code",
   "execution_count": 19,
   "metadata": {},
   "outputs": [
    {
     "output_type": "stream",
     "name": "stdout",
     "text": "Bonjour Nik\n"
    }
   ],
   "source": [
    "optional_greeting(greet = \"Bonjour\",name = \"Nik\")"
   ]
  },
  {
   "cell_type": "code",
   "execution_count": 20,
   "metadata": {},
   "outputs": [],
   "source": [
    "# Recursive Functions \n",
    "# are functions that call itself \n",
    "\n",
    "def my_print():\n",
    "    print(\"Hello\")\n",
    "    my_print()\n",
    ""
   ]
  },
  {
   "cell_type": "code",
   "execution_count": 27,
   "metadata": {},
   "outputs": [
    {
     "output_type": "execute_result",
     "data": {
      "text/plain": "6"
     },
     "metadata": {},
     "execution_count": 27
    }
   ],
   "source": [
    "# Factorial is a recursive function. \n",
    "# n!  = n*n-1*n-2*...2*1 \n",
    "\n",
    "def my_factorial(x): \n",
    "    if x <= 1:\n",
    "        return(1)\n",
    "    else:\n",
    "        return(x*my_factorial(x-1))\n",
    "\n",
    "\n",
    "\n",
    "my_factorial(3)"
   ]
  },
  {
   "cell_type": "code",
   "execution_count": 28,
   "metadata": {},
   "outputs": [
    {
     "output_type": "error",
     "ename": "RecursionError",
     "evalue": "maximum recursion depth exceeded",
     "traceback": [
      "\u001b[0;31m---------------------------------------------------------------------------\u001b[0m",
      "\u001b[0;31mRecursionError\u001b[0m                            Traceback (most recent call last)",
      "\u001b[0;32m<ipython-input-28-01eb25a431e8>\u001b[0m in \u001b[0;36m<module>\u001b[0;34m\u001b[0m\n\u001b[1;32m      5\u001b[0m     \u001b[0mtic\u001b[0m\u001b[0;34m(\u001b[0m\u001b[0;34m)\u001b[0m\u001b[0;34m\u001b[0m\u001b[0;34m\u001b[0m\u001b[0m\n\u001b[1;32m      6\u001b[0m \u001b[0;34m\u001b[0m\u001b[0m\n\u001b[0;32m----> 7\u001b[0;31m \u001b[0mtic\u001b[0m\u001b[0;34m(\u001b[0m\u001b[0;34m)\u001b[0m\u001b[0;34m\u001b[0m\u001b[0;34m\u001b[0m\u001b[0m\n\u001b[0m",
      "\u001b[0;32m<ipython-input-28-01eb25a431e8>\u001b[0m in \u001b[0;36mtic\u001b[0;34m()\u001b[0m\n\u001b[1;32m      1\u001b[0m \u001b[0;32mdef\u001b[0m \u001b[0mtic\u001b[0m\u001b[0;34m(\u001b[0m\u001b[0;34m)\u001b[0m\u001b[0;34m:\u001b[0m\u001b[0;34m\u001b[0m\u001b[0;34m\u001b[0m\u001b[0m\n\u001b[0;32m----> 2\u001b[0;31m     \u001b[0mtac\u001b[0m\u001b[0;34m(\u001b[0m\u001b[0;34m)\u001b[0m\u001b[0;34m\u001b[0m\u001b[0;34m\u001b[0m\u001b[0m\n\u001b[0m\u001b[1;32m      3\u001b[0m \u001b[0;34m\u001b[0m\u001b[0m\n\u001b[1;32m      4\u001b[0m \u001b[0;32mdef\u001b[0m \u001b[0mtac\u001b[0m\u001b[0;34m(\u001b[0m\u001b[0;34m)\u001b[0m\u001b[0;34m:\u001b[0m\u001b[0;34m\u001b[0m\u001b[0;34m\u001b[0m\u001b[0m\n\u001b[1;32m      5\u001b[0m     \u001b[0mtic\u001b[0m\u001b[0;34m(\u001b[0m\u001b[0;34m)\u001b[0m\u001b[0;34m\u001b[0m\u001b[0;34m\u001b[0m\u001b[0m\n",
      "\u001b[0;32m<ipython-input-28-01eb25a431e8>\u001b[0m in \u001b[0;36mtac\u001b[0;34m()\u001b[0m\n\u001b[1;32m      3\u001b[0m \u001b[0;34m\u001b[0m\u001b[0m\n\u001b[1;32m      4\u001b[0m \u001b[0;32mdef\u001b[0m \u001b[0mtac\u001b[0m\u001b[0;34m(\u001b[0m\u001b[0;34m)\u001b[0m\u001b[0;34m:\u001b[0m\u001b[0;34m\u001b[0m\u001b[0;34m\u001b[0m\u001b[0m\n\u001b[0;32m----> 5\u001b[0;31m     \u001b[0mtic\u001b[0m\u001b[0;34m(\u001b[0m\u001b[0;34m)\u001b[0m\u001b[0;34m\u001b[0m\u001b[0;34m\u001b[0m\u001b[0m\n\u001b[0m\u001b[1;32m      6\u001b[0m \u001b[0;34m\u001b[0m\u001b[0m\n\u001b[1;32m      7\u001b[0m \u001b[0mtic\u001b[0m\u001b[0;34m(\u001b[0m\u001b[0;34m)\u001b[0m\u001b[0;34m\u001b[0m\u001b[0;34m\u001b[0m\u001b[0m\n",
      "... last 2 frames repeated, from the frame below ...\n",
      "\u001b[0;32m<ipython-input-28-01eb25a431e8>\u001b[0m in \u001b[0;36mtic\u001b[0;34m()\u001b[0m\n\u001b[1;32m      1\u001b[0m \u001b[0;32mdef\u001b[0m \u001b[0mtic\u001b[0m\u001b[0;34m(\u001b[0m\u001b[0;34m)\u001b[0m\u001b[0;34m:\u001b[0m\u001b[0;34m\u001b[0m\u001b[0;34m\u001b[0m\u001b[0m\n\u001b[0;32m----> 2\u001b[0;31m     \u001b[0mtac\u001b[0m\u001b[0;34m(\u001b[0m\u001b[0;34m)\u001b[0m\u001b[0;34m\u001b[0m\u001b[0;34m\u001b[0m\u001b[0m\n\u001b[0m\u001b[1;32m      3\u001b[0m \u001b[0;34m\u001b[0m\u001b[0m\n\u001b[1;32m      4\u001b[0m \u001b[0;32mdef\u001b[0m \u001b[0mtac\u001b[0m\u001b[0;34m(\u001b[0m\u001b[0;34m)\u001b[0m\u001b[0;34m:\u001b[0m\u001b[0;34m\u001b[0m\u001b[0;34m\u001b[0m\u001b[0m\n\u001b[1;32m      5\u001b[0m     \u001b[0mtic\u001b[0m\u001b[0;34m(\u001b[0m\u001b[0;34m)\u001b[0m\u001b[0;34m\u001b[0m\u001b[0;34m\u001b[0m\u001b[0m\n",
      "\u001b[0;31mRecursionError\u001b[0m: maximum recursion depth exceeded"
     ]
    }
   ],
   "source": [
    "def tic():\n",
    "    tac()\n",
    "\n",
    "def tac():\n",
    "    tic()\n",
    "\n",
    "tic()"
   ]
  },
  {
   "cell_type": "code",
   "execution_count": 44,
   "metadata": {},
   "outputs": [],
   "source": [
    "def check_true(x,f):\n",
    "    print(x)\n",
    "    if x == 1:\n",
    "        return (1)\n",
    "    else:\n",
    "        return(check_true(f(x),f)) \n",
    "\n",
    "def inc_down(x):\n",
    "    return (x-1)\n",
    ""
   ]
  },
  {
   "cell_type": "code",
   "execution_count": 45,
   "metadata": {},
   "outputs": [
    {
     "output_type": "stream",
     "name": "stdout",
     "text": "10\n9\n8\n7\n6\n5\n4\n3\n2\n1\n"
    },
    {
     "output_type": "execute_result",
     "data": {
      "text/plain": "1"
     },
     "metadata": {},
     "execution_count": 45
    }
   ],
   "source": [
    "check_true(x = 10, f = inc_down)"
   ]
  },
  {
   "cell_type": "code",
   "execution_count": 41,
   "metadata": {},
   "outputs": [
    {
     "output_type": "stream",
     "name": "stdout",
     "text": "9\n8\n7\n6\n5\n4\n3\n2\n1\n"
    }
   ],
   "source": [
    "x = 10\n",
    "while True: \n",
    "    x -= 1\n",
    "    print(x)\n",
    "    if x == 1:\n",
    "        break "
   ]
  },
  {
   "cell_type": "code",
   "execution_count": 54,
   "metadata": {},
   "outputs": [],
   "source": [
    "# calc_year of birth \n",
    "def calc_year(age,current_year = 2020):\n",
    "    # sanity check \n",
    "    if not type(age) == int:\n",
    "        return (\"ERROR AGE IS NOT AN INTEGER\")\n",
    "    # the age and check if it is less than 0 \n",
    "    elif age < 0:\n",
    "        return (\"ERROR AGE CANNOT BE NEGATIVE\")\n",
    "    \n",
    "    # sanity check \n",
    "    if not type(current_year) == int:\n",
    "        return (\"ERROR CURRENT YEAR IS NOT AN INTEGER\")\n",
    "\n",
    "    yob = current_year - age\n",
    "    print(\"YEAR OF BIRTH:\",yob)\n",
    "    return(yob)\n",
    "\n",
    ""
   ]
  },
  {
   "cell_type": "code",
   "execution_count": 58,
   "metadata": {},
   "outputs": [
    {
     "output_type": "stream",
     "name": "stdout",
     "text": "YEAR OF BIRTH: 1950\n"
    },
    {
     "output_type": "execute_result",
     "data": {
      "text/plain": "1950"
     },
     "metadata": {},
     "execution_count": 58
    }
   ],
   "source": [
    "calc_year(100,2050)"
   ]
  },
  {
   "cell_type": "code",
   "execution_count": 69,
   "metadata": {},
   "outputs": [],
   "source": [
    "def div(x,y): \n",
    "    try:\n",
    "        \"1\" + 1\n",
    "        #return_val = x/y\n",
    "        print(\"HELLO\")\n",
    "        while True:\n",
    "            break \n",
    "        if True:\n",
    "            pass \n",
    "    except:\n",
    "        return_val = \"error, something bad happened \"\n",
    "    return(return_val)"
   ]
  },
  {
   "cell_type": "code",
   "execution_count": 70,
   "metadata": {},
   "outputs": [
    {
     "output_type": "execute_result",
     "data": {
      "text/plain": "'error, something bad happened '"
     },
     "metadata": {},
     "execution_count": 70
    }
   ],
   "source": [
    "div(20,0)"
   ]
  },
  {
   "cell_type": "code",
   "execution_count": 9,
   "metadata": {},
   "outputs": [
    {
     "output_type": "execute_result",
     "data": {
      "text/plain": "'Error Height is less than or equal to 0'"
     },
     "metadata": {},
     "execution_count": 9
    }
   ],
   "source": [
    "# BMI FUNCTION \n",
    "\n",
    "def bmi_calc(weight,height):\n",
    "    # sanity checks \n",
    "    # for weight\n",
    "    if not ( type(weight) == float):\n",
    "        return(\"ERROR Weight is not valid\")\n",
    "    elif weight <= 0:\n",
    "        return(\"Error Weight is less than or equal to 0\")\n",
    "    # for height\n",
    "    if not (type(height) == float):\n",
    "        return(\"ERROR Height is not valid\")\n",
    "    elif height <= 0:\n",
    "        return(\"Error Height is less than or equal to 0\")\n",
    "\n",
    "    BMI = 703*(weight)/(height**2)\n",
    "    return(BMI)\n",
    "\n",
    "bmi_calc(190.0,0.0)"
   ]
  },
  {
   "cell_type": "code",
   "execution_count": 21,
   "metadata": {},
   "outputs": [],
   "source": [
    "# BAC \n",
    "\n",
    "def bac_calc(alc,weight,bio_sex,hours):\n",
    "    # alchol checks\n",
    "    if not (type(alc) == float):\n",
    "        return(\"error, alcohol consumed is not a float\")\n",
    "    elif alc < 0:\n",
    "        return(\"error, alcohol cannot be negative\")\n",
    "    # weight\n",
    "    if not (type(weight) == float):\n",
    "        return(\"error, weight is not a float\")\n",
    "    elif weight <= 0:\n",
    "        return(\"error, weight is less than or equal to 0\")\n",
    "    # bio sex \n",
    "    if not (type(bio_sex) == str):\n",
    "        return(\"error, biological sex is not a string\")\n",
    "    elif not ( bio_sex == \"M\" or bio_sex == \"F\"):\n",
    "        return(\"error, biological sex can only be male or female\")\n",
    "     # hours \n",
    "    if not (type(hours) == float): \n",
    "         return(\"error, hours is invalid\")\n",
    "    elif hours < 0:\n",
    "        return(\"errors, hours cannot be negative\")\n",
    "    # distribution ratio \n",
    "    if bio_sex == \"M\":\n",
    "        r = 0.73\n",
    "    else:\n",
    "        r = 0.66\n",
    "    # blood alchol calculations\n",
    "    BAC = (alc*(5.14/weight)*r ) - 0.015*hours\n",
    "\n",
    "    print(\"=============================\"*2)\n",
    "    print(\"    BAC CALCULATOR    \")\n",
    "    print(\"=============================\"*2)\n",
    "    print(\"For a \" + bio_sex + \",\")\n",
    "    print(\"of weight \" + str(weight) +\"lbs,\")\n",
    "    print(\"hours elapsed \" + str(hours) + \"hours ,\")\n",
    "    print(\"has BAC \" + str(BAC) + \".\")\n",
    "    print(\"============================\"*2)\n",
    "    if BAC > 0.08:\n",
    "        print(\"YOU ARE ABOVE THE LEGAL LIMIT\")\n",
    "    print(\"============================\"*2)\n",
    "\n",
    "    return (BAC)\n",
    "#bio_sex, alc_consumed, weight, hours, = \"M\", 12, 190, 0.5\n",
    "# bio_sex, alc_consumed, weight, hours, = \"M\", 12, 200, 0.5 \n",
    "#bio_sex, alc_consumed, weight, hours, = \"M\", 12, 210, 0.5 \n",
    "#bio_sex, alc_consumed, weight, hours, = \"M\", 12, 220, 0.5 \n",
    "bio_sex, alc_consumed, weight, hours, = \"M\", 12, 220, 0.5 \n",
    "\n",
    "\n",
    ""
   ]
  },
  {
   "cell_type": "code",
   "execution_count": 24,
   "metadata": {},
   "outputs": [
    {
     "output_type": "execute_result",
     "data": {
      "text/plain": "'error, weight is less than or equal to 0'"
     },
     "metadata": {},
     "execution_count": 24
    }
   ],
   "source": [
    "bac_calc(alc = 0.0,weight = 0.0,bio_sex = \"F\",hours = 1.2)"
   ]
  },
  {
   "cell_type": "code",
   "execution_count": 23,
   "metadata": {},
   "outputs": [
    {
     "output_type": "execute_result",
     "data": {
      "text/plain": "'error, weight is less than or equal to 0'"
     },
     "metadata": {},
     "execution_count": 23
    }
   ],
   "source": [
    "result"
   ]
  },
  {
   "cell_type": "code",
   "execution_count": 62,
   "metadata": {},
   "outputs": [],
   "source": [
    "board = [[1,0,0],\n",
    "         [0,1,0],\n",
    "         [0,0,1]]\n",
    "\n",
    "\n",
    "def render(board):\n",
    "    # PRINT BOARD \n",
    "    # render top \n",
    "    top_row = board[0]\n",
    "    print(\" \")\n",
    "    print(\" _ _ _\")\n",
    "    output = \"\"\n",
    "    count = 0\n",
    "    for entry in top_row:\n",
    "        count += 1\n",
    "        if count == 1:\n",
    "            output += \"|\"\n",
    "        \n",
    "        if entry == 0:\n",
    "            output += \" \"\n",
    "        elif entry == 1:\n",
    "            output += \"X\"\n",
    "        elif entry == 2:\n",
    "            output += \"O\"\n",
    "\n",
    "        output += \"|\"\n",
    "    print(output)\n",
    "    print(\" - - -\")\n",
    "    middle_row = board[1]\n",
    "    output = \"\"\n",
    "    count = 0\n",
    "    for entry in middle_row:\n",
    "        count += 1\n",
    "        if count == 1:\n",
    "            output += \"|\"\n",
    "        \n",
    "        if entry == 0:\n",
    "            output += \" \"\n",
    "        elif entry == 1:\n",
    "            output += \"X\"\n",
    "        elif entry == 2:\n",
    "            output += \"O\"\n",
    "\n",
    "        output += \"|\"\n",
    "    print(output)\n",
    "\n",
    "    print(\" - - -\")\n",
    "    bottom_row = board[2]\n",
    "    output = \"\"\n",
    "    count = 0\n",
    "    for entry in bottom_row:\n",
    "        count += 1\n",
    "        if count == 1:\n",
    "            output += \"|\"\n",
    "        \n",
    "        if entry == 0:\n",
    "            output += \" \"\n",
    "        elif entry == 1:\n",
    "            output += \"X\"\n",
    "        elif entry == 2:\n",
    "            output += \"O\"\n",
    "\n",
    "        output += \"|\"\n",
    "    print(output)\n",
    "    print(\" - - -\")\n",
    "\n",
    "def check_win(board):\n",
    "    # check if someone won\n",
    "    top_row = board[0]\n",
    "    middle_row = board[1]\n",
    "    bottom_row = board[2]\n",
    "    check_list = []\n",
    "\n",
    "    # CHECK ROWS \n",
    "    # check top row \n",
    "    check_row = False\n",
    "    if top_row[0] == top_row[1] and top_row[1] == top_row[2] and top_row[2] != 0:\n",
    "        check_row = True\n",
    "    else:\n",
    "        check_row = False\n",
    "    check_list += [check_row]\n",
    "    check_row = True\n",
    "    # check mid row \n",
    "    if middle_row[0] == middle_row[1] and middle_row[1] == middle_row[2] and middle_row[2] != 0:\n",
    "        check_row = True\n",
    "    else: \n",
    "        check_row = False \n",
    "    check_list += [check_row]\n",
    "    check_row = True\n",
    "    # check bottom row \n",
    "    if bottom_row[0] == bottom_row[1] and bottom_row[1] == bottom_row[2] and bottom_row[2] != 0:\n",
    "        check_row = True\n",
    "    else:\n",
    "        check_row = False \n",
    "    check_list += [check_row]\n",
    "    # CHECK COLUMNS \n",
    "    first_col = []\n",
    "    second_col = []\n",
    "    third_col = []\n",
    "\n",
    "    for i in range(0,3): \n",
    "        first_col += [board[i][0]]\n",
    "        second_col += [board[i][1]]\n",
    "        third_col += [board[i][2]]\n",
    "\n",
    "\n",
    "    check_cols = True\n",
    "    if first_col[0] == first_col[1] and first_col[1] == first_col[2] and first_col[2] != 0:\n",
    "        check_cols = True\n",
    "    else:\n",
    "        check_cols = False \n",
    "    check_list += [check_cols]\n",
    "\n",
    "    check_cols = True\n",
    "    if second_col[0] == second_col[1] and second_col[1] == second_col[2] and second_col[2] != 0:\n",
    "        check_cols = True\n",
    "    else:\n",
    "        check_cols = False \n",
    "\n",
    "    check_list += [check_cols]\n",
    "\n",
    "    if third_col[0] == third_col[1] and third_col[1] == third_col[2] and third_col[2] != 0:\n",
    "        check_cols = True\n",
    "    else:\n",
    "        check_cols = False \n",
    "    check_list += [check_cols]\n",
    "\n",
    "\n",
    "\n",
    "    # CHECK DIAGONALS \n",
    "    diag_1 = [top_row[0],middle_row[1],bottom_row[2]]\n",
    "    diag_2 = [top_row[2],middle_row[1],bottom_row[0]]\n",
    "\n",
    "\n",
    "    check_diags = True \n",
    "    if diag_1[0] == diag_1[1] and diag_1[1] == diag_1[2] and diag_1[2] != 0:\n",
    "        check_diags = True\n",
    "    else:\n",
    "        check_diags = False \n",
    "    check_list += [check_diags]\n",
    "\n",
    "    if diag_2[0] == diag_2[1] and diag_2[1] == diag_2[2] and diag_2[2] != 0:\n",
    "        check_diags = True\n",
    "    else:\n",
    "        check_diags = False \n",
    "    check_list += [check_diags]\n",
    "\n",
    "\n",
    "    check = False \n",
    "    for entry in check_list:\n",
    "        if entry:\n",
    "            check = True \n",
    "\n",
    "\n",
    "    # print(check_list)\n",
    "    if check == True:\n",
    "        return(True)\n",
    "    else:\n",
    "        return(False)\n",
    "\n",
    " \n",
    "def get_input(player):\n",
    "    r_pos = input(\"Player \" + str(player) + \" choose the row\")\n",
    "    c_pos = input(\"Player \" + str(player) + \" choose the col\")\n",
    "    try: \n",
    "        r_pos = int(r_pos)\n",
    "        c_pos = int(c_pos)\n",
    "    except:\n",
    "        r_pos, c_pos = get_input(player = player)\n",
    "\n",
    "    if (r_pos < 0 or r_pos > 4):        \n",
    "        r_pos, c_pos = get_input(player = player)\n",
    "    if (c_pos < 0 or c_pos > 4):        \n",
    "        r_pos, c_pos = get_input(player = player)\n",
    "    return(r_pos,c_pos)\n",
    "\n",
    "\n",
    "\n",
    "\n",
    "def place_marker(board,player = 1):\n",
    "    r_pos, c_pos = get_input(player = player)\n",
    "    if board[r_pos-1][c_pos-1] != 0:\n",
    "        print(\"Spot full, please enter another position\")\n",
    "        r_pos, c_pos = get_input(player = player)\n",
    "    board[r_pos - 1][c_pos - 1] = player\n",
    "\n",
    "\n",
    "def check_draw(board):\n",
    "    check = True\n",
    "    for i in range(0,3):\n",
    "        for j in range(0,3):\n",
    "            spot = board[i][j]\n",
    "            if spot == 0:\n",
    "                check = False \n",
    "    return check\n",
    "\n",
    "\n",
    ""
   ]
  },
  {
   "cell_type": "code",
   "execution_count": 63,
   "metadata": {},
   "outputs": [
    {
     "output_type": "stream",
     "name": "stdout",
     "text": "\n _ _ _\n|X| | |\n - - -\n| |X| |\n - - -\n|O|O|X|\n - - -\n"
    }
   ],
   "source": [
    "board = [[1,0,0],\n",
    "         [0,1,0],\n",
    "         [2,2,1]]\n",
    "render(board)\n",
    "place_marker(board,1)"
   ]
  },
  {
   "cell_type": "code",
   "execution_count": 64,
   "metadata": {},
   "outputs": [
    {
     "output_type": "stream",
     "name": "stdout",
     "text": "\n _ _ _\n| | | |\n - - -\n| | | |\n - - -\n| | | |\n - - -\n \n _ _ _\n|X| | |\n - - -\n| | | |\n - - -\n| | | |\n - - -\n \n _ _ _\n|X|O| |\n - - -\n| | | |\n - - -\n| | | |\n - - -\n \n _ _ _\n|X|O|X|\n - - -\n| | | |\n - - -\n| | | |\n - - -\n \n _ _ _\n|X|O|X|\n - - -\n|O| | |\n - - -\n| | | |\n - - -\n \n _ _ _\n|X|O|X|\n - - -\n|O|X| |\n - - -\n| | | |\n - - -\n \n _ _ _\n|X|O|X|\n - - -\n|O|X|O|\n - - -\n| | | |\n - - -\n \n _ _ _\n|X|O|X|\n - - -\n|O|X|O|\n - - -\n|X| | |\n - - -\n"
    }
   ],
   "source": [
    "board = [[0,0,0],\n",
    "         [0,0,0],\n",
    "         [0,0,0]]\n",
    "render(board)\n",
    "while True:\n",
    "    place_marker(board,1)\n",
    "    render(board)\n",
    "    if check_win(board):\n",
    "        break\n",
    "    if check_draw(board):\n",
    "        break\n",
    "    place_marker(board,2)\n",
    "    render(board)\n",
    "    if check_win(board):\n",
    "        break\n",
    "    if check_draw(board):\n",
    "        break\n",
    ""
   ]
  },
  {
   "cell_type": "code",
   "execution_count": 77,
   "metadata": {},
   "outputs": [],
   "source": [
    "import time "
   ]
  },
  {
   "cell_type": "code",
   "execution_count": 84,
   "metadata": {},
   "outputs": [
    {
     "output_type": "stream",
     "name": "stdout",
     "text": "time elapsed in seconds is: 5.001694917678833\n"
    }
   ],
   "source": [
    "current_time = time.time()\n",
    "time.sleep(5)\n",
    "time_elapsed = time.time() - current_time\n",
    "print(\"time elapsed in seconds is:\",time_elapsed)"
   ]
  },
  {
   "cell_type": "code",
   "execution_count": 102,
   "metadata": {},
   "outputs": [],
   "source": [
    "a = [1,2,3,4,5,6,7,102,304,50,1,2,3,4,6,4,3,1,23,1,23,14,1,34,13]\n",
    "\n",
    "times_method_1 = []\n",
    "times_method_2 = []\n",
    "\n",
    "for i in range(0,1000):\n",
    "    current_time = time.time()\n",
    "    average = 0.0\n",
    "    for i in range(0,len(a)):\n",
    "        average += a[i]\n",
    "    average/len(a)\n",
    "    time_elapsed = time.time() - current_time\n",
    "    #print(\"time elapsed in seconds is:\",time_elapsed)\n",
    "    times_method_1 += [time_elapsed] \n",
    "\n",
    "    current_time = time.time()\n",
    "    average = 0.0\n",
    "    for entry in a:\n",
    "        average += entry\n",
    "    average/len(a)\n",
    "    time_elapsed = time.time() - current_time\n",
    "    #print(\"time elapsed in seconds is:\",time_elapsed)\n",
    "    times_method_2 += [time_elapsed]\n",
    "\n",
    ""
   ]
  },
  {
   "cell_type": "code",
   "execution_count": 103,
   "metadata": {},
   "outputs": [],
   "source": [
    "count = 0\n",
    "\n",
    "for i in range(0,len(times_method_1)):\n",
    "    logical_check = times_method_1[i] < times_method_2[i]\n",
    "    if logical_check:\n",
    "        count += logical_check"
   ]
  },
  {
   "cell_type": "code",
   "execution_count": 104,
   "metadata": {},
   "outputs": [
    {
     "output_type": "execute_result",
     "data": {
      "text/plain": "0.025"
     },
     "metadata": {},
     "execution_count": 104
    }
   ],
   "source": [
    "count/1000"
   ]
  },
  {
   "cell_type": "code",
   "execution_count": 57,
   "metadata": {},
   "outputs": [],
   "source": [
    "# more function examples \n",
    "\n",
    "# recursive increments \n",
    "# adding \n",
    "# subtracting \n",
    "\n",
    "def my_factorial(x):\n",
    "    \"\"\"This function calculates the factorial of x. Please put in a number\n",
    "    Use case my_factorial(5)\n",
    "    \"\"\"\n",
    "    if x <= 1:\n",
    "        return(1)\n",
    "    else:\n",
    "        return(x*my_factorial(x-1))\n",
    "\n",
    "\n",
    "def sum_of_numbers(x,n):\n",
    "    if x == n:\n",
    "        return(n)\n",
    "    else:\n",
    "        return( x + sum_of_numbers(x+1,n) )\n",
    "\n",
    "\n",
    "def sum_of_numbers_diff(x,n):\n",
    "    sign = 1\n",
    "    if not (x % 2 == 0):\n",
    "        sign = -1\n",
    "    if x == n:\n",
    "        return(n*sign)\n",
    "    else:\n",
    "        return( x*sign + sum_of_numbers_diff(x+1,n) )\n",
    "\n",
    "# composition of functions \n",
    "# f(g(f(x)))\n",
    "\n",
    "def f(x):\n",
    "    return(x + 1)\n",
    "\n",
    "def g(x):\n",
    "    return(x*2)\n",
    "\n",
    "def g_of_f(x):\n",
    "    return(g(f(x)))\n",
    "\n",
    "\n",
    "def apply_g_f(x,k,n):\n",
    "    \n",
    "    for i in range(k):\n",
    "        x = f(x)\n",
    "    for i in range(n):\n",
    "        x = g(x)\n",
    "\n",
    "    return(x)\n",
    "\n",
    "\n",
    "# calculating primes up till n \n",
    "\n",
    "def get_primes(n):\n",
    "    primes = []\n",
    "    for i in range(2,n+1):\n",
    "        is_prime = True\n",
    "        for prime in primes:\n",
    "            if (i**0.5) < prime:\n",
    "                break \n",
    "            if i % prime == 0:\n",
    "                is_prime = False\n",
    "                break\n",
    "        if is_prime:\n",
    "            primes += [i]\n",
    "        else:\n",
    "            pass\n",
    "    return(primes)\n",
    "\n",
    ""
   ]
  },
  {
   "cell_type": "code",
   "execution_count": 56,
   "metadata": {},
   "outputs": [
    {
     "output_type": "execute_result",
     "data": {
      "text/plain": "[2,\n 3,\n 5,\n 7,\n 11,\n 13,\n 17,\n 19,\n 23,\n 29,\n 31,\n 37,\n 41,\n 43,\n 47,\n 53,\n 59,\n 61,\n 67,\n 71,\n 73,\n 79,\n 83,\n 89,\n 97]"
     },
     "metadata": {},
     "execution_count": 56
    }
   ],
   "source": [
    "get_primes(100)"
   ]
  },
  {
   "cell_type": "code",
   "execution_count": 58,
   "metadata": {},
   "outputs": [
    {
     "output_type": "stream",
     "name": "stdout",
     "text": "Help on function my_factorial in module __main__:\n\nmy_factorial(x)\n    This function calculates the factorial of x. Please put in a number\n    Use case my_factorial(5)\n\n"
    }
   ],
   "source": [
    "help(my_factorial)"
   ]
  },
  {
   "cell_type": "code",
   "execution_count": 68,
   "metadata": {},
   "outputs": [
    {
     "output_type": "stream",
     "name": "stdout",
     "text": "Help on built-in function sum in module builtins:\n\nsum(iterable, start=0, /)\n    Return the sum of a 'start' value (default: 0) plus an iterable of numbers\n    \n    When the iterable is empty, return the start value.\n    This function is intended specifically for use with numeric values and may\n    reject non-numeric types.\n\n"
    }
   ],
   "source": [
    "help(sum)"
   ]
  },
  {
   "cell_type": "code",
   "execution_count": null,
   "metadata": {},
   "outputs": [],
   "source": []
  }
 ]
}