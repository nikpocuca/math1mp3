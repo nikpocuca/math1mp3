{
 "nbformat": 4,
 "nbformat_minor": 2,
 "metadata": {
  "language_info": {
   "name": "python",
   "codemirror_mode": {
    "name": "ipython",
    "version": 2
   },
   "version": "2.7.17-final"
  },
  "orig_nbformat": 2,
  "file_extension": ".py",
  "mimetype": "text/x-python",
  "name": "python",
  "npconvert_exporter": "python",
  "pygments_lexer": "ipython2",
  "version": 2,
  "kernelspec": {
   "name": "python36964bit77ed9f1b5a914a5a918bb9131d7fd757",
   "display_name": "Python 3.6.9 64-bit"
  }
 },
 "cells": [
  {
   "cell_type": "code",
   "execution_count": 1,
   "metadata": {},
   "outputs": [],
   "source": [
    "# Week 1 Topics \n",
    "\n",
    "# More on Variable Declaration and Assignment \n",
    "\n",
    "# Some more primitive functions \n",
    "\n",
    "# Introduce if else statements \n",
    "\n",
    "# using print statements "
   ]
  },
  {
   "cell_type": "code",
   "execution_count": 9,
   "metadata": {},
   "outputs": [
    {
     "output_type": "stream",
     "name": "stdout",
     "text": "/bin/sh: 1: _patient: not found\n"
    }
   ],
   "source": [
    "# Variable Declaration \n",
    "\n",
    "# we should always name variables using a certain convention. \n",
    "\n",
    "# standard convention\n",
    "\n",
    "# alternate convention\n",
    "lastName = \"Smith\"\n",
    "# camelcase convention\n",
    "\n",
    "\n",
    "# depending on where you work, different organizations use different variable naming conventions. \n",
    "\n",
    "# example \n",
    "\n",
    "# No. \n",
    "3_patient  = \"a32409ff\"\n",
    "PATENTID = \"13df\"\n",
    "dontdolowercase = \"dafjasdf\"\n",
    "\n",
    "\n",
    "\n",
    "\n",
    "\n",
    "\n",
    "# Yes. \n",
    "last_name = \"Smith\"\n",
    "number_of_patients = 10\n",
    "patient_3 = \"9fj239j924d\"\n",
    "patient_check_var = True\n",
    "# standard convention\n"
   ]
  },
  {
   "cell_type": "code",
   "execution_count": 56,
   "metadata": {},
   "outputs": [
    {
     "output_type": "stream",
     "name": "stdout",
     "text": "Rounds down always: 1\nRounds down always: 1\nRounds down always: 2\nRounds down always: 1\nRounds down always: 1\n"
    },
    {
     "output_type": "execute_result",
     "data": {
      "text/plain": "bool"
     },
     "metadata": {},
     "execution_count": 56
    }
   ],
   "source": [
    "# More Primitive Functions \n",
    "\n",
    "# abs \n",
    "abs(-1)\n",
    "abs(-1.0)\n",
    "abs(-101)\n",
    "abs(101)\n",
    "\n",
    "# int \n",
    "print(\"Rounds down always:\", int(1.2))\n",
    "print(\"Rounds down always:\", int(1.75))\n",
    "print(\"Rounds down always:\", int(1.99999999999999999))\n",
    "print(\"Rounds down always:\", int(1.2))\n",
    "print(\"Rounds down always:\", int(float(\"1.234\")))\n",
    "\n",
    "\n",
    "# float \n",
    "float(\"25.134\")\n",
    "float(100)\n",
    "\n",
    "# complex \n",
    "complex(1.0,1.0)\n",
    "\n",
    "# pow\n",
    "2 ** 4 == pow(2,4)\n",
    "\n",
    "# is...? \n",
    "1 is 1\n",
    "\n",
    "# count\n",
    "\"aasdflkasdfasdf\".count(\"d\")\n",
    "\n",
    "# in \n",
    "\"w\" in \"pocuca\"\n",
    "\n",
    "# type\n",
    "type(\"w\") # string (str)\n",
    "type(1) # integer (int)\n",
    "type(1.2) # float (float)\n",
    "type(True) # boolean (bool)\n"
   ]
  },
  {
   "cell_type": "code",
   "execution_count": 23,
   "metadata": {},
   "outputs": [
    {
     "output_type": "stream",
     "name": "stdout",
     "text": "10715086071862673209484250490600018105614048117055336074437503883703510511249361224931983788156958581275946729175531468251871452856923140435984577574698574803934567774824230985421074605062371141877954182153046474983581941267398767559165543946077062914571196477686542167660429831652624386837205668069376\n"
    }
   ],
   "source": [
    "large_number = 2**1000\n",
    "print(large_number)"
   ]
  },
  {
   "cell_type": "code",
   "execution_count": 74,
   "metadata": {},
   "outputs": [],
   "source": [
    "# If- Else Statements\n",
    "\n",
    "weight = 20 # pounds \n",
    "\n",
    "if weight > 20:\n",
    "    print(\"weight is larger than 20\")\n",
    "elif weight < 20:\n",
    "    print(\"weight is less than 20\")\n",
    "else:\n",
    "    pass \n",
    "\n",
    "# Logical statements or questions that follow with executed code \n",
    "# passing \n"
   ]
  },
  {
   "cell_type": "code",
   "execution_count": 6,
   "metadata": {},
   "outputs": [],
   "source": [
    "name = \"nik\"\n"
   ]
  },
  {
   "cell_type": "code",
   "execution_count": 96,
   "metadata": {},
   "outputs": [
    {
     "output_type": "stream",
     "name": "stdout",
     "text": "First Four Digits of PI:     3.1416\nFirst Six Digits of PI:    3.141593\nSimple number to 5 digits 1002.50000\n"
    },
    {
     "output_type": "execute_result",
     "data": {
      "text/plain": "0"
     },
     "metadata": {},
     "execution_count": 96
    }
   ],
   "source": [
    "# Print statements \n",
    "# when to use them, and how to use them with strings. \n",
    "\n",
    "\n",
    "# last_name = \"Smith\"\n",
    "# age_of = 27\n",
    "\n",
    "# print(\"LAST NAME:\", last_name, \"AGE: \", age_of)\n",
    "\n",
    "\n",
    "# convergence_check = 0.0001\n",
    "# print(\"Phi is: \", convergence_check)\n",
    "\n",
    "\n",
    "pi = 3.14159265359\n",
    "\n",
    "pi_to_four_digits = \"%10.4f\" % pi\n",
    "\n",
    "\n",
    "pi_to_six_digits = \"%10.6f\" % pi\n",
    "\n",
    "print(\"First Four Digits of PI:\", pi_to_four_digits)\n",
    "print(\"First Six Digits of PI: \", pi_to_six_digits)\n",
    "\n",
    "simple_number = 1002.5\n",
    "simple_number_to_5_digits = \"%1.5f\" % simple_number\n",
    "print(\"Simple number to 5 digits\", simple_number_to_5_digits)\n",
    "\n"
   ]
  },
  {
   "cell_type": "code",
   "execution_count": 111,
   "metadata": {},
   "outputs": [
    {
     "output_type": "stream",
     "name": "stdout",
     "text": "Customer 1 BILL:  12.55\nCustomer 2 BILL:  66.37\nCustomer 3 BILL:  70.88\nCustomer 3 DISCOUNT:  1.38\nCustomer 3 TAX:  3.38\n"
    }
   ],
   "source": [
    "# If statements part  2\n",
    "# Some examples \n",
    "\n",
    "\n",
    "# The following items have their prices assigned as variable names. \n",
    "\n",
    "item_1 = 1.50\n",
    "item_2 = 2.73\n",
    "item_3 = 54.20\n",
    "item_4 = 10.3\n",
    "item_5 = 0.15\n",
    "\n",
    "# with a 5% tax figure out the resultant bill for each customer \n",
    "\n",
    "# Customer 1 bought item_1, item_4, item_5 \n",
    "# What is the total charge of the customer? be sure to round to 2 decimal places (cents)\n",
    "\n",
    "charge = item_1 + item_4 + item_5 \n",
    "final = round(1.05*charge,2)\n",
    "print(\"Customer 1 BILL: \", final)\n",
    "\n",
    "# Customer 2 bought items 3 and 4. \n",
    "# note that if the cost of items exceed 50 dollars, than a discount of 2% is awarded before calculating tax. \n",
    "charge = item_3 + item_4 \n",
    "discounted_charge = charge*(0.98)\n",
    "tax_charge = discounted_charge*1.05\n",
    "final = round(tax_charge,2)\n",
    "print(\"Customer 2 BILL: \", final)\n",
    "\n",
    "# Customer 3 bought everything. \n",
    "# what did they pay in taxes in dollars \n",
    "# what is the total discount in dollars \n",
    "charge = item_1 + item_2 + item_3 + item_4 + item_5\n",
    "discounted_charge = charge*0.98\n",
    "tax_charge = discounted_charge*1.05\n",
    "final = round(tax_charge,2)\n",
    "print(\"Customer 3 BILL: \", final)\n",
    "print(\"Customer 3 DISCOUNT: \", round(charge - discounted_charge,2))\n",
    "print(\"Customer 3 TAX: \", round(tax_charge - discounted_charge,2))\n",
    "\n"
   ]
  },
  {
   "cell_type": "code",
   "execution_count": 112,
   "metadata": {},
   "outputs": [
    {
     "output_type": "stream",
     "name": "stdout",
     "text": "MPG CAR 1: 66.25\nMPG CAR 2: 59.15492957746479\nMPG CAR 3: 250.0\n"
    }
   ],
   "source": [
    "# Calculating MPG \n",
    "\n",
    "# There are 4 cars, and they have their total miles driven, and the amount of gas used in gallons (they are all non-electric cars). \n",
    "\n",
    "\n",
    "# Car 1 \n",
    "# I drove 53 miles with car one, and used 0.80 gallons \n",
    "# calculate miles per gallon\n",
    "mpg_car_1 = 53/0.80\n",
    "print(\"MPG CAR 1:\", mpg_car_1)\n",
    "\n",
    "\n",
    "# Car 2 \n",
    "# I drove 42 miles with car two, and used 0.71 gallons\n",
    "# calculate miles per gallon\n",
    "mpg_car_2 = 42/0.71\n",
    "print(\"MPG CAR 2:\", mpg_car_2)\n",
    "\n",
    "\n",
    "# Car 3 \n",
    "# I drove for 25 miles with car three, and used 0.10 gallons\n",
    "# calculate miles per gallon \n",
    "mpg_car_3 = 25/0.10\n",
    "print(\"MPG CAR 3:\", mpg_car_3)\n",
    "\n",
    "\n",
    "# Car 4\n",
    "# I drove 100 miles at 100MPH, how long did it take to get there? \n",
    "\n",
    ""
   ]
  },
  {
   "cell_type": "code",
   "execution_count": 133,
   "metadata": {},
   "outputs": [
    {
     "output_type": "stream",
     "name": "stdout",
     "text": "1 3 2\n3 2 1\n"
    }
   ],
   "source": [
    "# there are three variables defined x,y, and z \n",
    "x,y,z = 43,106,10\n",
    "\n",
    "\n",
    "# Find the maximum between x and y, and make it so that x is the largest and y is the smallest. \n",
    "#print(x,y)\n",
    "if x > y:\n",
    "    pass\n",
    "elif x < y:\n",
    "    # switch x, and y \n",
    "    x,y = y,x\n",
    "else:\n",
    "    pass  \n",
    "\n",
    "\n",
    "#print(x,y)\n",
    "\n",
    "# Sort the variables x,y and z. \n",
    "#x,y,z = 1,2,3 \n",
    "#x,y,z = 2,1,3\n",
    "#x,y,z = 2,3,1\n",
    "#x,y,z = 3,1,2\n",
    "#x,y,z = 3,2,1\n",
    "#x,y,z = 1,3,2\n",
    "\n",
    "print(x,y,z)\n",
    "if x < y:\n",
    "    # x and y are sorted, ie x is bigger than y \n",
    "    x,y = y,x\n",
    "#    print(x,y,z)\n",
    "    if x < z:\n",
    "        x,z = z,x\n",
    "        z,y = y,z\n",
    "    if y > z: \n",
    "        pass\n",
    "#print(x,y,z)\n",
    "\n",
    "if y < z:\n",
    "    z,y = y,z\n",
    "#    print(x,y,z)\n",
    "    if x < y:\n",
    "        x,y = y,x\n",
    "\n",
    "\n",
    "if x < z: \n",
    "    z,x = x,z \n",
    "    if x < y:\n",
    "        x,y = y,x \n",
    "        if z > y:\n",
    "            y,z = z,y\n",
    "\n",
    "print(x,y,z)\n",
    "\n",
    "\n",
    "# note you have write a series of if statements for the general case.\n",
    "\n",
    "#print(x,y,z)\n"
   ]
  },
  {
   "cell_type": "code",
   "execution_count": 5,
   "metadata": {},
   "outputs": [
    {
     "output_type": "stream",
     "name": "stdout",
     "text": "Double in K to Ceclius  273.0\n"
    }
   ],
   "source": [
    "temp_outside_in_celcius = 32 \n",
    "\n",
    "# Celcius to Fahrenheit \n",
    "temp_in_fahren = (9.0/5)* temp_outside_in_celcius + 32\n",
    "#print(\"TEMP IN C*\",temp_outside_in_celcius,\"TEMP IN F*:\",temp_in_fahren)\n",
    "\n",
    "# Fahrenheit to Celcius \n",
    "temp_in_cel = (temp_in_fahren - 32)*(5.0/9)\n",
    "\n",
    "#print(\"TEMP IN C*\",temp_in_cel,\"TEMP IN F*:\",temp_in_fahren)\n",
    "\n",
    "# if it is 0 degrees outside and you double the temperature, how many degrees is it? \n",
    "\n",
    "# convert 0 degrees to kelvin \n",
    "temp_in_cel = 0.0 \n",
    "temp_in_K = temp_in_cel + 273\n",
    "double_in_K = temp_in_K*2.0 \n",
    "double_in_cel = double_in_K - 273\n",
    "\n",
    "print(\"Double in K to Ceclius \",double_in_cel)\n"
   ]
  },
  {
   "cell_type": "code",
   "execution_count": 18,
   "metadata": {},
   "outputs": [
    {
     "output_type": "stream",
     "name": "stdout",
     "text": "First Transaction:  76099.9\nSecond Transaction:  75652.08\nBEFORE COMISSION: 1096.0950000000012\nAFTER COMISSION:  -447.8249999999971\nWITHOUT COMISSION: 2588.2499999999886\nTOTAL COMISSION 3036.075\n"
    }
   ],
   "source": [
    "# Calculating Stock Gain and Loss \n",
    "\n",
    "# last month, Joe purchased some stock in Apple Computers for 142.11 dollars US per share. \n",
    "# the number of shares that Joe purchased was 525\n",
    "# Ontop of the purchase, Joe pays 2% comission \n",
    "\n",
    "stock_price_last_month = 142.11\n",
    "num_of_shares = 525 \n",
    "c = 0.02\n",
    "\n",
    "first_trans = stock_price_last_month*num_of_shares*(1 + c)\n",
    "print(\"First Transaction: \", round(first_trans,2))\n",
    "\n",
    "# two weeks later Joe sells all of his shares. \n",
    "# the stock for Apple Computers is 147.04\n",
    "# he pays 2% comission again. \n",
    "\n",
    "two_weeks_price = 147.04\n",
    "second_trans = two_weeks_price*num_of_shares*(1-c)\n",
    "print(\"Second Transaction: \", round(second_trans,2))\n",
    "\n",
    "before_comission = second_trans/(1-c) - first_trans\n",
    "after_comission  = second_trans - first_trans\n",
    "print(\"BEFORE COMISSION:\",before_comission)\n",
    "print(\"AFTER COMISSION: \", after_comission)\n",
    "\n",
    "without_comission = (two_weeks_price - stock_price_last_month)*num_of_shares\n",
    "print(\"WITHOUT COMISSION:\",without_comission)\n",
    "\n",
    "total_comission = two_weeks_price*num_of_shares*c + stock_price_last_month*num_of_shares*(c)\n",
    "print(\"TOTAL COMISSION\", total_comission)\n",
    "\n",
    "# how much money did Joe purchase the stocks for, including comission. \n",
    "# how much money did Joe make when he sold his stock before comission, and after. \n",
    "# how much total comission did Joe have to pay. \n"
   ]
  },
  {
   "cell_type": "code",
   "execution_count": 30,
   "metadata": {},
   "outputs": [
    {
     "output_type": "stream",
     "name": "stdout",
     "text": "YEAR:  1996  is a leap year\n"
    }
   ],
   "source": [
    "# Calculating Leap Years \n",
    "\n",
    "# if a year is divisible by 4 then it could be a leap year. \n",
    "# if the year is divisible by 100, then it may not be a leap year. \n",
    "# if a year is divisible by 400 then it is definitely a leap year. \n",
    "# some examples \n",
    "\n",
    "#year = 1994\n",
    "#year = 2000\n",
    "#year = 2016\n",
    "#year = 1900\n",
    "#year = 2100\n",
    "#year = 1996\n",
    "\n",
    "\n",
    "\n",
    "# statements here \n",
    "if year % 400 == 0:\n",
    "    print(\"YEAR: \",year ,\" is a leap year\")\n",
    "elif year % 4 == 0:\n",
    "    if year % 100 == 0:\n",
    "        print(\"YEAR: \",year ,\" is not a leap year\")\n",
    "    else:\n",
    "        print(\"YEAR: \",year ,\" is a leap year\")\n",
    "else:\n",
    "    print(\"YEAR: \",year ,\" is not a leap year\")\n"
   ]
  },
  {
   "cell_type": "code",
   "execution_count": 26,
   "metadata": {},
   "outputs": [
    {
     "output_type": "stream",
     "name": "stdout",
     "text": "setting male ratio\n==========================================================\n    BAC CALCULATOR    \n==========================================================\nFor a M,\nof weight 220lbs,\nhours elapsed 0.5hours ,\nhas BAC 0.1971654545454545.\n========================================================\nYOU ARE ABOVE THE LEGAL LIMIT\n========================================================\n"
    }
   ],
   "source": [
    "\n",
    "# Calculating Blood Alcohol content \n",
    "\n",
    "#bio_sex, alc_consumed, weight, hours, = \"M\", 12, 190, 0.5\n",
    "# bio_sex, alc_consumed, weight, hours, = \"M\", 12, 200, 0.5 \n",
    "#bio_sex, alc_consumed, weight, hours, = \"M\", 12, 210, 0.5 \n",
    "#bio_sex, alc_consumed, weight, hours, = \"M\", 12, 220, 0.5 \n",
    "bio_sex, alc_consumed, weight, hours, = \"M\", 12, 220, 0.5 \n",
    "# bio_sex, alc_consumed, weight, hours, = \"F\", 12, 190, 0.5 \n",
    "\n",
    "# BAC calculator Formula:\n",
    "#    BAC% = (A × 5.14/W × r) - .015 × H\n",
    "# Where:\n",
    "#    A: Total alcohol consumed, in ounces (oz)\n",
    "#    W: Body weight, in pounds (lbs)\n",
    "#    r: The alcohol distribution ratio, 0.73 for man, and 0.66 for women\n",
    "#    H: Time passed since drinking, in hours\n",
    "\n",
    "\n",
    "r = 0\n",
    "if bio_sex == \"M\":\n",
    "    print(\"setting male ratio\")\n",
    "    r = 0.73\n",
    "else:\n",
    "    print(\"setting female ratio\")\n",
    "    r = 0.66\n",
    "\n",
    "BAC = (alc_consumed*(5.14/weight)*r ) - 0.015*hours\n",
    "\n",
    "\n",
    "print(\"=============================\"*2)\n",
    "print(\"    BAC CALCULATOR    \")\n",
    "print(\"=============================\"*2)\n",
    "print(\"For a \" + bio_sex + \",\")\n",
    "print(\"of weight \" + str(weight) +\"lbs,\")\n",
    "print(\"hours elapsed \" + str(hours) + \"hours ,\")\n",
    "print(\"has BAC \" + str(BAC) + \".\")\n",
    "print(\"============================\"*2)\n",
    "if BAC > 0.08:\n",
    "    print(\"YOU ARE ABOVE THE LEGAL LIMIT\")\n",
    "print(\"============================\"*2)\n",
    "\n",
    "# Find the formula here: http://www.endmemo.com/medical/bac.php\n",
    ""
   ]
  },
  {
   "cell_type": "code",
   "execution_count": 50,
   "metadata": {},
   "outputs": [
    {
     "output_type": "stream",
     "name": "stdout",
     "text": "Hi Nik, nice to meet you.\nWow, you are 20 years old.\nYour year of birth is: 2000\nYEAR:  2000  is a leap year\n"
    }
   ],
   "source": [
    "# inputs \n",
    "# more print statments , hours worked, major, \n",
    "\n",
    "name = input(\"What is your name?\")\n",
    "print(\"Hi \" + name + \", nice to meet you.\")\n",
    "age_input = input(\"What is your age?\")\n",
    "\n",
    "current_year = 2020\n",
    "age = int(float(age_input))\n",
    "# age = int(age_input)\n",
    "\n",
    "if not 0 < age:\n",
    "    print(\"You are silly, that isn't a valid age.\")        \n",
    "else:\n",
    "    print(\"Wow, you are \" + str(age) + \" years old.\")\n",
    "    year_of_birth = current_year - age\n",
    "    print(\"Your year of birth is:\",year_of_birth)\n",
    "    if age > 100:\n",
    "        print(\"Wow you are very old!\")\n",
    "    year = year_of_birth\n",
    "    # statements here \n",
    "    if year % 400 == 0:\n",
    "        print(\"YEAR: \",year ,\" is a leap year\")\n",
    "    elif year % 4 == 0:\n",
    "        if year % 100 == 0:\n",
    "            print(\"YEAR: \",year ,\" is not a leap year\")\n",
    "        else:\n",
    "            print(\"YEAR: \",year ,\" is a leap year\")\n",
    "    else:\n",
    "        print(\"YEAR: \",year ,\" is not a leap year\")\n",
    "\n",
    ""
   ]
  }
 ]
}