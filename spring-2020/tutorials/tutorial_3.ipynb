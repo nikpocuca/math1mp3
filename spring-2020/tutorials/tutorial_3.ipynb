{
 "cells": [
  {
   "cell_type": "markdown",
   "metadata": {
    "button": false,
    "collapsed": true,
    "new_sheet": false,
    "run_control": {
     "read_only": false
    }
   },
   "source": [
    "**Topics**\n",
    "\n",
    "  * functions\n",
    "  * local/global scopes\n",
    "  * return\n",
    "  * argument \n",
    "  * key word arguments \n",
    "  * variable number of arguments \n",
    "  * higher order functions \n",
    "  * defensive programming \n",
    "  * recursion"
   ]
  },
  {
   "cell_type": "markdown",
   "metadata": {},
   "source": [
    "**Exercise 1**\n",
    "\n",
    "Write a recursive function that takes an integer and returns the sum of its digits."
   ]
  },
  {
   "cell_type": "code",
   "execution_count": 47,
   "metadata": {},
   "outputs": [],
   "source": [
    "def digits_sum(number):\n",
    "    \"\"\"Sums all digits from the number, number.\n",
    "    \n",
    "    >>> digits_sum(100)\n",
    "    1\n",
    "    \n",
    "    >>> digits_sum(239)\n",
    "    14\n",
    "    \n",
    "    >>> digits_sum(987)    \n",
    "    24\n",
    "    \"\"\"\n",
    "    if number == number % 10:\n",
    "        return number\n",
    "    else:\n",
    "        return number % 10 + digits_sum(number // 10)"
   ]
  },
  {
   "cell_type": "code",
   "execution_count": 48,
   "metadata": {},
   "outputs": [
    {
     "data": {
      "text/plain": [
       "14"
      ]
     },
     "execution_count": 48,
     "metadata": {},
     "output_type": "execute_result"
    }
   ],
   "source": [
    "digits_sum(239)"
   ]
  },
  {
   "cell_type": "markdown",
   "metadata": {},
   "source": [
    "**Exercise 2** (Only completed in the 5:00PM tutorial)\n",
    "\n",
    "_Definition:_ A positive proper divisor of a number $n$ is any positive number (not including $n$ itself) that divides $n$ with no remainder. E.g., The positive proper divisors of 6 are 1, 2, and 3.\n",
    "\n",
    "_Definition:_ A perfect number is any number whose positive proper divisors sum to itself. E.g., 6 is a perfect number as the sum of its positive proper divisors is `1 + 2 + 3 = 6`.\n",
    "\n",
    "The goal of this exercise is to write code that finds all perfect numbers within a given range. \n",
    "We will build up to this.\n",
    "\n",
    "---\n",
    "\n",
    "**_part a._**\n",
    "\n",
    "Write a function that finds all positive proper divisors of a number."
   ]
  },
  {
   "cell_type": "code",
   "execution_count": 103,
   "metadata": {},
   "outputs": [],
   "source": [
    "def pos_prop_divisors(num : int) -> list:\n",
    "    \"\"\"Returns a list of all positive proper divisors of the nonnegative integer num.\n",
    "    \n",
    "    >>> pos_prop_divisors(6)\n",
    "    [1, 2, 3]\n",
    "    \n",
    "    >>> pos_prop_divisors(36)\n",
    "    [1, 2, 3, 4, 6, 9, 12, 18]\n",
    "    \n",
    "    >>> pos_prop_divisors(89)\n",
    "    [1]\n",
    "    \n",
    "    \"\"\"\n",
    "    \n",
    "    if num < 1:\n",
    "        return None\n",
    "    \n",
    "    divisors = [1] # 1 divides all numbers, so we can include it from the get-go\n",
    "    \n",
    "    for integer in range(2, num): # do not want to divide by 0, so start \n",
    "        if num % integer == 0:\n",
    "            divisors.append(integer)\n",
    "    \n",
    "    return divisors"
   ]
  },
  {
   "cell_type": "code",
   "execution_count": 107,
   "metadata": {},
   "outputs": [
    {
     "name": "stdout",
     "output_type": "stream",
     "text": [
      "[1, 2, 3]\n",
      "[1, 2, 3, 4, 6, 9, 12, 18]\n",
      "[1]\n"
     ]
    }
   ],
   "source": [
    "print(pos_prop_divisors(6))\n",
    "print(pos_prop_divisors(36))\n",
    "print(pos_prop_divisors(89))"
   ]
  },
  {
   "cell_type": "markdown",
   "metadata": {},
   "source": [
    "**_part b._**\n",
    "\n",
    "Write a function that checks if a positive number is a perfect number."
   ]
  },
  {
   "cell_type": "code",
   "execution_count": 129,
   "metadata": {},
   "outputs": [],
   "source": [
    "def is_perfect(num):\n",
    "    \"\"\"Returns True if and only if num is a perfect number.\n",
    "    \n",
    "    >>> is_perfect(6)\n",
    "    True\n",
    "    \n",
    "    >>> is_perfect(7)\n",
    "    False\n",
    "    \n",
    "    >>> is_perfect(14)\n",
    "    False\n",
    "    \"\"\"\n",
    "    try:\n",
    "        divisors_list = pos_prop_divisors(num)\n",
    "        divisors_sum = sum(divisors_list)\n",
    "        return divisors_sum == num\n",
    "    except:\n",
    "        print(\"Error\")\n",
    "        return None"
   ]
  },
  {
   "cell_type": "code",
   "execution_count": 134,
   "metadata": {},
   "outputs": [
    {
     "name": "stdout",
     "output_type": "stream",
     "text": [
      "True\n",
      "False\n",
      "False\n",
      "True\n"
     ]
    }
   ],
   "source": [
    "print(is_perfect(6))\n",
    "print(is_perfect(7))\n",
    "print(is_perfect(14))\n",
    "print(is_perfect(28))"
   ]
  },
  {
   "cell_type": "markdown",
   "metadata": {},
   "source": [
    "**_part c._**\n",
    "\n",
    "Write a function that takes a number as input, and returns a list of all perfect numbers that are less than or equal to this number."
   ]
  },
  {
   "cell_type": "code",
   "execution_count": 135,
   "metadata": {},
   "outputs": [],
   "source": [
    "def perfect_numbers(maximum):\n",
    "    \"\"\"Returns all numbers less than or equal to maximum that are perfect.\n",
    "    \n",
    "    >>> perfect_numbers(6)\n",
    "    [6]\n",
    "    \n",
    "    >>> perfect_numbers(30)\n",
    "    [6, 28]\n",
    "    \n",
    "    >>> perfect_numbers(1)\n",
    "    []\n",
    "    \n",
    "    \"\"\"\n",
    "    perfects = []\n",
    "    \n",
    "    # 6 is the smallest perfect number, so we start our range at 6\n",
    "    # if maximum is less than 6, then this for loop does not run at all\n",
    "    # we have to add one to maximum to include maximum in the range\n",
    "    for number in range(6, maximum + 1):\n",
    "        if is_perfect(number):\n",
    "            perfects.append(number)\n",
    "            # or, perfects += [number]\n",
    "    \n",
    "    return perfects"
   ]
  },
  {
   "cell_type": "code",
   "execution_count": 140,
   "metadata": {},
   "outputs": [
    {
     "data": {
      "text/plain": [
       "[6, 28, 496, 8128]"
      ]
     },
     "execution_count": 140,
     "metadata": {},
     "output_type": "execute_result"
    }
   ],
   "source": [
    "perfect_numbers(9000)"
   ]
  },
  {
   "cell_type": "markdown",
   "metadata": {},
   "source": [
    "**Exercise 3** (Only completed in the 6:00PM tutorial)\n",
    "\n",
    "(from the optional course textbook: chapter 3, exercise 8)\n",
    "\n",
    "Complete the examples in the docstring and write the body of the following function, where `day1` and `day2` are integers:\n",
    "\n",
    "```python\n",
    "import math\n",
    "\n",
    "def weeks_elapsed(day1, day2):\n",
    "    \"\"\"\n",
    "    day1 and day2 are days in the same year. \n",
    "    Return the number of full weeks that have elapsed between the two days.\n",
    "    \n",
    "    >>> weeks_elapsed(3, 20)\n",
    "    2\n",
    "    \n",
    "    >>> weeks_elapsed(20, 3)\n",
    "    2\n",
    "    \n",
    "    >>> weeks_elapsed(8, 5)\n",
    "    ?\n",
    "    \n",
    "    >>> weeks_elapsed(40, 61)\n",
    "    ?\n",
    "    \"\"\"\n",
    "    # complete the function here\n",
    "```"
   ]
  },
  {
   "cell_type": "code",
   "execution_count": 151,
   "metadata": {},
   "outputs": [],
   "source": [
    "import math\n",
    "\n",
    "def weeks_elapsed(day1, day2):\n",
    "    \"\"\"\n",
    "    day1 and day2 are days in the same year. Return the number of full weeks that have elapsed between the two days.\n",
    "    \n",
    "    >>> weeks_elapsed(3, 20)\n",
    "    2\n",
    "    \n",
    "    >>> weeks_elapsed(20, 3)\n",
    "    2\n",
    "    \n",
    "    >>> weeks_elapsed(8, 5)\n",
    "    0\n",
    "    \n",
    "    >>> weeks_elapsed(40, 61)\n",
    "    3\n",
    "    \"\"\"\n",
    "    # get the total number of days\n",
    "    num_days = abs(day2 - day1)\n",
    "    \n",
    "    # convert days to weeks, rounding down\n",
    "    num_weeks = num_days // 7\n",
    "    \n",
    "    return int(num_weeks)\n",
    "    "
   ]
  },
  {
   "cell_type": "code",
   "execution_count": 150,
   "metadata": {},
   "outputs": [
    {
     "name": "stdout",
     "output_type": "stream",
     "text": [
      "2\n",
      "2\n",
      "0\n",
      "3\n"
     ]
    }
   ],
   "source": [
    "print(weeks_elapsed(3, 20))\n",
    "print(weeks_elapsed(20, 3))\n",
    "print(weeks_elapsed(8, 5))\n",
    "print(weeks_elapsed(40, 61))"
   ]
  },
  {
   "cell_type": "code",
   "execution_count": null,
   "metadata": {},
   "outputs": [],
   "source": []
  }
 ],
 "metadata": {
  "kernelspec": {
   "display_name": "Python 3",
   "language": "python",
   "name": "python3"
  },
  "language_info": {
   "codemirror_mode": {
    "name": "ipython",
    "version": 3
   },
   "file_extension": ".py",
   "mimetype": "text/x-python",
   "name": "python",
   "nbconvert_exporter": "python",
   "pygments_lexer": "ipython3",
   "version": "3.7.1"
  }
 },
 "nbformat": 4,
 "nbformat_minor": 1
}
