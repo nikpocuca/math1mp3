{
 "cells": [
  {
   "cell_type": "markdown",
   "metadata": {
    "button": false,
    "new_sheet": false,
    "run_control": {
     "read_only": false
    }
   },
   "source": [
    "**Topics**\n",
    "\n",
    "  * lists\n",
    "  * for and while loops\n",
    "  * iteration over lists\n",
    "  * infinite loops\n",
    "  * breaks\n",
    "  * iteration over strings\n",
    "  * concatenation with strings"
   ]
  },
  {
   "cell_type": "markdown",
   "metadata": {
    "button": false,
    "new_sheet": false,
    "run_control": {
     "read_only": false
    }
   },
   "source": [
    "**Exercise 1**\n",
    "\n",
    "Write code that removes all duplicate entries from a list.\n",
    "\n",
    "I.e., if our list is `[1, 2, 3]`, it should remain unchanged.\n",
    "However, if our list is `[1, 1, 2, 3, 1, 2]`, it should become `[1, 2, 3]`.\n",
    "\n",
    "The order between unique elements should remain unchanged."
   ]
  },
  {
   "cell_type": "code",
   "execution_count": 17,
   "metadata": {
    "button": false,
    "collapsed": true,
    "new_sheet": false,
    "run_control": {
     "read_only": false
    }
   },
   "outputs": [],
   "source": [
    "list_2_1 = [1, 2, 3]\n",
    "list_2_2 = [1, 1, 2, 3, 1, 2]\n",
    "list_2_3 = [\"apple\", \"banana\", \"apple\", \"blackberry\", \"blackberry\"]"
   ]
  },
  {
   "cell_type": "code",
   "execution_count": 18,
   "metadata": {
    "button": false,
    "new_sheet": false,
    "run_control": {
     "read_only": false
    }
   },
   "outputs": [
    {
     "name": "stdout",
     "output_type": "stream",
     "text": [
      "['apple', 'banana', 'blackberry']\n"
     ]
    }
   ],
   "source": [
    "output_list = []\n",
    "\n",
    "list_2 = list_2_3\n",
    "\n",
    "for item in list_2:\n",
    "    if item not in output_list:\n",
    "        output_list.append(item)\n",
    "    # else:\n",
    "        # do nothing!\n",
    "print(output_list)"
   ]
  },
  {
   "cell_type": "markdown",
   "metadata": {
    "button": false,
    "new_sheet": false,
    "run_control": {
     "read_only": false
    }
   },
   "source": [
    "**Exercise 2**\n",
    "\n",
    "Write code to find the 2nd largest number in an unsorted integer array.\n",
    "\n",
    "_The exact length of the list is unknown, but we will assume it is at least length 2._\n",
    "\n",
    "___\n",
    "\n",
    "Some examples:\n",
    "\n",
    "  * Considering `[1, 2, 3]` should return the number `2`.\n",
    "  * Considering `[1, 2, 3, 3]` should return the number `3`.\n",
    "  * Considering `[11, 11]` should return the number `11`."
   ]
  },
  {
   "cell_type": "code",
   "execution_count": 28,
   "metadata": {
    "button": false,
    "collapsed": true,
    "new_sheet": false,
    "run_control": {
     "read_only": false
    }
   },
   "outputs": [],
   "source": [
    "# this is pretty simple with two passes through the list:\n",
    "# one pass to find the largest number\n",
    "# then remove this number,\n",
    "# and pass through again to find the new largest number"
   ]
  },
  {
   "cell_type": "code",
   "execution_count": null,
   "metadata": {
    "button": false,
    "collapsed": true,
    "new_sheet": false,
    "run_control": {
     "read_only": false
    }
   },
   "outputs": [],
   "source": [
    "list_3_1 = [0, 1, -1, 2, -2]\n",
    "list_3_2 = [2020, 11, -3.14159, -365, 525600, -1729]\n",
    "list_3_3 = [8, 1, 5, 3, 2, 1, 0]"
   ]
  },
  {
   "cell_type": "code",
   "execution_count": 38,
   "metadata": {
    "button": false,
    "new_sheet": false,
    "run_control": {
     "read_only": false
    }
   },
   "outputs": [
    {
     "name": "stdout",
     "output_type": "stream",
     "text": [
      "The second largest number is 1\n"
     ]
    }
   ],
   "source": [
    "nums = [-2, -1, 0, 1, 2]\n",
    "\n",
    "largest_number = nums[0]\n",
    "\n",
    "for number in nums:\n",
    "    if number > largest_number:\n",
    "        largest_number = number\n",
    "\n",
    "nums.remove(largest_number)\n",
    "\n",
    "largest_number = nums[0]\n",
    "\n",
    "for number in nums:\n",
    "    if number > largest_number:\n",
    "        largest_number = number\n",
    "\n",
    "print(\"The second largest number is\", largest_number)"
   ]
  },
  {
   "cell_type": "code",
   "execution_count": 42,
   "metadata": {
    "button": false,
    "new_sheet": false,
    "run_control": {
     "read_only": false
    }
   },
   "outputs": [
    {
     "name": "stdout",
     "output_type": "stream",
     "text": [
      "The second largest number is 0\n"
     ]
    }
   ],
   "source": [
    "nums = [0, 0, 1]\n",
    "\n",
    "largest_number = nums[0]\n",
    "second_largest = nums[0]\n",
    "\n",
    "for number in nums:\n",
    "    if number > largest_number:\n",
    "        largest_number, second_largest = number, largest_number\n",
    "    elif second_largest < number <= largest_number:\n",
    "        second_largest = number\n",
    "    # otherwise, the number is smaller than the second largest, and no action is needed\n",
    "\n",
    "print(\"The second largest number is\", second_largest)"
   ]
  },
  {
   "cell_type": "markdown",
   "metadata": {
    "button": false,
    "new_sheet": false,
    "run_control": {
     "read_only": false
    }
   },
   "source": [
    "_The simplest method, however, is to use the `sort()` method._"
   ]
  },
  {
   "cell_type": "code",
   "execution_count": 33,
   "metadata": {
    "button": false,
    "collapsed": true,
    "new_sheet": false,
    "run_control": {
     "read_only": false
    }
   },
   "outputs": [],
   "source": [
    "nums = [9, 11, 2020, -98, 525600, 3.14159, -1234567, 0]"
   ]
  },
  {
   "cell_type": "code",
   "execution_count": 34,
   "metadata": {
    "button": false,
    "new_sheet": false,
    "run_control": {
     "read_only": false
    }
   },
   "outputs": [
    {
     "name": "stdout",
     "output_type": "stream",
     "text": [
      "[9, 11, 2020, -98, 525600, 3.14159, -1234567, 0]\n",
      "[-1234567, -98, 0, 3.14159, 9, 11, 2020, 525600]\n",
      "2020\n"
     ]
    }
   ],
   "source": [
    "print(nums)\n",
    "nums.sort()\n",
    "print(nums)\n",
    "print(nums[-2])"
   ]
  },
  {
   "cell_type": "markdown",
   "metadata": {
    "button": false,
    "new_sheet": false,
    "run_control": {
     "read_only": false
    }
   },
   "source": [
    "**Exercise 3**\n",
    "\n",
    "Given a nested list where each inner list is a student ID/student name pair, return a new list containing all the student names."
   ]
  },
  {
   "cell_type": "code",
   "execution_count": 1,
   "metadata": {
    "button": false,
    "new_sheet": false,
    "run_control": {
     "read_only": false
    }
   },
   "outputs": [
    {
     "name": "stdout",
     "output_type": "stream",
     "text": [
      "['Adam', 'Eve', 'Steve', 'X Æ A-12']\n"
     ]
    }
   ],
   "source": [
    "students = [[123, 'Adam'], [456, 'Eve'], [789, 'Steve'], [2020, 'X Æ A-12']]\n",
    "\n",
    "student_names = []\n",
    "\n",
    "for student in students:\n",
    "    student_names.append(student[-1])\n",
    "\n",
    "print(student_names)"
   ]
  },
  {
   "cell_type": "markdown",
   "metadata": {
    "button": false,
    "new_sheet": false,
    "run_control": {
     "read_only": false
    }
   },
   "source": [
    "**Exercise 4**\n",
    "\n",
    "Write code that prints all the numbers in the Fibonacci sequence that are less than 1000.\n",
    "\n",
    "The Fibonacci sequence is a sequence of integers that begins 0, 1, and each successive term is found by summing the two previous terms.\n",
    "So, the first five terms of the Fibonacci sequence are 0, 1, 1, 2, 3."
   ]
  },
  {
   "cell_type": "code",
   "execution_count": 2,
   "metadata": {
    "button": false,
    "new_sheet": false,
    "run_control": {
     "read_only": false
    }
   },
   "outputs": [
    {
     "name": "stdout",
     "output_type": "stream",
     "text": [
      "0 1 1 2 3 5 8 13 21 34 55 89 144 233 377 610 987 "
     ]
    }
   ],
   "source": [
    "second_last_term = 0\n",
    "last_term = 1\n",
    "next_term = second_last_term + last_term\n",
    "\n",
    "print(second_last_term, last_term, end=' ')\n",
    "\n",
    "while next_term < 1000:\n",
    "    print(next_term, end=' ')\n",
    "    second_last_term = last_term\n",
    "    last_term = next_term\n",
    "    next_term = second_last_term + last_term"
   ]
  },
  {
   "cell_type": "markdown",
   "metadata": {
    "button": false,
    "new_sheet": false,
    "run_control": {
     "read_only": false
    }
   },
   "source": [
    "**Exercise 5**\n",
    "\n",
    "(Infinite loops). Print all the Fibonacci numbers."
   ]
  },
  {
   "cell_type": "code",
   "execution_count": 58,
   "metadata": {
    "button": false,
    "new_sheet": false,
    "run_control": {
     "read_only": false
    }
   },
   "outputs": [
    {
     "name": "stdout",
     "output_type": "stream",
     "text": [
      "0 1 1 2 3 5 8 13 21 34 55 89 144 233 377 610 987 1597 "
     ]
    }
   ],
   "source": [
    "second_last_term = 0\n",
    "last_term = 1\n",
    "next_term = second_last_term + last_term\n",
    "\n",
    "print(second_last_term, last_term, end=' ')\n",
    "\n",
    "while True:\n",
    "    print(next_term, end=' ')\n",
    "    second_last_term = last_term\n",
    "    last_term = next_term\n",
    "    next_term = second_last_term + last_term"
   ]
  },
  {
   "cell_type": "markdown",
   "metadata": {
    "button": false,
    "new_sheet": false,
    "run_control": {
     "read_only": false
    }
   },
   "source": [
    "What happened?\n",
    "What can we do so this doesn't happen?\n",
    "\n",
    "___\n",
    "\n",
    "To stop an infinite loop if you've run the cell, you have two options in Jupyter:\n",
    "  * Choose `Interrupt` from the `Kernel` menu\n",
    "  * Enter command mode and press `I` twice.\n",
    "  \n",
    "  \n",
    "For any other IDE, look for a 'stop' button.\n",
    "If you're running Python through Bash, use `Ctrl + C`."
   ]
  },
  {
   "cell_type": "markdown",
   "metadata": {
    "button": false,
    "new_sheet": false,
    "run_control": {
     "read_only": false
    }
   },
   "source": [
    "_To avoid infinite loops, either choose a good condition (like in exercise 6), or use a break term (see next)._"
   ]
  },
  {
   "cell_type": "code",
   "execution_count": 59,
   "metadata": {
    "button": false,
    "new_sheet": false,
    "run_control": {
     "read_only": false
    }
   },
   "outputs": [
    {
     "name": "stdout",
     "output_type": "stream",
     "text": [
      "0 1 1 2 3 5 8 13 21 34 55 89 144 233 377 610 987 "
     ]
    }
   ],
   "source": [
    "second_last_term = 0\n",
    "last_term = 1\n",
    "next_term = second_last_term + last_term\n",
    "\n",
    "print(second_last_term, last_term, end=' ')\n",
    "\n",
    "while True:\n",
    "    print(next_term, end=' ')\n",
    "    second_last_term = last_term\n",
    "    last_term = next_term\n",
    "    next_term = second_last_term + last_term\n",
    "    \n",
    "    if next_term > 1000:\n",
    "        break"
   ]
  },
  {
   "cell_type": "markdown",
   "metadata": {
    "button": false,
    "new_sheet": false,
    "run_control": {
     "read_only": false
    }
   },
   "source": [
    "**Exercise 6**\n",
    "\n",
    "Write code that sums all the digits from a string.\n",
    "\n",
    "For example: it would return `6` from the string `123abc` or `16` from the string `01100010 01100101 01100101 01110011`."
   ]
  },
  {
   "cell_type": "code",
   "execution_count": null,
   "metadata": {
    "button": false,
    "collapsed": true,
    "new_sheet": false,
    "run_control": {
     "read_only": false
    }
   },
   "outputs": [],
   "source": [
    "string_8_1 = \"123abc\"\n",
    "string_8_2 = \"01100010 01100101 01100101 01110011\"\n",
    "string_8_3 = \"251\""
   ]
  },
  {
   "cell_type": "code",
   "execution_count": 61,
   "metadata": {
    "button": false,
    "new_sheet": false,
    "run_control": {
     "read_only": false
    }
   },
   "outputs": [
    {
     "name": "stdout",
     "output_type": "stream",
     "text": [
      "16\n"
     ]
    }
   ],
   "source": [
    "total = 0\n",
    "\n",
    "for character in string_1:\n",
    "    if character.isdigit(): # could alternative use: if character in '0123456789'\n",
    "        total += int(character)\n",
    "\n",
    "print(total)"
   ]
  },
  {
   "cell_type": "code",
   "execution_count": 64,
   "metadata": {
    "button": false,
    "new_sheet": false,
    "run_control": {
     "read_only": false
    }
   },
   "outputs": [
    {
     "name": "stdout",
     "output_type": "stream",
     "text": [
      "16\n"
     ]
    }
   ],
   "source": [
    "# alternatively, could write (similarly to some previous exercises):\n",
    "\n",
    "digits = '0123456789' # each character is only a digit if it is one of these 10 digits\n",
    "total = 0\n",
    "\n",
    "for character in string_2:\n",
    "    if character in digits:\n",
    "        total += int(character)\n",
    "\n",
    "print(total)"
   ]
  },
  {
   "cell_type": "markdown",
   "metadata": {
    "button": false,
    "new_sheet": false,
    "run_control": {
     "read_only": false
    }
   },
   "source": [
    "**Exercise 7** \n",
    "\n",
    "Write code that counts the number of times the phrase `hi` appears in a string. \n",
    "Assume that the string comprises of only lowercase letters.\n",
    "Your code should print the number of times `hi` appears, as well as a string of `hi` that is printed as many times as it appears in the original string.\n",
    "\n",
    "So, the string `hi hello how are you?` should result in `1 hi`, and the string `hi hi hi i'm excited to see you!`, should print `3 hihihi`."
   ]
  },
  {
   "cell_type": "code",
   "execution_count": 6,
   "metadata": {
    "button": false,
    "new_sheet": false,
    "run_control": {
     "read_only": false
    }
   },
   "outputs": [
    {
     "ename": "IndexError",
     "evalue": "string index out of range",
     "output_type": "error",
     "traceback": [
      "\u001b[0;31m---------------------------------------------------------------------------\u001b[0m",
      "\u001b[0;31mIndexError\u001b[0m                                Traceback (most recent call last)",
      "\u001b[0;32m<ipython-input-6-d6b672b2df99>\u001b[0m in \u001b[0;36m<module>\u001b[0;34m\u001b[0m\n\u001b[1;32m      5\u001b[0m \u001b[0;34m\u001b[0m\u001b[0m\n\u001b[1;32m      6\u001b[0m \u001b[0;32mfor\u001b[0m \u001b[0mindex\u001b[0m \u001b[0;32min\u001b[0m \u001b[0mrange\u001b[0m\u001b[0;34m(\u001b[0m\u001b[0mlen\u001b[0m\u001b[0;34m(\u001b[0m\u001b[0mhi_string\u001b[0m\u001b[0;34m)\u001b[0m\u001b[0;34m)\u001b[0m\u001b[0;34m:\u001b[0m\u001b[0;34m\u001b[0m\u001b[0;34m\u001b[0m\u001b[0m\n\u001b[0;32m----> 7\u001b[0;31m     \u001b[0;32mif\u001b[0m \u001b[0mhi_string\u001b[0m\u001b[0;34m[\u001b[0m\u001b[0mindex\u001b[0m\u001b[0;34m]\u001b[0m \u001b[0;34m==\u001b[0m \u001b[0;34m'h'\u001b[0m \u001b[0;32mand\u001b[0m \u001b[0mhi_string\u001b[0m\u001b[0;34m[\u001b[0m\u001b[0mindex\u001b[0m \u001b[0;34m+\u001b[0m \u001b[0;36m1\u001b[0m\u001b[0;34m]\u001b[0m \u001b[0;34m==\u001b[0m \u001b[0;34m'i'\u001b[0m\u001b[0;34m:\u001b[0m\u001b[0;34m\u001b[0m\u001b[0;34m\u001b[0m\u001b[0m\n\u001b[0m\u001b[1;32m      8\u001b[0m             \u001b[0mhi_count\u001b[0m \u001b[0;34m+=\u001b[0m \u001b[0;36m1\u001b[0m\u001b[0;34m\u001b[0m\u001b[0;34m\u001b[0m\u001b[0m\n\u001b[1;32m      9\u001b[0m \u001b[0;34m\u001b[0m\u001b[0m\n",
      "\u001b[0;31mIndexError\u001b[0m: string index out of range"
     ]
    }
   ],
   "source": [
    "# hi_string = 'hi hello how are you?'\n",
    "hi_string = \"hi hi high\"\n",
    "\n",
    "hi_count = 0\n",
    "\n",
    "for index in range(len(hi_string)):\n",
    "    if hi_string[index] == 'h' and hi_string[index + 1] == 'i':\n",
    "            hi_count += 1\n",
    "\n",
    "print(hi_count, hi_count * 'hi')"
   ]
  },
  {
   "cell_type": "code",
   "execution_count": 7,
   "metadata": {
    "button": false,
    "new_sheet": false,
    "run_control": {
     "read_only": false
    }
   },
   "outputs": [
    {
     "name": "stdout",
     "output_type": "stream",
     "text": [
      "3 hihihi\n"
     ]
    }
   ],
   "source": [
    "# second attempt: change the bounds on the for loop\n",
    "\n",
    "hi_string = \"hi hi high\"\n",
    "\n",
    "hi_count = 0\n",
    "\n",
    "for index in range(len(hi_string) - 1):\n",
    "    if hi_string[index] == 'h' and hi_string[index + 1] == 'i':\n",
    "        hi_count += 1\n",
    "\n",
    "print(hi_count, hi_count * 'hi')"
   ]
  },
  {
   "cell_type": "code",
   "execution_count": 1,
   "metadata": {
    "button": false,
    "new_sheet": false,
    "run_control": {
     "read_only": false
    }
   },
   "outputs": [
    {
     "name": "stdout",
     "output_type": "stream",
     "text": [
      "3 hihihi\n"
     ]
    }
   ],
   "source": [
    "# alternative method: better for scaling up to longer substrings\n",
    "\n",
    "hi_string = \"hi hi high\"\n",
    "\n",
    "hi_count = 0\n",
    "\n",
    "for index in range(len(hi_string) - 1):\n",
    "    if hi_string[index:index+2] == 'hi':\n",
    "        hi_count += 1\n",
    "        \n",
    "print(hi_count, hi_count * 'hi')"
   ]
  }
 ],
 "metadata": {
  "kernelspec": {
   "display_name": "Python 3",
   "language": "python",
   "name": "python3"
  },
  "language_info": {
   "codemirror_mode": {
    "name": "ipython",
    "version": 3
   },
   "file_extension": ".py",
   "mimetype": "text/x-python",
   "name": "python",
   "nbconvert_exporter": "python",
   "pygments_lexer": "ipython3",
   "version": "3.7.1"
  }
 },
 "nbformat": 4,
 "nbformat_minor": 2
}
