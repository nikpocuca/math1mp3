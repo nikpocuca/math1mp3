{
 "cells": [
  {
   "cell_type": "code",
   "execution_count": 81,
   "metadata": {},
   "outputs": [],
   "source": [
    "import numpy as np\n",
    "import matplotlib.pyplot as plt"
   ]
  },
  {
   "cell_type": "markdown",
   "metadata": {},
   "source": [
    "Topics\n",
    "  * Differential equations with indicator functions, and,\n",
    "  * PyPlot and NumPy, of course.\n",
    "\n",
    "___\n",
    "\n",
    "Reference: Zill's First Course in Differential Equations with Modelling Applications 11th edition, chapters 3.1 and 3.2."
   ]
  },
  {
   "cell_type": "markdown",
   "metadata": {},
   "source": [
    "**Exercise 1.**\n",
    "_A Simple Introduction to Indicator Functions._\n",
    "\n",
    "Consider the following differential equation:\n",
    "\n",
    "$$\n",
    "y' + 2y = f(t)\n",
    "$$\n",
    "\n",
    "where \n",
    "\n",
    "$$\n",
    "f(t) = \\left\\{\n",
    "\\begin{array}{ll}\n",
    "      1, & 0 ≤ t < 1 \\\\\n",
    "      0, &  1 ≤ t \\\\\n",
    "\\end{array}\n",
    "\\right.\n",
    "$$\n",
    "\n",
    "with initial condition\n",
    "\n",
    "$$\n",
    "y(0) = 0\n",
    "$$\n",
    "\n",
    "Plot the graph of $y$ with respect to $t$, for $0 \\leq t \\leq 3$.\n",
    "\n",
    "---\n",
    "\n",
    "We can rewrite the differential equation as\n",
    "\n",
    "$$\n",
    "\\frac{dy}{dt} = -2y + f(t),\n",
    "$$\n",
    "\n",
    "which we can think of as\n",
    "\n",
    "$$ \\frac{dy}{dt} = \\left\\{\n",
    "\\begin{array}{ll}\n",
    "      -2y + 1, & 0 ≤ t < 1 \\\\\n",
    "      -2y, &  1 ≤ t \\\\\n",
    "\\end{array}\n",
    "\\right.\n",
    "$$"
   ]
  },
  {
   "cell_type": "code",
   "execution_count": 150,
   "metadata": {},
   "outputs": [],
   "source": [
    "def dy_dx(t_i, y_i):\n",
    "    result = (-2 * y_i) + (1 * (t_i < 1))\n",
    "    return result"
   ]
  },
  {
   "cell_type": "code",
   "execution_count": 152,
   "metadata": {},
   "outputs": [
    {
     "data": {
      "image/png": "[encoded data removed]",
      "text/plain": [
       "<Figure size 432x288 with 1 Axes>"
      ]
     },
     "metadata": {
      "needs_background": "light"
     },
     "output_type": "display_data"
    }
   ],
   "source": [
    "t = np.linspace(0, 3, 1000)\n",
    "h = t[1] - t[0]\n",
    "\n",
    "y = np.array([0])\n",
    "\n",
    "for i in range(len(t)):\n",
    "    y_change = dy_dx(t[i], y[i])\n",
    "    y_new = y[i] + h * y_change\n",
    "    y = np.append(y, y_new)\n",
    "    \n",
    "plt.plot(t, y[1:])\n",
    "plt.show()"
   ]
  },
  {
   "cell_type": "markdown",
   "metadata": {},
   "source": [
    "**Exercise 2, part a.**\n",
    "_The Logistic Equation_\n",
    "\n",
    "A common model for population is the logistic equation, which is given by the following differential equation:\n",
    "\n",
    "$$\n",
    "\\frac{dP}{dt} = P(a - bP)\n",
    "$$\n",
    "\n",
    "Assuming $a = \\frac{2}{3}, b = \\frac{1}{100}$, and an initial population of 10, graph the population $P$ with respect to time, $t$."
   ]
  },
  {
   "cell_type": "code",
   "execution_count": 189,
   "metadata": {},
   "outputs": [],
   "source": [
    "def dP_dt(P_i, a, b):\n",
    "    result = P_i * (a - (b * P_i))\n",
    "    return result"
   ]
  },
  {
   "cell_type": "code",
   "execution_count": 190,
   "metadata": {},
   "outputs": [
    {
     "data": {
      "image/png": "[encoded data removed]",
      "text/plain": [
       "<Figure size 432x288 with 1 Axes>"
      ]
     },
     "metadata": {
      "needs_background": "light"
     },
     "output_type": "display_data"
    }
   ],
   "source": [
    "t = np.linspace(0, 10, 100)\n",
    "h = t[1] - t[0]\n",
    "\n",
    "a = 2/3\n",
    "b = 1/100\n",
    "\n",
    "P = np.array([10])\n",
    "\n",
    "for i in range(len(t)):\n",
    "    P_change = dP_dt(P[i], a, b)\n",
    "    P_new = P[i] + h*P_change\n",
    "    P = np.append(P, P_new)\n",
    "    \n",
    "plt.plot(t, P[1:])\n",
    "plt.show()"
   ]
  },
  {
   "cell_type": "markdown",
   "metadata": {},
   "source": [
    "**Exercise 2, part b.**\n",
    "_A Modification on the Logistic Equation_\n",
    "\n",
    "The logistic equation can be modified to include a \"harvesting\" term. I.e., this term accounts for a routine reduction in the population. \n",
    "\n",
    "For example, modifying the previous equation to include a harvesting term looks like:\n",
    "\n",
    "$$\n",
    "\\frac{dP}{dt} = P(a-bP) - \\frac{P}{5}\n",
    "$$\n",
    "\n",
    "---\n",
    "\n",
    "Now, assume that the population is not harvested until $t = 5$.\n",
    "Then, our differential equation is written:\n",
    "\n",
    "$$\n",
    "\\frac{dP}{dt} = \\left\\{\n",
    "\\begin{array}{ll}\n",
    "    P(a-bP), & 0 \\leq t < 5 \\\\\n",
    "    P(a-bP) - \\frac{P}{5}, & 5 \\leq t \\\\\n",
    "\\end{array}\n",
    "\\right.\n",
    "$$\n",
    "\n",
    "---\n",
    "\n",
    "With $a, b$, and the initial population the same as part a, graph the population $P$ with respect to time $t$, first without the indicator function, then, with the indicator function."
   ]
  },
  {
   "cell_type": "code",
   "execution_count": 191,
   "metadata": {},
   "outputs": [],
   "source": [
    "# first, without the indicator function"
   ]
  },
  {
   "cell_type": "code",
   "execution_count": 192,
   "metadata": {},
   "outputs": [],
   "source": [
    "def dP_dt(a, b, P_i):\n",
    "    result = (P_i * (a - (b * P_i))) - (P_i / 5)\n",
    "    return result"
   ]
  },
  {
   "cell_type": "code",
   "execution_count": 193,
   "metadata": {},
   "outputs": [
    {
     "data": {
      "image/png": "[encoded data removed]",
      "text/plain": [
       "<Figure size 432x288 with 1 Axes>"
      ]
     },
     "metadata": {
      "needs_background": "light"
     },
     "output_type": "display_data"
    }
   ],
   "source": [
    "t = np.linspace(0, 10, 100)\n",
    "h = t[1] - t[0]\n",
    "\n",
    "a = 2/3\n",
    "b = 1/100\n",
    "\n",
    "P = np.array([10])\n",
    "\n",
    "for i in range(len(t)):\n",
    "    P_change = dP_dt(a, b, P[i])\n",
    "    P_new = P[i] + h*P_change\n",
    "    P = np.append(P, P_new)\n",
    "    \n",
    "plt.plot(t, P[1:])\n",
    "plt.show()"
   ]
  },
  {
   "cell_type": "code",
   "execution_count": 194,
   "metadata": {},
   "outputs": [],
   "source": [
    "# now, with the indicator function, kicking in at t = 5"
   ]
  },
  {
   "cell_type": "code",
   "execution_count": 195,
   "metadata": {},
   "outputs": [],
   "source": [
    "def dP_dt(a, b, P_i, t_i, t_v):\n",
    "    result = (P_i * (a - (b * P_i))) - (P_i / 5)*(t_i >= t_v)\n",
    "    return result"
   ]
  },
  {
   "cell_type": "code",
   "execution_count": 196,
   "metadata": {},
   "outputs": [
    {
     "data": {
      "image/png": "[encoded data removed]",
      "text/plain": [
       "<Figure size 432x288 with 1 Axes>"
      ]
     },
     "metadata": {
      "needs_background": "light"
     },
     "output_type": "display_data"
    }
   ],
   "source": [
    "t = np.linspace(0, 10, 100)\n",
    "h = t[1] - t[0]\n",
    "\n",
    "a = 2/3\n",
    "b = 1/100\n",
    "t_v = 5\n",
    "\n",
    "P = np.array([10])\n",
    "\n",
    "for i in range(len(t)):\n",
    "    P_change = dP_dt(a, b, P[i], t[i], t_v)\n",
    "    P_new = P[i] + h*P_change\n",
    "    P = np.append(P, P_new)\n",
    "    \n",
    "plt.plot(t, P[1:])\n",
    "plt.show()"
   ]
  },
  {
   "cell_type": "markdown",
   "metadata": {},
   "source": [
    "**Exercise 3.** _Newton's Law of Cooling/Warming_\n",
    "\n",
    "Newton's empirical law of cooling states that the temperature of some object $T$ with respect to time $t$, when placed in an environment with some ambient temperature $T_m$, satisfies the following differential equation:\n",
    "\n",
    "$$\n",
    "\\frac{dT}{dt} = k(T-T_m)\n",
    "$$\n",
    "\n",
    "where $k$ is some constant. For this exercise, take $T$ and $T_m$ to be temperatures in Fahrenheit.\n",
    "\n",
    "---\n",
    "\n",
    "Suppose we are baking a cake.\n",
    "The cake is placed in an oven which has **not** been preheated; they are both initially at room temperature, 70˚ F.\n",
    "\n",
    "Over the course of the next 4 minutes, the temperature of the oven increases linearly to 300˚.\n",
    "The cake is then remains in the oven for an additional 16 minutes. \n",
    "\n",
    "Suppose $k = \\frac{1}{3}\\text{log}\\left( \\frac{13}{23} \\right)$ (where log is the natural logarithm), and plot the graph of the temperature of the cake, $T$ with respect to time, $t$.\n",
    "\n",
    "---\n",
    "\n",
    "We first calculate $T_m$ at each time $t$.\n",
    "We know that:\n",
    "  * $T_m(0) = 70$\n",
    "  * $T_m(4) = 300$\n",
    "  * While $0 \\leq t < 4$, $T_m$ increases linearly\n",
    "\n",
    "During this period of increase, we calculate the slope:\n",
    "\n",
    "$$\n",
    "m = \\frac{300-70}{4-0} = \\frac{115}{2}\n",
    "$$\n",
    "\n",
    "So, we can express $T_m$ thusly:\n",
    "\n",
    "$$\n",
    "T_m = \\left\\{\n",
    "\\begin{array}{ll}\n",
    "       70 + \\frac{115}{2}t, & 0 ≤ t < 4 \\\\\n",
    "       300, & 4 \\leq t \\leq 20.\\\\\n",
    "\\end{array}\n",
    "\\right.\n",
    "$$"
   ]
  },
  {
   "cell_type": "code",
   "execution_count": 96,
   "metadata": {},
   "outputs": [],
   "source": [
    "def dT_dt(k, T_i, t_i):\n",
    "    result = k * ( T_i - ( (70 + 115*t_i/2)*(0 <= t_i < 4) + (300)*(4 <= t_i) ) )\n",
    "    return result"
   ]
  },
  {
   "cell_type": "code",
   "execution_count": 103,
   "metadata": {
    "scrolled": true
   },
   "outputs": [
    {
     "data": {
      "image/png": "[encoded data removed]",
      "text/plain": [
       "<Figure size 432x288 with 1 Axes>"
      ]
     },
     "metadata": {
      "needs_background": "light"
     },
     "output_type": "display_data"
    }
   ],
   "source": [
    "t = np.linspace(0, 20, 2000)\n",
    "h = t[1] - t[0]\n",
    "k = (1/3) * np.log(13/23)\n",
    "\n",
    "T = np.array([70])\n",
    "\n",
    "for i in range(len(t)):\n",
    "    T_change = dT_dt(k, T[i], t[i])\n",
    "    T_new = T[i] + h*T_change\n",
    "    T = np.append(T, T_new)\n",
    "    \n",
    "plt.plot(t, T[1:])\n",
    "plt.title('Temperature')\n",
    "plt.show()"
   ]
  },
  {
   "cell_type": "markdown",
   "metadata": {},
   "source": [
    "**Exercise 4.** _Circuits_\n",
    "\n",
    "For a circuit, \n",
    "  * $R$ the resistance in ohms, \n",
    "  * $L$ is the inductance in henry, \n",
    "  * $i(t)$ is the current $i$ with respect to time $t$, and,\n",
    "  * $E(t)$ is the impressed voltage, again with respect to time $t$.\n",
    "\n",
    "In a circuit, Kirchoff's second law states that the sum of the voltage drop across the inductor ($L(di/dt)$) and the voltage drop across the resistor ($iR$) is the same as the impressed voltage ($E(t)$) on the circuit. \n",
    "\n",
    "So, we can use the following differential equation to model this sytem:\n",
    "\n",
    "$$\n",
    "L\\frac{di}{dt} + Ri = E(t)\n",
    "$$\n",
    "\n",
    "--- \n",
    "\n",
    "Suppose the following electromotive force\n",
    "\n",
    "$$\n",
    "E(t) = \\left\\{\n",
    "\\begin{array}{ll}\n",
    "       120, & 0 ≤ t < 20 \\\\\n",
    "       0, & 20 ≤ t \\\\\n",
    "\\end{array}\n",
    "\\right.\n",
    "$$\n",
    "\n",
    "is applied to an $LR$-series circuit \\[a circuit as above\\] in which the inductance is 20 henry and the resistance is 2 ohms.\n",
    "Plot the graph of the current with respect to time, given that $i(0)=0$.\n",
    "\n",
    "---\n",
    "\n",
    "From the above, we have:\n",
    "  * Inductance, $L = 20$,\n",
    "  * Resistance, $R = 2$,\n",
    "  * Initial value of current, $i(0) = 0$.\n",
    "\n",
    "Since we have $L \\neq 0$, we can rearrange the differential equation, solving for $\\frac{di}{dt}$,\n",
    "\n",
    "$$\n",
    "\\frac{di}{dt} = \\frac{E(t) - R\\cdot i(t)}{L}\n",
    "$$"
   ]
  },
  {
   "cell_type": "code",
   "execution_count": 113,
   "metadata": {},
   "outputs": [],
   "source": [
    "def di_dt(R, i_t, L, t):\n",
    "    result = ( (120 * (0 <= t < 20)) - (R * i_t) ) / L\n",
    "    return result"
   ]
  },
  {
   "cell_type": "code",
   "execution_count": 197,
   "metadata": {},
   "outputs": [
    {
     "data": {
      "image/png": "[encoded data removed]",
      "text/plain": [
       "<Figure size 432x288 with 1 Axes>"
      ]
     },
     "metadata": {
      "needs_background": "light"
     },
     "output_type": "display_data"
    }
   ],
   "source": [
    "t = np.linspace(0, 40, 400)\n",
    "h = t[1] - t[0]\n",
    "\n",
    "L = 20\n",
    "R = 2\n",
    "\n",
    "i = np.array([0])\n",
    "\n",
    "for k in range(len(t)):\n",
    "    i_change = di_dt(R, i[k], L, t[k])\n",
    "    i_new = i[k] + h*i_change\n",
    "    i = np.append(i, i_new)\n",
    "    \n",
    "plt.plot(t, i[1:])\n",
    "plt.show()"
   ]
  },
  {
   "cell_type": "markdown",
   "metadata": {},
   "source": [
    "**Exercise 5.** _Revisiting Harvesting Populations_\n",
    "\n",
    "From last tutorial, recall that we can model a population with seasonal fluctuations with the following differential equation:\n",
    "\n",
    "$$\n",
    "\\frac{dP}{dt} = P(t)(k\\cdot\\text{cos}(t)),\n",
    "$$\n",
    "\n",
    "where $k$ is some positive constant.\n",
    "\n",
    "Suppose now that after $t=15$ units of time, a flat rate of the population is continuously harvested. Our differential equation now reads, for some positive constant $s$:\n",
    "\n",
    "$$\n",
    "\\frac{dP}{dt} = \\left\\{\n",
    "\\begin{array}{ll}\n",
    "    P(t)(k\\cdot\\text{cos}(t)), & 0 \\leq t < t_v \\\\\n",
    "    P(t)(k\\cdot\\text{cos}(t)) - s, & t_v \\leq t \\leq 30 \\\\\n",
    "\\end{array}\n",
    "\\right.\n",
    "$$\n",
    "\n",
    "Plot the graph of population with respect to time. Assume an initial population of 100, as well as $k = \\frac{1}{10}$, $s = 5$, and $t_v = 15$."
   ]
  },
  {
   "cell_type": "code",
   "execution_count": 206,
   "metadata": {},
   "outputs": [],
   "source": [
    "def dP_dt(P_i, t_i, k, s, t_v):\n",
    "    result = P_i * (k * np.cos(t_i)) - s * (t_i >= t_v)\n",
    "    return result"
   ]
  },
  {
   "cell_type": "code",
   "execution_count": 207,
   "metadata": {},
   "outputs": [
    {
     "data": {
      "image/png": "[encoded data removed]",
      "text/plain": [
       "<Figure size 432x288 with 1 Axes>"
      ]
     },
     "metadata": {
      "needs_background": "light"
     },
     "output_type": "display_data"
    }
   ],
   "source": [
    "t = np.linspace(0, 30, 1000)\n",
    "h = t[1] - t[0]\n",
    "\n",
    "k = 1/10\n",
    "s = 5\n",
    "t_v = 15\n",
    "\n",
    "P = np.array([100])\n",
    "\n",
    "for i in range(len(t)):\n",
    "    P_change = dP_dt(P[i], t[i], k, s, t_v)\n",
    "    P_new = P[i] + h*P_change\n",
    "    P = np.append(P, P_new)\n",
    "    \n",
    "plt.plot(t, P[1:])\n",
    "plt.show()"
   ]
  },
  {
   "cell_type": "code",
   "execution_count": null,
   "metadata": {},
   "outputs": [],
   "source": []
  }
 ],
 "metadata": {
  "kernelspec": {
   "display_name": "Python 3",
   "language": "python",
   "name": "python3"
  },
  "language_info": {
   "codemirror_mode": {
    "name": "ipython",
    "version": 3
   },
   "file_extension": ".py",
   "mimetype": "text/x-python",
   "name": "python",
   "nbconvert_exporter": "python",
   "pygments_lexer": "ipython3",
   "version": "3.7.1"
  }
 },
 "nbformat": 4,
 "nbformat_minor": 2
}
