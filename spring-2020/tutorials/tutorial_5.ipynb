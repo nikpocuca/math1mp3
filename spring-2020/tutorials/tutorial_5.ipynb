{
 "cells": [
  {
   "cell_type": "markdown",
   "metadata": {},
   "source": [
    "Today's tutorial will cover:\n",
    "  * NumPy,\n",
    "  * PyPlot, and,\n",
    "  * NumPy Random"
   ]
  },
  {
   "cell_type": "code",
   "execution_count": 4,
   "metadata": {},
   "outputs": [],
   "source": [
    "import math as m\n",
    "import numpy as np\n",
    "from matplotlib import pyplot as plt\n",
    "import numpy.random as random"
   ]
  },
  {
   "cell_type": "markdown",
   "metadata": {},
   "source": [
    "**Exercise 1**\n",
    "\n",
    "Write a function that takes a numpy array as input, and returns a numpy array consisting of only the negative values of the given array."
   ]
  },
  {
   "cell_type": "code",
   "execution_count": 5,
   "metadata": {},
   "outputs": [],
   "source": [
    "# how would we do this for a python list?\n",
    "def neg_list(python_list):\n",
    "    output = []\n",
    "    for entry in python_list:\n",
    "        if entry < 0:\n",
    "            output.append(entry)\n",
    "    return output"
   ]
  },
  {
   "cell_type": "code",
   "execution_count": 6,
   "metadata": {},
   "outputs": [
    {
     "name": "stdout",
     "output_type": "stream",
     "text": [
      "[1]\n"
     ]
    }
   ],
   "source": [
    "a = np.array([1, 2])\n",
    "b = [True, False]\n",
    "print(a[b])"
   ]
  },
  {
   "cell_type": "code",
   "execution_count": 7,
   "metadata": {},
   "outputs": [],
   "source": [
    "def neg_array(np_arr):\n",
    "    negatives = np_arr < 0\n",
    "#     print(negatives)\n",
    "    return np_arr[negatives]"
   ]
  },
  {
   "cell_type": "code",
   "execution_count": 8,
   "metadata": {},
   "outputs": [],
   "source": [
    "arr_1 = np.array([-1, 1, -2, 2, 0])\n",
    "arr_2 = np.arange(-10, 10, 2)\n",
    "arr_3 = np.array(0)"
   ]
  },
  {
   "cell_type": "code",
   "execution_count": 9,
   "metadata": {},
   "outputs": [
    {
     "name": "stdout",
     "output_type": "stream",
     "text": [
      "[-1 -2]\n",
      "[-10  -8  -6  -4  -2]\n",
      "[]\n"
     ]
    }
   ],
   "source": [
    "print(neg_array(arr_1))\n",
    "print(neg_array(arr_2))\n",
    "print(neg_array(arr_3))"
   ]
  },
  {
   "cell_type": "markdown",
   "metadata": {},
   "source": [
    "**Exercise 2**\n",
    "\n",
    "Write a function that takes a one-dimensional numpy array and two numbers, `m` and `n`.\n",
    "If possible, reshape the array to have dimensions `(m, n)`.\n",
    "If it is not possible to reshape, return `False`."
   ]
  },
  {
   "cell_type": "code",
   "execution_count": 8,
   "metadata": {},
   "outputs": [],
   "source": [
    "def reshape_arr(array, m, n):\n",
    "    if m * n == len(array):\n",
    "        return array.reshape(m, n)\n",
    "    else:\n",
    "        return False"
   ]
  },
  {
   "cell_type": "code",
   "execution_count": 9,
   "metadata": {},
   "outputs": [],
   "source": [
    "# what if i don't know the necessary condition is m * n == len(array)?\n",
    "# python can handle the error for us...\n",
    "def reshape_arr_2(array, m, n):\n",
    "    try:\n",
    "        return array.reshape(m, n)\n",
    "    except:\n",
    "        return False"
   ]
  },
  {
   "cell_type": "code",
   "execution_count": 10,
   "metadata": {},
   "outputs": [
    {
     "name": "stdout",
     "output_type": "stream",
     "text": [
      "[1 2 3 4 5 6 7 8 9] \n",
      "\n",
      "[[1 2 3]\n",
      " [4 5 6]\n",
      " [7 8 9]]\n",
      "[[1 2 3]\n",
      " [4 5 6]\n",
      " [7 8 9]] \n",
      "\n",
      "False\n",
      "False\n"
     ]
    }
   ],
   "source": [
    "arr_1 = np.arange(1, 10)\n",
    "print(arr_1, \"\\n\")\n",
    "\n",
    "print(reshape_arr(arr_1, 3, 3))\n",
    "print(reshape_arr_2(arr_1, 3, 3), \"\\n\")\n",
    "\n",
    "print(reshape_arr(arr_1, 5, 5))\n",
    "print(reshape_arr_2(arr_1, 5, 5))"
   ]
  },
  {
   "cell_type": "markdown",
   "metadata": {},
   "source": [
    "**Exercise 3**\n",
    "\n",
    "Write a function that takes a numpy array of unspecified dimension and returns a one-dimensional numpy array with all the elements in the same order.\n",
    "\n",
    "This is similar to question 4 from homework 1, except we cannot have nested arrays like we can without numpy (arrays like `[1, 2, [3, [4]]]` don't work well in numpy)"
   ]
  },
  {
   "cell_type": "code",
   "execution_count": 11,
   "metadata": {},
   "outputs": [],
   "source": [
    "def flatten_array(array):\n",
    "    return array.flatten()"
   ]
  },
  {
   "cell_type": "code",
   "execution_count": 12,
   "metadata": {},
   "outputs": [
    {
     "name": "stdout",
     "output_type": "stream",
     "text": [
      "[[1 2]\n",
      " [3 4]] \n",
      "\n",
      "[[ 1  2  3  4  5  6  7  8]\n",
      " [ 9 10 11 12 13 14 15 16]\n",
      " [17 18 19 20 21 22 23 24]] \n",
      "\n",
      "[1 2 3 4]\n",
      "[ 1  2  3  4  5  6  7  8  9 10 11 12 13 14 15 16 17 18 19 20 21 22 23 24]\n"
     ]
    }
   ],
   "source": [
    "a = np.array([[1, 2], [3, 4]])\n",
    "b = np.array([np.arange(1,9), np.arange(9, 17), np.arange(17, 25)])\n",
    "\n",
    "print(a, \"\\n\")\n",
    "print(b, \"\\n\")\n",
    "\n",
    "print(flatten_array(a))\n",
    "print(flatten_array(b))"
   ]
  },
  {
   "cell_type": "markdown",
   "metadata": {},
   "source": [
    "**Exercise 4**\n",
    "\n",
    "Write a function that takes a numpy matrix and returns the same matrix, but with all of the border entries replaced with `0`.\n",
    "The function should work for matrices of size `1 x 1` or greater."
   ]
  },
  {
   "cell_type": "code",
   "execution_count": 13,
   "metadata": {},
   "outputs": [],
   "source": [
    "def push_zeroes(mat):\n",
    "    mat[:, 0] = 0\n",
    "    mat[:, -1] = 0\n",
    "    mat[0, :] = 0\n",
    "    mat[-1, :] = 0\n",
    "    return mat"
   ]
  },
  {
   "cell_type": "code",
   "execution_count": 14,
   "metadata": {},
   "outputs": [
    {
     "name": "stdout",
     "output_type": "stream",
     "text": [
      "[[6. 5. 5. 5. 5.]\n",
      " [5. 6. 5. 5. 5.]\n",
      " [5. 5. 6. 5. 5.]\n",
      " [5. 5. 5. 6. 5.]\n",
      " [5. 5. 5. 5. 6.]] \n",
      "\n",
      "[[0. 0. 0. 0. 0.]\n",
      " [0. 6. 5. 5. 0.]\n",
      " [0. 5. 6. 5. 0.]\n",
      " [0. 5. 5. 6. 0.]\n",
      " [0. 0. 0. 0. 0.]]\n"
     ]
    }
   ],
   "source": [
    "# mat_a = np.ones((10, 10))\n",
    "# print(mat_a, \"\\n\")\n",
    "# print(push_zeroes(mat_a))\n",
    "\n",
    "# mat_b = np.eye(7)\n",
    "# print(mat_b, \"\\n\")\n",
    "# print(push_zeroes(mat_b))\n",
    "\n",
    "mat_c = 5 * np.ones((5, 5))\n",
    "mat_c += np.eye(5)\n",
    "print(mat_c, \"\\n\")\n",
    "print(push_zeroes(mat_c))"
   ]
  },
  {
   "cell_type": "markdown",
   "metadata": {},
   "source": [
    "**Exercise 5**\n",
    "\n",
    "Plot the following piecewise function.\n",
    "\n",
    "$$ h(x)=   \\left\\{\n",
    "\\begin{array}{ll}\n",
    "      xe^{-x/3} & -1 < x < 1 \\\\\n",
    "      e^{-x/10}\\text{sin}(2\\pi x) - 1 & 1 < x < 8 \\\\\n",
    "      (x-8)^3 - 5 & 8 < x < 10 \\\\\n",
    "\\end{array} \n",
    "\\right.  $$"
   ]
  },
  {
   "cell_type": "code",
   "execution_count": 10,
   "metadata": {},
   "outputs": [
    {
     "data": {
      "image/png": "[encoded data removed]",
      "text/plain": [
       "<Figure size 432x288 with 1 Axes>"
      ]
     },
     "metadata": {
      "needs_background": "light"
     },
     "output_type": "display_data"
    }
   ],
   "source": [
    "x_1 = np.linspace(-1, 1, 100)\n",
    "h_1 = x_1 * np.exp((-x_1)/3)\n",
    "plt.plot(x_1, h_1, label=\"h1(x)\")\n",
    "\n",
    "x_2 = np.linspace(1, 8, 1000)\n",
    "h_2 = np.sin(2*m.pi*(x_2)) * np.exp(-(x_2)/10) - 1\n",
    "plt.plot(x_2, h_2, label=\"h2(x)\")\n",
    "\n",
    "x_3 = np.linspace(8, 10, 100)\n",
    "h_3 = (x_3-8) ** 3 - 5\n",
    "plt.plot(x_3, h_3, label=\"h3(x)\")\n",
    "\n",
    "plt.legend()\n",
    "plt.show()"
   ]
  },
  {
   "cell_type": "markdown",
   "metadata": {},
   "source": [
    "**Exercise 6**\n",
    "\n",
    "You're playing a game with two friends that involves a dice and two coins. You assign \"heads\" to have a value of 1, and \"tails\" a value of 0. Someone rolls the dice, flips the two coins and adds up the total. \n",
    "\n",
    "  * You win if the total is less than 1, 3, or 7.\n",
    "  * Your first friend wins if the total is 4 or 5.\n",
    "  * Your second friend wins if the total is 2, 6, or 8. \n",
    "\n",
    "Is the game fair? If not, who is most likely to win?\n",
    "\n",
    "---\n",
    "\n",
    "What would happen if the following scoring system is used instead?\n",
    "  * You win if the total is 1, 5, or 8.\n",
    "  * Your first friend wins if the total is 3 or 4.\n",
    "  * Your second friend wins if the total is 2, 6, or 7.\n",
    "\n",
    "\n",
    "---\n",
    "\n",
    "_We want to write a function that simulates one round of the game, and a second function to run a whole bunch of sample rounds_"
   ]
  },
  {
   "cell_type": "code",
   "execution_count": 28,
   "metadata": {},
   "outputs": [],
   "source": [
    "# going to use three different random methods, though random.randint is obviously the\n",
    "# best option for all three random calculations\n",
    "\n",
    "def sample_round():\n",
    "    \"\"\"We will return 0 if you win, 1 if your first friend wins, \n",
    "    and 2 if your second friend wins\"\"\"\n",
    "    \n",
    "    # roll a dice\n",
    "    points = random.randint(1,7)\n",
    "    ## gives a random integer from [0, 7) (AKA [0, 6])\n",
    "    \n",
    "    # flip two coins\n",
    "    flip_1 = random.random()\n",
    "    ## gives a random float from [0, 1)\n",
    "    ## this is equivalent to random.sample()\n",
    "    if flip_1 < 0.5:\n",
    "        points += 0\n",
    "    else: \n",
    "        points += 1\n",
    "    \n",
    "    flip_2 = random.choice([0, 1])\n",
    "    ## gives 0 or 1\n",
    "    points += flip_2\n",
    "    \n",
    "    # who wins?\n",
    "    if points == 1 or points == 5 or points == 8:\n",
    "        return 0\n",
    "    elif 3 <= points <= 4:\n",
    "        return 1\n",
    "    else:\n",
    "        return 2\n",
    "    \n",
    "def simulate(num_rounds):\n",
    "    \"\"\"num_rounds is the number of desired rounds\n",
    "    returns a list of the form [a, b, c] where a is the number of times you win,\n",
    "    b is the number of times your first friend wins, and c is the number\n",
    "    of times your second friend wins\"\"\"\n",
    "    \n",
    "    win_total = [0, 0, 0]\n",
    "    for i in range(num_rounds):\n",
    "        winner = sample_round()\n",
    "        win_total[winner] += 1\n",
    "    \n",
    "    # create a pie chart\n",
    "    plt.pie(win_total, labels=['you', 'friend 1', 'friend 2'], autopct='%.2f')\n",
    "    \n",
    "    plt.show()"
   ]
  },
  {
   "cell_type": "code",
   "execution_count": 29,
   "metadata": {},
   "outputs": [
    {
     "data": {
      "image/png": "[encoded data removed]",
      "text/plain": [
       "<Figure size 432x288 with 1 Axes>"
      ]
     },
     "metadata": {},
     "output_type": "display_data"
    }
   ],
   "source": [
    "simulate(1000)"
   ]
  }
 ],
 "metadata": {
  "kernelspec": {
   "display_name": "Python 3",
   "language": "python",
   "name": "python3"
  },
  "language_info": {
   "codemirror_mode": {
    "name": "ipython",
    "version": 3
   },
   "file_extension": ".py",
   "mimetype": "text/x-python",
   "name": "python",
   "nbconvert_exporter": "python",
   "pygments_lexer": "ipython3",
   "version": "3.7.1"
  }
 },
 "nbformat": 4,
 "nbformat_minor": 2
}
