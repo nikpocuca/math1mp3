{
 "cells": [
  {
   "cell_type": "markdown",
   "metadata": {},
   "source": [
    "**Tutorial May 25**\n",
    "\n",
    "We will review:\n",
    "  * Midterm,\n",
    "  * Homework 1,\n",
    "  * Homework 2, and,\n",
    "  * Dictionaries\n",
    "  \n",
    "In Wednesday's tutorial, we will focus heavily on NumPy.\n",
    "\n",
    "___ \n",
    "\n",
    "Submit your assignment as a Jupyter notebook file called `yourmacid_hw1.ipynb`, where `yourmacid` is replaced with your MacID from your McMaster email address. (For example: since my McMaster email address is pocucan@mcmaster.ca, I would submit a file called `pocucan_hw1.ipynb`.)\n",
    "\n",
    "To complete your assignment, edit the function definitions in this template (then rename the file appropriately, as above). (Don't forget to use appropriate `return()` statements in your functions!) **Do not alter any other part of this template.**\n",
    "\n",
    "While developing and testing your code, it might be helpful to use\n",
    "`print` statements, but please remove them before submitting your solution. The template contains several `assert` statements that when executed will test your code"
   ]
  },
  {
   "cell_type": "markdown",
   "metadata": {},
   "source": [
    "**Exercise**\n",
    "\n",
    "The keys in a dictionary are unique, however, the values in a dictionary are not. \n",
    "Write a function that takes a dictionary as input, and returns a new dictionary with the values of the original dictionary as keys.\n",
    "The values corresponding to these keys will be the number of times each value appears in the original dictionary.\n",
    "\n",
    "---\n",
    "\n",
    "E.g., calling the function with respect to `{1: 'hi', 2: 'hello', 3: 'hi', 4: 'goodbye', 5: 'goodbye'}` should return the dictionary `{'hi': 2, 'hello': 1, 'goodbye': 2}`"
   ]
  },
  {
   "cell_type": "code",
   "execution_count": 1,
   "metadata": {},
   "outputs": [],
   "source": [
    "def count_values(dictionary):\n",
    "    output = {}\n",
    "    for value in dictionary.values():\n",
    "        if value not in output:\n",
    "            output[value] = 1\n",
    "        else:\n",
    "            output[value] += 1\n",
    "    return output"
   ]
  },
  {
   "cell_type": "code",
   "execution_count": 2,
   "metadata": {},
   "outputs": [
    {
     "name": "stdout",
     "output_type": "stream",
     "text": [
      "{'hi': 2, 'hello': 1, 'goodbye': 2}\n",
      "{}\n",
      "{'a': 3, 'b': 2, 'c': 2, 'd': 2, 'e': 1, 'f': 1, 'g': 2}\n"
     ]
    }
   ],
   "source": [
    "print(count_values({1: 'hi', 2: 'hello', 3: 'hi', 4: 'goodbye', 5: 'goodbye'}))\n",
    "print(count_values({}))\n",
    "\n",
    "print(count_values({'apple': 'a', 'apricot': 'a', 'avocado': 'a', 'banana': 'b', 'blueberry': 'b', 'coconut': 'c', 'cucumber': 'c', 'date': 'd', 'dragonfruit': 'd', 'eggplant': 'e', 'fig': 'f', 'grapes': 'g', 'grapefruit': 'g'}))"
   ]
  },
  {
   "cell_type": "code",
   "execution_count": 3,
   "metadata": {},
   "outputs": [],
   "source": [
    "# we can do the same thing with a try/except block\n",
    "def count_values_2(dictionary):\n",
    "    output = {}\n",
    "    for value in dictionary.values():\n",
    "        try:\n",
    "            output[value] += 1\n",
    "        except:\n",
    "            output[value] = 1\n",
    "    return output"
   ]
  },
  {
   "cell_type": "code",
   "execution_count": 4,
   "metadata": {},
   "outputs": [
    {
     "name": "stdout",
     "output_type": "stream",
     "text": [
      "{'hi': 2, 'hello': 1, 'goodbye': 2}\n",
      "{}\n",
      "{'a': 3, 'b': 2, 'c': 2, 'd': 2, 'e': 1, 'f': 1, 'g': 2}\n"
     ]
    }
   ],
   "source": [
    "print(count_values_2({1: 'hi', 2: 'hello', 3: 'hi', 4: 'goodbye', 5: 'goodbye'}))\n",
    "print(count_values_2({}))\n",
    "\n",
    "print(count_values_2({'apple': 'a', 'apricot': 'a', 'avocado': 'a', 'banana': 'b', 'blueberry': 'b', 'coconut': 'c', 'cucumber': 'c', 'date': 'd', 'dragonfruit': 'd', 'eggplant': 'e', 'fig': 'f', 'grapes': 'g', 'grapefruit': 'g'}))"
   ]
  },
  {
   "cell_type": "code",
   "execution_count": null,
   "metadata": {},
   "outputs": [],
   "source": []
  }
 ],
 "metadata": {
  "kernelspec": {
   "display_name": "Python 3",
   "language": "python",
   "name": "python3"
  },
  "language_info": {
   "codemirror_mode": {
    "name": "ipython",
    "version": 3
   },
   "file_extension": ".py",
   "mimetype": "text/x-python",
   "name": "python",
   "nbconvert_exporter": "python",
   "pygments_lexer": "ipython3",
   "version": "3.7.1"
  }
 },
 "nbformat": 4,
 "nbformat_minor": 2
}
